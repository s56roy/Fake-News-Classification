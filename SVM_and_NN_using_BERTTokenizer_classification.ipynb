{
  "nbformat": 4,
  "nbformat_minor": 5,
  "metadata": {
    "kernelspec": {
      "display_name": "Python 3",
      "language": "python",
      "name": "python3"
    },
    "language_info": {
      "codemirror_mode": {
        "name": "ipython",
        "version": 3
      },
      "file_extension": ".py",
      "mimetype": "text/x-python",
      "name": "python",
      "nbconvert_exporter": "python",
      "pygments_lexer": "ipython3",
      "version": "3.6.13"
    },
    "colab": {
      "name": "SVM and NN using BERTTokenizer classification.ipynb",
      "provenance": [],
      "include_colab_link": true
    },
    "widgets": {
      "application/vnd.jupyter.widget-state+json": {
        "6bc62ef29aca42fd853fae4f726adcbf": {
          "model_module": "@jupyter-widgets/controls",
          "model_name": "HBoxModel",
          "state": {
            "_view_name": "HBoxView",
            "_dom_classes": [],
            "_model_name": "HBoxModel",
            "_view_module": "@jupyter-widgets/controls",
            "_model_module_version": "1.5.0",
            "_view_count": null,
            "_view_module_version": "1.5.0",
            "box_style": "",
            "layout": "IPY_MODEL_33f89165a2854eec89c5a07f4f7891d1",
            "_model_module": "@jupyter-widgets/controls",
            "children": [
              "IPY_MODEL_97ba3a8b9b5d4e01b23313d43c3e3262",
              "IPY_MODEL_201eca51fe1d4ba3a9dc54572078de87"
            ]
          }
        },
        "33f89165a2854eec89c5a07f4f7891d1": {
          "model_module": "@jupyter-widgets/base",
          "model_name": "LayoutModel",
          "state": {
            "_view_name": "LayoutView",
            "grid_template_rows": null,
            "right": null,
            "justify_content": null,
            "_view_module": "@jupyter-widgets/base",
            "overflow": null,
            "_model_module_version": "1.2.0",
            "_view_count": null,
            "flex_flow": null,
            "width": null,
            "min_width": null,
            "border": null,
            "align_items": null,
            "bottom": null,
            "_model_module": "@jupyter-widgets/base",
            "top": null,
            "grid_column": null,
            "overflow_y": null,
            "overflow_x": null,
            "grid_auto_flow": null,
            "grid_area": null,
            "grid_template_columns": null,
            "flex": null,
            "_model_name": "LayoutModel",
            "justify_items": null,
            "grid_row": null,
            "max_height": null,
            "align_content": null,
            "visibility": null,
            "align_self": null,
            "height": null,
            "min_height": null,
            "padding": null,
            "grid_auto_rows": null,
            "grid_gap": null,
            "max_width": null,
            "order": null,
            "_view_module_version": "1.2.0",
            "grid_template_areas": null,
            "object_position": null,
            "object_fit": null,
            "grid_auto_columns": null,
            "margin": null,
            "display": null,
            "left": null
          }
        },
        "97ba3a8b9b5d4e01b23313d43c3e3262": {
          "model_module": "@jupyter-widgets/controls",
          "model_name": "FloatProgressModel",
          "state": {
            "_view_name": "ProgressView",
            "style": "IPY_MODEL_32ba3b3f197d4274a2e2c0f4cbb48b75",
            "_dom_classes": [],
            "description": "Downloading: ",
            "_model_name": "FloatProgressModel",
            "bar_style": "success",
            "max": 1667,
            "_view_module": "@jupyter-widgets/controls",
            "_model_module_version": "1.5.0",
            "value": 1667,
            "_view_count": null,
            "_view_module_version": "1.5.0",
            "orientation": "horizontal",
            "min": 0,
            "description_tooltip": null,
            "_model_module": "@jupyter-widgets/controls",
            "layout": "IPY_MODEL_941b36c6a2344193b3ce0c5226a923ba"
          }
        },
        "201eca51fe1d4ba3a9dc54572078de87": {
          "model_module": "@jupyter-widgets/controls",
          "model_name": "HTMLModel",
          "state": {
            "_view_name": "HTMLView",
            "style": "IPY_MODEL_96e1b408abbd47dcb133d37537496595",
            "_dom_classes": [],
            "description": "",
            "_model_name": "HTMLModel",
            "placeholder": "​",
            "_view_module": "@jupyter-widgets/controls",
            "_model_module_version": "1.5.0",
            "value": " 4.37k/? [00:00&lt;00:00, 7.88kB/s]",
            "_view_count": null,
            "_view_module_version": "1.5.0",
            "description_tooltip": null,
            "_model_module": "@jupyter-widgets/controls",
            "layout": "IPY_MODEL_90683a59e8144d938b0d82a2a7df0aaf"
          }
        },
        "32ba3b3f197d4274a2e2c0f4cbb48b75": {
          "model_module": "@jupyter-widgets/controls",
          "model_name": "ProgressStyleModel",
          "state": {
            "_view_name": "StyleView",
            "_model_name": "ProgressStyleModel",
            "description_width": "initial",
            "_view_module": "@jupyter-widgets/base",
            "_model_module_version": "1.5.0",
            "_view_count": null,
            "_view_module_version": "1.2.0",
            "bar_color": null,
            "_model_module": "@jupyter-widgets/controls"
          }
        },
        "941b36c6a2344193b3ce0c5226a923ba": {
          "model_module": "@jupyter-widgets/base",
          "model_name": "LayoutModel",
          "state": {
            "_view_name": "LayoutView",
            "grid_template_rows": null,
            "right": null,
            "justify_content": null,
            "_view_module": "@jupyter-widgets/base",
            "overflow": null,
            "_model_module_version": "1.2.0",
            "_view_count": null,
            "flex_flow": null,
            "width": null,
            "min_width": null,
            "border": null,
            "align_items": null,
            "bottom": null,
            "_model_module": "@jupyter-widgets/base",
            "top": null,
            "grid_column": null,
            "overflow_y": null,
            "overflow_x": null,
            "grid_auto_flow": null,
            "grid_area": null,
            "grid_template_columns": null,
            "flex": null,
            "_model_name": "LayoutModel",
            "justify_items": null,
            "grid_row": null,
            "max_height": null,
            "align_content": null,
            "visibility": null,
            "align_self": null,
            "height": null,
            "min_height": null,
            "padding": null,
            "grid_auto_rows": null,
            "grid_gap": null,
            "max_width": null,
            "order": null,
            "_view_module_version": "1.2.0",
            "grid_template_areas": null,
            "object_position": null,
            "object_fit": null,
            "grid_auto_columns": null,
            "margin": null,
            "display": null,
            "left": null
          }
        },
        "96e1b408abbd47dcb133d37537496595": {
          "model_module": "@jupyter-widgets/controls",
          "model_name": "DescriptionStyleModel",
          "state": {
            "_view_name": "StyleView",
            "_model_name": "DescriptionStyleModel",
            "description_width": "",
            "_view_module": "@jupyter-widgets/base",
            "_model_module_version": "1.5.0",
            "_view_count": null,
            "_view_module_version": "1.2.0",
            "_model_module": "@jupyter-widgets/controls"
          }
        },
        "90683a59e8144d938b0d82a2a7df0aaf": {
          "model_module": "@jupyter-widgets/base",
          "model_name": "LayoutModel",
          "state": {
            "_view_name": "LayoutView",
            "grid_template_rows": null,
            "right": null,
            "justify_content": null,
            "_view_module": "@jupyter-widgets/base",
            "overflow": null,
            "_model_module_version": "1.2.0",
            "_view_count": null,
            "flex_flow": null,
            "width": null,
            "min_width": null,
            "border": null,
            "align_items": null,
            "bottom": null,
            "_model_module": "@jupyter-widgets/base",
            "top": null,
            "grid_column": null,
            "overflow_y": null,
            "overflow_x": null,
            "grid_auto_flow": null,
            "grid_area": null,
            "grid_template_columns": null,
            "flex": null,
            "_model_name": "LayoutModel",
            "justify_items": null,
            "grid_row": null,
            "max_height": null,
            "align_content": null,
            "visibility": null,
            "align_self": null,
            "height": null,
            "min_height": null,
            "padding": null,
            "grid_auto_rows": null,
            "grid_gap": null,
            "max_width": null,
            "order": null,
            "_view_module_version": "1.2.0",
            "grid_template_areas": null,
            "object_position": null,
            "object_fit": null,
            "grid_auto_columns": null,
            "margin": null,
            "display": null,
            "left": null
          }
        },
        "9d7d4e1e2ca246c8b07d8711fd6bc0ff": {
          "model_module": "@jupyter-widgets/controls",
          "model_name": "HBoxModel",
          "state": {
            "_view_name": "HBoxView",
            "_dom_classes": [],
            "_model_name": "HBoxModel",
            "_view_module": "@jupyter-widgets/controls",
            "_model_module_version": "1.5.0",
            "_view_count": null,
            "_view_module_version": "1.5.0",
            "box_style": "",
            "layout": "IPY_MODEL_c163e84e5b8d4ab4b2a3fca1681f0b87",
            "_model_module": "@jupyter-widgets/controls",
            "children": [
              "IPY_MODEL_7bc9cb84ac89459698c5de71c6b25658",
              "IPY_MODEL_6d621b7722c34f2eb6e5bb938c9a01ec"
            ]
          }
        },
        "c163e84e5b8d4ab4b2a3fca1681f0b87": {
          "model_module": "@jupyter-widgets/base",
          "model_name": "LayoutModel",
          "state": {
            "_view_name": "LayoutView",
            "grid_template_rows": null,
            "right": null,
            "justify_content": null,
            "_view_module": "@jupyter-widgets/base",
            "overflow": null,
            "_model_module_version": "1.2.0",
            "_view_count": null,
            "flex_flow": null,
            "width": null,
            "min_width": null,
            "border": null,
            "align_items": null,
            "bottom": null,
            "_model_module": "@jupyter-widgets/base",
            "top": null,
            "grid_column": null,
            "overflow_y": null,
            "overflow_x": null,
            "grid_auto_flow": null,
            "grid_area": null,
            "grid_template_columns": null,
            "flex": null,
            "_model_name": "LayoutModel",
            "justify_items": null,
            "grid_row": null,
            "max_height": null,
            "align_content": null,
            "visibility": null,
            "align_self": null,
            "height": null,
            "min_height": null,
            "padding": null,
            "grid_auto_rows": null,
            "grid_gap": null,
            "max_width": null,
            "order": null,
            "_view_module_version": "1.2.0",
            "grid_template_areas": null,
            "object_position": null,
            "object_fit": null,
            "grid_auto_columns": null,
            "margin": null,
            "display": null,
            "left": null
          }
        },
        "7bc9cb84ac89459698c5de71c6b25658": {
          "model_module": "@jupyter-widgets/controls",
          "model_name": "FloatProgressModel",
          "state": {
            "_view_name": "ProgressView",
            "style": "IPY_MODEL_890bb1e8ab72412d8bae5dcd10e8ae5b",
            "_dom_classes": [],
            "description": "Downloading: ",
            "_model_name": "FloatProgressModel",
            "bar_style": "success",
            "max": 665,
            "_view_module": "@jupyter-widgets/controls",
            "_model_module_version": "1.5.0",
            "value": 665,
            "_view_count": null,
            "_view_module_version": "1.5.0",
            "orientation": "horizontal",
            "min": 0,
            "description_tooltip": null,
            "_model_module": "@jupyter-widgets/controls",
            "layout": "IPY_MODEL_12477538d5c04428b9af3ce4727b025a"
          }
        },
        "6d621b7722c34f2eb6e5bb938c9a01ec": {
          "model_module": "@jupyter-widgets/controls",
          "model_name": "HTMLModel",
          "state": {
            "_view_name": "HTMLView",
            "style": "IPY_MODEL_d4e050a429224d0f8f25d3f7e9e4cf63",
            "_dom_classes": [],
            "description": "",
            "_model_name": "HTMLModel",
            "placeholder": "​",
            "_view_module": "@jupyter-widgets/controls",
            "_model_module_version": "1.5.0",
            "value": " 2.94k/? [00:01&lt;00:00, 2.03kB/s]",
            "_view_count": null,
            "_view_module_version": "1.5.0",
            "description_tooltip": null,
            "_model_module": "@jupyter-widgets/controls",
            "layout": "IPY_MODEL_8362e735fb5f4483b4301ec5b31b4fe5"
          }
        },
        "890bb1e8ab72412d8bae5dcd10e8ae5b": {
          "model_module": "@jupyter-widgets/controls",
          "model_name": "ProgressStyleModel",
          "state": {
            "_view_name": "StyleView",
            "_model_name": "ProgressStyleModel",
            "description_width": "initial",
            "_view_module": "@jupyter-widgets/base",
            "_model_module_version": "1.5.0",
            "_view_count": null,
            "_view_module_version": "1.2.0",
            "bar_color": null,
            "_model_module": "@jupyter-widgets/controls"
          }
        },
        "12477538d5c04428b9af3ce4727b025a": {
          "model_module": "@jupyter-widgets/base",
          "model_name": "LayoutModel",
          "state": {
            "_view_name": "LayoutView",
            "grid_template_rows": null,
            "right": null,
            "justify_content": null,
            "_view_module": "@jupyter-widgets/base",
            "overflow": null,
            "_model_module_version": "1.2.0",
            "_view_count": null,
            "flex_flow": null,
            "width": null,
            "min_width": null,
            "border": null,
            "align_items": null,
            "bottom": null,
            "_model_module": "@jupyter-widgets/base",
            "top": null,
            "grid_column": null,
            "overflow_y": null,
            "overflow_x": null,
            "grid_auto_flow": null,
            "grid_area": null,
            "grid_template_columns": null,
            "flex": null,
            "_model_name": "LayoutModel",
            "justify_items": null,
            "grid_row": null,
            "max_height": null,
            "align_content": null,
            "visibility": null,
            "align_self": null,
            "height": null,
            "min_height": null,
            "padding": null,
            "grid_auto_rows": null,
            "grid_gap": null,
            "max_width": null,
            "order": null,
            "_view_module_version": "1.2.0",
            "grid_template_areas": null,
            "object_position": null,
            "object_fit": null,
            "grid_auto_columns": null,
            "margin": null,
            "display": null,
            "left": null
          }
        },
        "d4e050a429224d0f8f25d3f7e9e4cf63": {
          "model_module": "@jupyter-widgets/controls",
          "model_name": "DescriptionStyleModel",
          "state": {
            "_view_name": "StyleView",
            "_model_name": "DescriptionStyleModel",
            "description_width": "",
            "_view_module": "@jupyter-widgets/base",
            "_model_module_version": "1.5.0",
            "_view_count": null,
            "_view_module_version": "1.2.0",
            "_model_module": "@jupyter-widgets/controls"
          }
        },
        "8362e735fb5f4483b4301ec5b31b4fe5": {
          "model_module": "@jupyter-widgets/base",
          "model_name": "LayoutModel",
          "state": {
            "_view_name": "LayoutView",
            "grid_template_rows": null,
            "right": null,
            "justify_content": null,
            "_view_module": "@jupyter-widgets/base",
            "overflow": null,
            "_model_module_version": "1.2.0",
            "_view_count": null,
            "flex_flow": null,
            "width": null,
            "min_width": null,
            "border": null,
            "align_items": null,
            "bottom": null,
            "_model_module": "@jupyter-widgets/base",
            "top": null,
            "grid_column": null,
            "overflow_y": null,
            "overflow_x": null,
            "grid_auto_flow": null,
            "grid_area": null,
            "grid_template_columns": null,
            "flex": null,
            "_model_name": "LayoutModel",
            "justify_items": null,
            "grid_row": null,
            "max_height": null,
            "align_content": null,
            "visibility": null,
            "align_self": null,
            "height": null,
            "min_height": null,
            "padding": null,
            "grid_auto_rows": null,
            "grid_gap": null,
            "max_width": null,
            "order": null,
            "_view_module_version": "1.2.0",
            "grid_template_areas": null,
            "object_position": null,
            "object_fit": null,
            "grid_auto_columns": null,
            "margin": null,
            "display": null,
            "left": null
          }
        },
        "18033a50de29448693a01df02758ce98": {
          "model_module": "@jupyter-widgets/controls",
          "model_name": "HBoxModel",
          "state": {
            "_view_name": "HBoxView",
            "_dom_classes": [],
            "_model_name": "HBoxModel",
            "_view_module": "@jupyter-widgets/controls",
            "_model_module_version": "1.5.0",
            "_view_count": null,
            "_view_module_version": "1.5.0",
            "box_style": "",
            "layout": "IPY_MODEL_47f7464391a64a5e8e6571cc7fd28a52",
            "_model_module": "@jupyter-widgets/controls",
            "children": [
              "IPY_MODEL_68dbb9528ff74e49b76e432cbcc1f1ef",
              "IPY_MODEL_36a043b5810a4e5f94d134a41507d82d"
            ]
          }
        },
        "47f7464391a64a5e8e6571cc7fd28a52": {
          "model_module": "@jupyter-widgets/base",
          "model_name": "LayoutModel",
          "state": {
            "_view_name": "LayoutView",
            "grid_template_rows": null,
            "right": null,
            "justify_content": null,
            "_view_module": "@jupyter-widgets/base",
            "overflow": null,
            "_model_module_version": "1.2.0",
            "_view_count": null,
            "flex_flow": null,
            "width": null,
            "min_width": null,
            "border": null,
            "align_items": null,
            "bottom": null,
            "_model_module": "@jupyter-widgets/base",
            "top": null,
            "grid_column": null,
            "overflow_y": null,
            "overflow_x": null,
            "grid_auto_flow": null,
            "grid_area": null,
            "grid_template_columns": null,
            "flex": null,
            "_model_name": "LayoutModel",
            "justify_items": null,
            "grid_row": null,
            "max_height": null,
            "align_content": null,
            "visibility": null,
            "align_self": null,
            "height": null,
            "min_height": null,
            "padding": null,
            "grid_auto_rows": null,
            "grid_gap": null,
            "max_width": null,
            "order": null,
            "_view_module_version": "1.2.0",
            "grid_template_areas": null,
            "object_position": null,
            "object_fit": null,
            "grid_auto_columns": null,
            "margin": null,
            "display": null,
            "left": null
          }
        },
        "68dbb9528ff74e49b76e432cbcc1f1ef": {
          "model_module": "@jupyter-widgets/controls",
          "model_name": "FloatProgressModel",
          "state": {
            "_view_name": "ProgressView",
            "style": "IPY_MODEL_d724935a0c454a80baa0e8ff3d34c2b3",
            "_dom_classes": [],
            "description": "Downloading: 100%",
            "_model_name": "FloatProgressModel",
            "bar_style": "success",
            "max": 671896,
            "_view_module": "@jupyter-widgets/controls",
            "_model_module_version": "1.5.0",
            "value": 671896,
            "_view_count": null,
            "_view_module_version": "1.5.0",
            "orientation": "horizontal",
            "min": 0,
            "description_tooltip": null,
            "_model_module": "@jupyter-widgets/controls",
            "layout": "IPY_MODEL_20e0776bbd5e447e9174c05ee1fdab85"
          }
        },
        "36a043b5810a4e5f94d134a41507d82d": {
          "model_module": "@jupyter-widgets/controls",
          "model_name": "HTMLModel",
          "state": {
            "_view_name": "HTMLView",
            "style": "IPY_MODEL_99404a29a64e496d92c501747f012fe5",
            "_dom_classes": [],
            "description": "",
            "_model_name": "HTMLModel",
            "placeholder": "​",
            "_view_module": "@jupyter-widgets/controls",
            "_model_module_version": "1.5.0",
            "value": " 672k/672k [00:00&lt;00:00, 2.64MB/s]",
            "_view_count": null,
            "_view_module_version": "1.5.0",
            "description_tooltip": null,
            "_model_module": "@jupyter-widgets/controls",
            "layout": "IPY_MODEL_0e6bb69ff85342b8af5af20b3ee85e58"
          }
        },
        "d724935a0c454a80baa0e8ff3d34c2b3": {
          "model_module": "@jupyter-widgets/controls",
          "model_name": "ProgressStyleModel",
          "state": {
            "_view_name": "StyleView",
            "_model_name": "ProgressStyleModel",
            "description_width": "initial",
            "_view_module": "@jupyter-widgets/base",
            "_model_module_version": "1.5.0",
            "_view_count": null,
            "_view_module_version": "1.2.0",
            "bar_color": null,
            "_model_module": "@jupyter-widgets/controls"
          }
        },
        "20e0776bbd5e447e9174c05ee1fdab85": {
          "model_module": "@jupyter-widgets/base",
          "model_name": "LayoutModel",
          "state": {
            "_view_name": "LayoutView",
            "grid_template_rows": null,
            "right": null,
            "justify_content": null,
            "_view_module": "@jupyter-widgets/base",
            "overflow": null,
            "_model_module_version": "1.2.0",
            "_view_count": null,
            "flex_flow": null,
            "width": null,
            "min_width": null,
            "border": null,
            "align_items": null,
            "bottom": null,
            "_model_module": "@jupyter-widgets/base",
            "top": null,
            "grid_column": null,
            "overflow_y": null,
            "overflow_x": null,
            "grid_auto_flow": null,
            "grid_area": null,
            "grid_template_columns": null,
            "flex": null,
            "_model_name": "LayoutModel",
            "justify_items": null,
            "grid_row": null,
            "max_height": null,
            "align_content": null,
            "visibility": null,
            "align_self": null,
            "height": null,
            "min_height": null,
            "padding": null,
            "grid_auto_rows": null,
            "grid_gap": null,
            "max_width": null,
            "order": null,
            "_view_module_version": "1.2.0",
            "grid_template_areas": null,
            "object_position": null,
            "object_fit": null,
            "grid_auto_columns": null,
            "margin": null,
            "display": null,
            "left": null
          }
        },
        "99404a29a64e496d92c501747f012fe5": {
          "model_module": "@jupyter-widgets/controls",
          "model_name": "DescriptionStyleModel",
          "state": {
            "_view_name": "StyleView",
            "_model_name": "DescriptionStyleModel",
            "description_width": "",
            "_view_module": "@jupyter-widgets/base",
            "_model_module_version": "1.5.0",
            "_view_count": null,
            "_view_module_version": "1.2.0",
            "_model_module": "@jupyter-widgets/controls"
          }
        },
        "0e6bb69ff85342b8af5af20b3ee85e58": {
          "model_module": "@jupyter-widgets/base",
          "model_name": "LayoutModel",
          "state": {
            "_view_name": "LayoutView",
            "grid_template_rows": null,
            "right": null,
            "justify_content": null,
            "_view_module": "@jupyter-widgets/base",
            "overflow": null,
            "_model_module_version": "1.2.0",
            "_view_count": null,
            "flex_flow": null,
            "width": null,
            "min_width": null,
            "border": null,
            "align_items": null,
            "bottom": null,
            "_model_module": "@jupyter-widgets/base",
            "top": null,
            "grid_column": null,
            "overflow_y": null,
            "overflow_x": null,
            "grid_auto_flow": null,
            "grid_area": null,
            "grid_template_columns": null,
            "flex": null,
            "_model_name": "LayoutModel",
            "justify_items": null,
            "grid_row": null,
            "max_height": null,
            "align_content": null,
            "visibility": null,
            "align_self": null,
            "height": null,
            "min_height": null,
            "padding": null,
            "grid_auto_rows": null,
            "grid_gap": null,
            "max_width": null,
            "order": null,
            "_view_module_version": "1.2.0",
            "grid_template_areas": null,
            "object_position": null,
            "object_fit": null,
            "grid_auto_columns": null,
            "margin": null,
            "display": null,
            "left": null
          }
        },
        "22810d90e69f413fad5b0fc34c3ff17a": {
          "model_module": "@jupyter-widgets/controls",
          "model_name": "HBoxModel",
          "state": {
            "_view_name": "HBoxView",
            "_dom_classes": [],
            "_model_name": "HBoxModel",
            "_view_module": "@jupyter-widgets/controls",
            "_model_module_version": "1.5.0",
            "_view_count": null,
            "_view_module_version": "1.5.0",
            "box_style": "",
            "layout": "IPY_MODEL_3eafe408679c4e02aeb1b2234db20e5e",
            "_model_module": "@jupyter-widgets/controls",
            "children": [
              "IPY_MODEL_d7f8e7892ca148c987f2f185e89507f0",
              "IPY_MODEL_df0b6331313048bcad374fc0fe7a1d1b"
            ]
          }
        },
        "3eafe408679c4e02aeb1b2234db20e5e": {
          "model_module": "@jupyter-widgets/base",
          "model_name": "LayoutModel",
          "state": {
            "_view_name": "LayoutView",
            "grid_template_rows": null,
            "right": null,
            "justify_content": null,
            "_view_module": "@jupyter-widgets/base",
            "overflow": null,
            "_model_module_version": "1.2.0",
            "_view_count": null,
            "flex_flow": null,
            "width": null,
            "min_width": null,
            "border": null,
            "align_items": null,
            "bottom": null,
            "_model_module": "@jupyter-widgets/base",
            "top": null,
            "grid_column": null,
            "overflow_y": null,
            "overflow_x": null,
            "grid_auto_flow": null,
            "grid_area": null,
            "grid_template_columns": null,
            "flex": null,
            "_model_name": "LayoutModel",
            "justify_items": null,
            "grid_row": null,
            "max_height": null,
            "align_content": null,
            "visibility": null,
            "align_self": null,
            "height": null,
            "min_height": null,
            "padding": null,
            "grid_auto_rows": null,
            "grid_gap": null,
            "max_width": null,
            "order": null,
            "_view_module_version": "1.2.0",
            "grid_template_areas": null,
            "object_position": null,
            "object_fit": null,
            "grid_auto_columns": null,
            "margin": null,
            "display": null,
            "left": null
          }
        },
        "d7f8e7892ca148c987f2f185e89507f0": {
          "model_module": "@jupyter-widgets/controls",
          "model_name": "FloatProgressModel",
          "state": {
            "_view_name": "ProgressView",
            "style": "IPY_MODEL_a6929af3e9b94e83baa7fd17748df89a",
            "_dom_classes": [],
            "description": "",
            "_model_name": "FloatProgressModel",
            "bar_style": "info",
            "max": 1,
            "_view_module": "@jupyter-widgets/controls",
            "_model_module_version": "1.5.0",
            "value": 1,
            "_view_count": null,
            "_view_module_version": "1.5.0",
            "orientation": "horizontal",
            "min": 0,
            "description_tooltip": null,
            "_model_module": "@jupyter-widgets/controls",
            "layout": "IPY_MODEL_bba910efdf5b4b4981ef6fff35845c17"
          }
        },
        "df0b6331313048bcad374fc0fe7a1d1b": {
          "model_module": "@jupyter-widgets/controls",
          "model_name": "HTMLModel",
          "state": {
            "_view_name": "HTMLView",
            "style": "IPY_MODEL_cbd744c643394cc992b53fbf646a078c",
            "_dom_classes": [],
            "description": "",
            "_model_name": "HTMLModel",
            "placeholder": "​",
            "_view_module": "@jupyter-widgets/controls",
            "_model_module_version": "1.5.0",
            "value": " 5632/0 [00:02&lt;00:00,  1.63 examples/s]",
            "_view_count": null,
            "_view_module_version": "1.5.0",
            "description_tooltip": null,
            "_model_module": "@jupyter-widgets/controls",
            "layout": "IPY_MODEL_521cd872a811448aa4e0fb2792d5ad39"
          }
        },
        "a6929af3e9b94e83baa7fd17748df89a": {
          "model_module": "@jupyter-widgets/controls",
          "model_name": "ProgressStyleModel",
          "state": {
            "_view_name": "StyleView",
            "_model_name": "ProgressStyleModel",
            "description_width": "initial",
            "_view_module": "@jupyter-widgets/base",
            "_model_module_version": "1.5.0",
            "_view_count": null,
            "_view_module_version": "1.2.0",
            "bar_color": null,
            "_model_module": "@jupyter-widgets/controls"
          }
        },
        "bba910efdf5b4b4981ef6fff35845c17": {
          "model_module": "@jupyter-widgets/base",
          "model_name": "LayoutModel",
          "state": {
            "_view_name": "LayoutView",
            "grid_template_rows": null,
            "right": null,
            "justify_content": null,
            "_view_module": "@jupyter-widgets/base",
            "overflow": null,
            "_model_module_version": "1.2.0",
            "_view_count": null,
            "flex_flow": null,
            "width": null,
            "min_width": null,
            "border": null,
            "align_items": null,
            "bottom": null,
            "_model_module": "@jupyter-widgets/base",
            "top": null,
            "grid_column": null,
            "overflow_y": null,
            "overflow_x": null,
            "grid_auto_flow": null,
            "grid_area": null,
            "grid_template_columns": null,
            "flex": null,
            "_model_name": "LayoutModel",
            "justify_items": null,
            "grid_row": null,
            "max_height": null,
            "align_content": null,
            "visibility": null,
            "align_self": null,
            "height": null,
            "min_height": null,
            "padding": null,
            "grid_auto_rows": null,
            "grid_gap": null,
            "max_width": null,
            "order": null,
            "_view_module_version": "1.2.0",
            "grid_template_areas": null,
            "object_position": null,
            "object_fit": null,
            "grid_auto_columns": null,
            "margin": null,
            "display": null,
            "left": null
          }
        },
        "cbd744c643394cc992b53fbf646a078c": {
          "model_module": "@jupyter-widgets/controls",
          "model_name": "DescriptionStyleModel",
          "state": {
            "_view_name": "StyleView",
            "_model_name": "DescriptionStyleModel",
            "description_width": "",
            "_view_module": "@jupyter-widgets/base",
            "_model_module_version": "1.5.0",
            "_view_count": null,
            "_view_module_version": "1.2.0",
            "_model_module": "@jupyter-widgets/controls"
          }
        },
        "521cd872a811448aa4e0fb2792d5ad39": {
          "model_module": "@jupyter-widgets/base",
          "model_name": "LayoutModel",
          "state": {
            "_view_name": "LayoutView",
            "grid_template_rows": null,
            "right": null,
            "justify_content": null,
            "_view_module": "@jupyter-widgets/base",
            "overflow": null,
            "_model_module_version": "1.2.0",
            "_view_count": null,
            "flex_flow": null,
            "width": null,
            "min_width": null,
            "border": null,
            "align_items": null,
            "bottom": null,
            "_model_module": "@jupyter-widgets/base",
            "top": null,
            "grid_column": null,
            "overflow_y": null,
            "overflow_x": null,
            "grid_auto_flow": null,
            "grid_area": null,
            "grid_template_columns": null,
            "flex": null,
            "_model_name": "LayoutModel",
            "justify_items": null,
            "grid_row": null,
            "max_height": null,
            "align_content": null,
            "visibility": null,
            "align_self": null,
            "height": null,
            "min_height": null,
            "padding": null,
            "grid_auto_rows": null,
            "grid_gap": null,
            "max_width": null,
            "order": null,
            "_view_module_version": "1.2.0",
            "grid_template_areas": null,
            "object_position": null,
            "object_fit": null,
            "grid_auto_columns": null,
            "margin": null,
            "display": null,
            "left": null
          }
        }
      }
    }
  },
  "cells": [
    {
      "cell_type": "markdown",
      "metadata": {
        "id": "view-in-github",
        "colab_type": "text"
      },
      "source": [
        "<a href=\"https://colab.research.google.com/github/s56roy/Fake-News-Classification/blob/main/SVM_and_NN_using_BERTTokenizer_classification.ipynb\" target=\"_parent\"><img src=\"https://colab.research.google.com/assets/colab-badge.svg\" alt=\"Open In Colab\"/></a>"
      ]
    },
    {
      "cell_type": "markdown",
      "metadata": {
        "id": "702abdd5"
      },
      "source": [
        "# 1. Data preparation"
      ],
      "id": "702abdd5"
    },
    {
      "cell_type": "code",
      "metadata": {
        "colab": {
          "base_uri": "https://localhost:8080/"
        },
        "id": "ISNuFohalM2s",
        "outputId": "4b0140b5-ca61-4ff4-d5d1-5c210dd09d6c"
      },
      "source": [
        "!pip install datasets"
      ],
      "id": "ISNuFohalM2s",
      "execution_count": 2,
      "outputs": [
        {
          "output_type": "stream",
          "text": [
            "Collecting datasets\n",
            "\u001b[?25l  Downloading https://files.pythonhosted.org/packages/94/f8/ff7cd6e3b400b33dcbbfd31c6c1481678a2b2f669f521ad20053009a9aa3/datasets-1.7.0-py3-none-any.whl (234kB)\n",
            "\u001b[K     |████████████████████████████████| 235kB 7.0MB/s \n",
            "\u001b[?25hRequirement already satisfied: packaging in /usr/local/lib/python3.7/dist-packages (from datasets) (20.9)\n",
            "Collecting fsspec\n",
            "\u001b[?25l  Downloading https://files.pythonhosted.org/packages/bc/52/816d1a3a599176057bf29dfacb1f8fadb61d35fbd96cb1bab4aaa7df83c0/fsspec-2021.5.0-py3-none-any.whl (111kB)\n",
            "\u001b[K     |████████████████████████████████| 112kB 12.2MB/s \n",
            "\u001b[?25hRequirement already satisfied: requests>=2.19.0 in /usr/local/lib/python3.7/dist-packages (from datasets) (2.23.0)\n",
            "Requirement already satisfied: multiprocess in /usr/local/lib/python3.7/dist-packages (from datasets) (0.70.11.1)\n",
            "Collecting xxhash\n",
            "\u001b[?25l  Downloading https://files.pythonhosted.org/packages/7d/4f/0a862cad26aa2ed7a7cd87178cbbfa824fc1383e472d63596a0d018374e7/xxhash-2.0.2-cp37-cp37m-manylinux2010_x86_64.whl (243kB)\n",
            "\u001b[K     |████████████████████████████████| 245kB 12.2MB/s \n",
            "\u001b[?25hRequirement already satisfied: numpy>=1.17 in /usr/local/lib/python3.7/dist-packages (from datasets) (1.19.5)\n",
            "Requirement already satisfied: pyarrow<4.0.0,>=1.0.0 in /usr/local/lib/python3.7/dist-packages (from datasets) (3.0.0)\n",
            "Requirement already satisfied: importlib-metadata; python_version < \"3.8\" in /usr/local/lib/python3.7/dist-packages (from datasets) (4.0.1)\n",
            "Requirement already satisfied: dill in /usr/local/lib/python3.7/dist-packages (from datasets) (0.3.3)\n",
            "Requirement already satisfied: pandas in /usr/local/lib/python3.7/dist-packages (from datasets) (1.1.5)\n",
            "Collecting huggingface-hub<0.1.0\n",
            "  Downloading https://files.pythonhosted.org/packages/32/a1/7c5261396da23ec364e296a4fb8a1cd6a5a2ff457215c6447038f18c0309/huggingface_hub-0.0.9-py3-none-any.whl\n",
            "Requirement already satisfied: tqdm<4.50.0,>=4.27 in /usr/local/lib/python3.7/dist-packages (from datasets) (4.41.1)\n",
            "Requirement already satisfied: pyparsing>=2.0.2 in /usr/local/lib/python3.7/dist-packages (from packaging->datasets) (2.4.7)\n",
            "Requirement already satisfied: certifi>=2017.4.17 in /usr/local/lib/python3.7/dist-packages (from requests>=2.19.0->datasets) (2020.12.5)\n",
            "Requirement already satisfied: idna<3,>=2.5 in /usr/local/lib/python3.7/dist-packages (from requests>=2.19.0->datasets) (2.10)\n",
            "Requirement already satisfied: urllib3!=1.25.0,!=1.25.1,<1.26,>=1.21.1 in /usr/local/lib/python3.7/dist-packages (from requests>=2.19.0->datasets) (1.24.3)\n",
            "Requirement already satisfied: chardet<4,>=3.0.2 in /usr/local/lib/python3.7/dist-packages (from requests>=2.19.0->datasets) (3.0.4)\n",
            "Requirement already satisfied: zipp>=0.5 in /usr/local/lib/python3.7/dist-packages (from importlib-metadata; python_version < \"3.8\"->datasets) (3.4.1)\n",
            "Requirement already satisfied: typing-extensions>=3.6.4; python_version < \"3.8\" in /usr/local/lib/python3.7/dist-packages (from importlib-metadata; python_version < \"3.8\"->datasets) (3.7.4.3)\n",
            "Requirement already satisfied: python-dateutil>=2.7.3 in /usr/local/lib/python3.7/dist-packages (from pandas->datasets) (2.8.1)\n",
            "Requirement already satisfied: pytz>=2017.2 in /usr/local/lib/python3.7/dist-packages (from pandas->datasets) (2018.9)\n",
            "Requirement already satisfied: filelock in /usr/local/lib/python3.7/dist-packages (from huggingface-hub<0.1.0->datasets) (3.0.12)\n",
            "Requirement already satisfied: six>=1.5 in /usr/local/lib/python3.7/dist-packages (from python-dateutil>=2.7.3->pandas->datasets) (1.15.0)\n",
            "Installing collected packages: fsspec, xxhash, huggingface-hub, datasets\n",
            "Successfully installed datasets-1.7.0 fsspec-2021.5.0 huggingface-hub-0.0.9 xxhash-2.0.2\n"
          ],
          "name": "stdout"
        }
      ]
    },
    {
      "cell_type": "code",
      "metadata": {
        "id": "c7f3b78b"
      },
      "source": [
        "import pandas as pd\n",
        "import torch\n",
        "from torch.utils.data import Dataset\n",
        "from torchvision import datasets\n",
        "from datasets import load_dataset"
      ],
      "id": "c7f3b78b",
      "execution_count": 3,
      "outputs": []
    },
    {
      "cell_type": "code",
      "metadata": {
        "colab": {
          "base_uri": "https://localhost:8080/",
          "height": 218,
          "referenced_widgets": [
            "6bc62ef29aca42fd853fae4f726adcbf",
            "33f89165a2854eec89c5a07f4f7891d1",
            "97ba3a8b9b5d4e01b23313d43c3e3262",
            "201eca51fe1d4ba3a9dc54572078de87",
            "32ba3b3f197d4274a2e2c0f4cbb48b75",
            "941b36c6a2344193b3ce0c5226a923ba",
            "96e1b408abbd47dcb133d37537496595",
            "90683a59e8144d938b0d82a2a7df0aaf",
            "9d7d4e1e2ca246c8b07d8711fd6bc0ff",
            "c163e84e5b8d4ab4b2a3fca1681f0b87",
            "7bc9cb84ac89459698c5de71c6b25658",
            "6d621b7722c34f2eb6e5bb938c9a01ec",
            "890bb1e8ab72412d8bae5dcd10e8ae5b",
            "12477538d5c04428b9af3ce4727b025a",
            "d4e050a429224d0f8f25d3f7e9e4cf63",
            "8362e735fb5f4483b4301ec5b31b4fe5",
            "18033a50de29448693a01df02758ce98",
            "47f7464391a64a5e8e6571cc7fd28a52",
            "68dbb9528ff74e49b76e432cbcc1f1ef",
            "36a043b5810a4e5f94d134a41507d82d",
            "d724935a0c454a80baa0e8ff3d34c2b3",
            "20e0776bbd5e447e9174c05ee1fdab85",
            "99404a29a64e496d92c501747f012fe5",
            "0e6bb69ff85342b8af5af20b3ee85e58",
            "22810d90e69f413fad5b0fc34c3ff17a",
            "3eafe408679c4e02aeb1b2234db20e5e",
            "d7f8e7892ca148c987f2f185e89507f0",
            "df0b6331313048bcad374fc0fe7a1d1b",
            "a6929af3e9b94e83baa7fd17748df89a",
            "bba910efdf5b4b4981ef6fff35845c17",
            "cbd744c643394cc992b53fbf646a078c",
            "521cd872a811448aa4e0fb2792d5ad39"
          ]
        },
        "id": "89f8c996",
        "outputId": "2108e235-7041-41ee-a71d-d35a6c7eb38f"
      },
      "source": [
        "# download dataset\n",
        "dataset = load_dataset(\"datacommons_factcheck\", \"fctchk_politifact_wapo\")"
      ],
      "id": "89f8c996",
      "execution_count": 4,
      "outputs": [
        {
          "output_type": "display_data",
          "data": {
            "application/vnd.jupyter.widget-view+json": {
              "model_id": "6bc62ef29aca42fd853fae4f726adcbf",
              "version_minor": 0,
              "version_major": 2
            },
            "text/plain": [
              "HBox(children=(FloatProgress(value=0.0, description='Downloading', max=1667.0, style=ProgressStyle(description…"
            ]
          },
          "metadata": {
            "tags": []
          }
        },
        {
          "output_type": "stream",
          "text": [
            "\n"
          ],
          "name": "stdout"
        },
        {
          "output_type": "display_data",
          "data": {
            "application/vnd.jupyter.widget-view+json": {
              "model_id": "9d7d4e1e2ca246c8b07d8711fd6bc0ff",
              "version_minor": 0,
              "version_major": 2
            },
            "text/plain": [
              "HBox(children=(FloatProgress(value=0.0, description='Downloading', max=665.0, style=ProgressStyle(description_…"
            ]
          },
          "metadata": {
            "tags": []
          }
        },
        {
          "output_type": "stream",
          "text": [
            "\n",
            "Downloading and preparing dataset datacommons_factcheck/fctchk_politifact_wapo (download: 656.15 KiB, generated: 1.69 MiB, post-processed: Unknown size, total: 2.33 MiB) to /root/.cache/huggingface/datasets/datacommons_factcheck/fctchk_politifact_wapo/1.0.0/e3861c84c3e449fb0c316b75997e30bbf723e2ca7f33c668bda07b7436567b35...\n"
          ],
          "name": "stdout"
        },
        {
          "output_type": "display_data",
          "data": {
            "application/vnd.jupyter.widget-view+json": {
              "model_id": "18033a50de29448693a01df02758ce98",
              "version_minor": 0,
              "version_major": 2
            },
            "text/plain": [
              "HBox(children=(FloatProgress(value=0.0, description='Downloading', max=671896.0, style=ProgressStyle(descripti…"
            ]
          },
          "metadata": {
            "tags": []
          }
        },
        {
          "output_type": "stream",
          "text": [
            "\n"
          ],
          "name": "stdout"
        },
        {
          "output_type": "display_data",
          "data": {
            "application/vnd.jupyter.widget-view+json": {
              "model_id": "22810d90e69f413fad5b0fc34c3ff17a",
              "version_minor": 0,
              "version_major": 2
            },
            "text/plain": [
              "HBox(children=(FloatProgress(value=1.0, bar_style='info', max=1.0), HTML(value='')))"
            ]
          },
          "metadata": {
            "tags": []
          }
        },
        {
          "output_type": "stream",
          "text": [
            "\rDataset datacommons_factcheck downloaded and prepared to /root/.cache/huggingface/datasets/datacommons_factcheck/fctchk_politifact_wapo/1.0.0/e3861c84c3e449fb0c316b75997e30bbf723e2ca7f33c668bda07b7436567b35. Subsequent calls will reuse this data.\n"
          ],
          "name": "stdout"
        }
      ]
    },
    {
      "cell_type": "code",
      "metadata": {
        "id": "8b683cb8"
      },
      "source": [
        "# convert the dataset into pandas data frame for easy manipulation\n",
        "pd_data = pd.DataFrame(dataset['train'])"
      ],
      "id": "8b683cb8",
      "execution_count": 5,
      "outputs": []
    },
    {
      "cell_type": "code",
      "metadata": {
        "colab": {
          "base_uri": "https://localhost:8080/",
          "height": 419
        },
        "id": "a7818c6b",
        "outputId": "c4823955-e243-48df-d181-964dd10b6fe0"
      },
      "source": [
        "pd_data"
      ],
      "id": "a7818c6b",
      "execution_count": 6,
      "outputs": [
        {
          "output_type": "execute_result",
          "data": {
            "text/html": [
              "<div>\n",
              "<style scoped>\n",
              "    .dataframe tbody tr th:only-of-type {\n",
              "        vertical-align: middle;\n",
              "    }\n",
              "\n",
              "    .dataframe tbody tr th {\n",
              "        vertical-align: top;\n",
              "    }\n",
              "\n",
              "    .dataframe thead th {\n",
              "        text-align: right;\n",
              "    }\n",
              "</style>\n",
              "<table border=\"1\" class=\"dataframe\">\n",
              "  <thead>\n",
              "    <tr style=\"text-align: right;\">\n",
              "      <th></th>\n",
              "      <th>claim_author_name</th>\n",
              "      <th>claim_date</th>\n",
              "      <th>claim_text</th>\n",
              "      <th>review_date</th>\n",
              "      <th>review_rating</th>\n",
              "      <th>review_url</th>\n",
              "      <th>reviewer_name</th>\n",
              "    </tr>\n",
              "  </thead>\n",
              "  <tbody>\n",
              "    <tr>\n",
              "      <th>0</th>\n",
              "      <td>Facebook posts</td>\n",
              "      <td>2019-01-01</td>\n",
              "      <td>Quotes Michelle Obama as saying, \"White folks ...</td>\n",
              "      <td>2019-01-03</td>\n",
              "      <td>Pants on Fire</td>\n",
              "      <td>https://www.politifact.com/facebook-fact-check...</td>\n",
              "      <td>PolitiFact</td>\n",
              "    </tr>\n",
              "    <tr>\n",
              "      <th>1</th>\n",
              "      <td>Ted Cruz</td>\n",
              "      <td>2018-04-11</td>\n",
              "      <td>Says Facebook shut down a \"Chick-Fil-A Appreci...</td>\n",
              "      <td>2018-04-23</td>\n",
              "      <td>Half True</td>\n",
              "      <td>https://www.politifact.com/texas/statements/20...</td>\n",
              "      <td>PolitiFact</td>\n",
              "    </tr>\n",
              "    <tr>\n",
              "      <th>2</th>\n",
              "      <td>Donald Trump</td>\n",
              "      <td>2018-06-12</td>\n",
              "      <td>\"We haven’t given up anything other than … I a...</td>\n",
              "      <td>2018-06-12</td>\n",
              "      <td>Will military drills end?</td>\n",
              "      <td>http://www.politifact.com/truth-o-meter/articl...</td>\n",
              "      <td>PolitiFact</td>\n",
              "    </tr>\n",
              "    <tr>\n",
              "      <th>3</th>\n",
              "      <td>Various websites</td>\n",
              "      <td>2017-09-03</td>\n",
              "      <td>\"BREAKING: 2 Democrat Congressmen On ISIS Payr...</td>\n",
              "      <td>2017-10-26</td>\n",
              "      <td>False</td>\n",
              "      <td>https://www.factcheck.org/2017/10/no-isis-arre...</td>\n",
              "      <td>FactCheck.org</td>\n",
              "    </tr>\n",
              "    <tr>\n",
              "      <th>4</th>\n",
              "      <td>James Woods</td>\n",
              "      <td>2016-08-27</td>\n",
              "      <td>The \"Dallas Cowboys can’t put a sticker on the...</td>\n",
              "      <td>2016-09-01</td>\n",
              "      <td>True</td>\n",
              "      <td>https://www.politifact.com/texas/statements/20...</td>\n",
              "      <td>PolitiFact</td>\n",
              "    </tr>\n",
              "    <tr>\n",
              "      <th>...</th>\n",
              "      <td>...</td>\n",
              "      <td>...</td>\n",
              "      <td>...</td>\n",
              "      <td>...</td>\n",
              "      <td>...</td>\n",
              "      <td>...</td>\n",
              "      <td>...</td>\n",
              "    </tr>\n",
              "    <tr>\n",
              "      <th>5627</th>\n",
              "      <td>Wisconsin Republican Party</td>\n",
              "      <td></td>\n",
              "      <td>Claims that Democratic candidate for governor ...</td>\n",
              "      <td>2018-08-10</td>\n",
              "      <td>Half True</td>\n",
              "      <td>https://www.politifact.com/wisconsin/statement...</td>\n",
              "      <td>PolitiFact</td>\n",
              "    </tr>\n",
              "    <tr>\n",
              "      <th>5628</th>\n",
              "      <td>Various websites</td>\n",
              "      <td>2018-05-01</td>\n",
              "      <td>\"Clint Eastwood Leaves His Estate To The Trump...</td>\n",
              "      <td>2018-05-08</td>\n",
              "      <td>False</td>\n",
              "      <td>https://www.factcheck.org/2018/05/eastwood-not...</td>\n",
              "      <td>FactCheck.org</td>\n",
              "    </tr>\n",
              "    <tr>\n",
              "      <th>5629</th>\n",
              "      <td>Donald Trump</td>\n",
              "      <td>2017-11-27</td>\n",
              "      <td>\"You were here long before any of us were here...</td>\n",
              "      <td>2017-11-27</td>\n",
              "      <td>Needs Context</td>\n",
              "      <td>https://www.washingtonpost.com/news/fact-check...</td>\n",
              "      <td>Washington Post</td>\n",
              "    </tr>\n",
              "    <tr>\n",
              "      <th>5630</th>\n",
              "      <td>Mick Mulvaney</td>\n",
              "      <td>2019-01-06</td>\n",
              "      <td>\"We had arrested 17,000 criminals at the south...</td>\n",
              "      <td>2019-01-08</td>\n",
              "      <td>Misleading</td>\n",
              "      <td>https://www.factcheck.org/2019/01/misleading-b...</td>\n",
              "      <td>FactCheck.org</td>\n",
              "    </tr>\n",
              "    <tr>\n",
              "      <th>5631</th>\n",
              "      <td>Sydney Batch</td>\n",
              "      <td>2018-10-23</td>\n",
              "      <td>John Adcock, GOP plan for health care \"would g...</td>\n",
              "      <td>2018-10-23</td>\n",
              "      <td>False</td>\n",
              "      <td>https://www.politifact.com/north-carolina/stat...</td>\n",
              "      <td>PolitiFact</td>\n",
              "    </tr>\n",
              "  </tbody>\n",
              "</table>\n",
              "<p>5632 rows × 7 columns</p>\n",
              "</div>"
            ],
            "text/plain": [
              "               claim_author_name  ...    reviewer_name\n",
              "0                 Facebook posts  ...       PolitiFact\n",
              "1                       Ted Cruz  ...       PolitiFact\n",
              "2                   Donald Trump  ...       PolitiFact\n",
              "3               Various websites  ...    FactCheck.org\n",
              "4                    James Woods  ...       PolitiFact\n",
              "...                          ...  ...              ...\n",
              "5627  Wisconsin Republican Party  ...       PolitiFact\n",
              "5628            Various websites  ...    FactCheck.org\n",
              "5629                Donald Trump  ...  Washington Post\n",
              "5630               Mick Mulvaney  ...    FactCheck.org\n",
              "5631                Sydney Batch  ...       PolitiFact\n",
              "\n",
              "[5632 rows x 7 columns]"
            ]
          },
          "metadata": {
            "tags": []
          },
          "execution_count": 6
        }
      ]
    },
    {
      "cell_type": "code",
      "metadata": {
        "colab": {
          "base_uri": "https://localhost:8080/",
          "height": 173
        },
        "id": "c385daad",
        "outputId": "937790bb-5c87-4470-d632-204c43cadbfc"
      },
      "source": [
        "pd_data.describe()"
      ],
      "id": "c385daad",
      "execution_count": 7,
      "outputs": [
        {
          "output_type": "execute_result",
          "data": {
            "text/html": [
              "<div>\n",
              "<style scoped>\n",
              "    .dataframe tbody tr th:only-of-type {\n",
              "        vertical-align: middle;\n",
              "    }\n",
              "\n",
              "    .dataframe tbody tr th {\n",
              "        vertical-align: top;\n",
              "    }\n",
              "\n",
              "    .dataframe thead th {\n",
              "        text-align: right;\n",
              "    }\n",
              "</style>\n",
              "<table border=\"1\" class=\"dataframe\">\n",
              "  <thead>\n",
              "    <tr style=\"text-align: right;\">\n",
              "      <th></th>\n",
              "      <th>claim_author_name</th>\n",
              "      <th>claim_date</th>\n",
              "      <th>claim_text</th>\n",
              "      <th>review_date</th>\n",
              "      <th>review_rating</th>\n",
              "      <th>review_url</th>\n",
              "      <th>reviewer_name</th>\n",
              "    </tr>\n",
              "  </thead>\n",
              "  <tbody>\n",
              "    <tr>\n",
              "      <th>count</th>\n",
              "      <td>5632</td>\n",
              "      <td>5632</td>\n",
              "      <td>5632</td>\n",
              "      <td>5632</td>\n",
              "      <td>5632</td>\n",
              "      <td>5632</td>\n",
              "      <td>5632</td>\n",
              "    </tr>\n",
              "    <tr>\n",
              "      <th>unique</th>\n",
              "      <td>1628</td>\n",
              "      <td>1307</td>\n",
              "      <td>5603</td>\n",
              "      <td>906</td>\n",
              "      <td>391</td>\n",
              "      <td>5632</td>\n",
              "      <td>4</td>\n",
              "    </tr>\n",
              "    <tr>\n",
              "      <th>top</th>\n",
              "      <td>Donald Trump</td>\n",
              "      <td>2016-09-26</td>\n",
              "      <td>\"I never said Russia did not meddle in the ele...</td>\n",
              "      <td>2016-07-15</td>\n",
              "      <td>False</td>\n",
              "      <td>https://www.politifact.com/truth-o-meter/state...</td>\n",
              "      <td>PolitiFact</td>\n",
              "    </tr>\n",
              "    <tr>\n",
              "      <th>freq</th>\n",
              "      <td>1263</td>\n",
              "      <td>24</td>\n",
              "      <td>3</td>\n",
              "      <td>68</td>\n",
              "      <td>1304</td>\n",
              "      <td>1</td>\n",
              "      <td>3975</td>\n",
              "    </tr>\n",
              "  </tbody>\n",
              "</table>\n",
              "</div>"
            ],
            "text/plain": [
              "       claim_author_name  ... reviewer_name\n",
              "count               5632  ...          5632\n",
              "unique              1628  ...             4\n",
              "top         Donald Trump  ...    PolitiFact\n",
              "freq                1263  ...          3975\n",
              "\n",
              "[4 rows x 7 columns]"
            ]
          },
          "metadata": {
            "tags": []
          },
          "execution_count": 7
        }
      ]
    },
    {
      "cell_type": "code",
      "metadata": {
        "id": "235dd7bf"
      },
      "source": [
        "# drop `NaN` rows\n",
        "pd_data = pd_data.dropna(axis=0)"
      ],
      "id": "235dd7bf",
      "execution_count": 8,
      "outputs": []
    },
    {
      "cell_type": "code",
      "metadata": {
        "id": "f95b0104"
      },
      "source": [
        "value_counts=pd_data['review_rating'].value_counts(normalize=True)*100"
      ],
      "id": "f95b0104",
      "execution_count": 9,
      "outputs": []
    },
    {
      "cell_type": "code",
      "metadata": {
        "colab": {
          "base_uri": "https://localhost:8080/"
        },
        "id": "PFrd-qcpB0ZV",
        "outputId": "afe92f3d-bf34-444e-d338-637f7e80e2d2"
      },
      "source": [
        "pd_data['review_rating'].describe()"
      ],
      "id": "PFrd-qcpB0ZV",
      "execution_count": 10,
      "outputs": [
        {
          "output_type": "execute_result",
          "data": {
            "text/plain": [
              "count      5632\n",
              "unique      391\n",
              "top       False\n",
              "freq       1304\n",
              "Name: review_rating, dtype: object"
            ]
          },
          "metadata": {
            "tags": []
          },
          "execution_count": 10
        }
      ]
    },
    {
      "cell_type": "code",
      "metadata": {
        "id": "xavqPRqsB4cA"
      },
      "source": [
        "# Select the values where the count is less than 5\n",
        "to_remove = value_counts[value_counts <= 5].index"
      ],
      "id": "xavqPRqsB4cA",
      "execution_count": 12,
      "outputs": []
    },
    {
      "cell_type": "code",
      "metadata": {
        "colab": {
          "base_uri": "https://localhost:8080/",
          "height": 419
        },
        "id": "rOqrw5y8B6m4",
        "outputId": "386ddb05-f822-46f4-ec9e-dca0d16bd553"
      },
      "source": [
        "# Keep rows where the city column is not in to_remove\n",
        "df = pd_data[~pd_data.review_rating.isin(to_remove)]\n",
        "df"
      ],
      "id": "rOqrw5y8B6m4",
      "execution_count": 13,
      "outputs": [
        {
          "output_type": "execute_result",
          "data": {
            "text/html": [
              "<div>\n",
              "<style scoped>\n",
              "    .dataframe tbody tr th:only-of-type {\n",
              "        vertical-align: middle;\n",
              "    }\n",
              "\n",
              "    .dataframe tbody tr th {\n",
              "        vertical-align: top;\n",
              "    }\n",
              "\n",
              "    .dataframe thead th {\n",
              "        text-align: right;\n",
              "    }\n",
              "</style>\n",
              "<table border=\"1\" class=\"dataframe\">\n",
              "  <thead>\n",
              "    <tr style=\"text-align: right;\">\n",
              "      <th></th>\n",
              "      <th>claim_author_name</th>\n",
              "      <th>claim_date</th>\n",
              "      <th>claim_text</th>\n",
              "      <th>review_date</th>\n",
              "      <th>review_rating</th>\n",
              "      <th>review_url</th>\n",
              "      <th>reviewer_name</th>\n",
              "    </tr>\n",
              "  </thead>\n",
              "  <tbody>\n",
              "    <tr>\n",
              "      <th>0</th>\n",
              "      <td>Facebook posts</td>\n",
              "      <td>2019-01-01</td>\n",
              "      <td>Quotes Michelle Obama as saying, \"White folks ...</td>\n",
              "      <td>2019-01-03</td>\n",
              "      <td>Pants on Fire</td>\n",
              "      <td>https://www.politifact.com/facebook-fact-check...</td>\n",
              "      <td>PolitiFact</td>\n",
              "    </tr>\n",
              "    <tr>\n",
              "      <th>1</th>\n",
              "      <td>Ted Cruz</td>\n",
              "      <td>2018-04-11</td>\n",
              "      <td>Says Facebook shut down a \"Chick-Fil-A Appreci...</td>\n",
              "      <td>2018-04-23</td>\n",
              "      <td>Half True</td>\n",
              "      <td>https://www.politifact.com/texas/statements/20...</td>\n",
              "      <td>PolitiFact</td>\n",
              "    </tr>\n",
              "    <tr>\n",
              "      <th>3</th>\n",
              "      <td>Various websites</td>\n",
              "      <td>2017-09-03</td>\n",
              "      <td>\"BREAKING: 2 Democrat Congressmen On ISIS Payr...</td>\n",
              "      <td>2017-10-26</td>\n",
              "      <td>False</td>\n",
              "      <td>https://www.factcheck.org/2017/10/no-isis-arre...</td>\n",
              "      <td>FactCheck.org</td>\n",
              "    </tr>\n",
              "    <tr>\n",
              "      <th>4</th>\n",
              "      <td>James Woods</td>\n",
              "      <td>2016-08-27</td>\n",
              "      <td>The \"Dallas Cowboys can’t put a sticker on the...</td>\n",
              "      <td>2016-09-01</td>\n",
              "      <td>True</td>\n",
              "      <td>https://www.politifact.com/texas/statements/20...</td>\n",
              "      <td>PolitiFact</td>\n",
              "    </tr>\n",
              "    <tr>\n",
              "      <th>5</th>\n",
              "      <td>National Republican Congressional Committee</td>\n",
              "      <td>2016-08-10</td>\n",
              "      <td>Tom Suozzi raised taxes \"by hundreds of millio...</td>\n",
              "      <td>2016-09-23</td>\n",
              "      <td>True</td>\n",
              "      <td>https://www.politifact.com/new-york/statements...</td>\n",
              "      <td>PolitiFact</td>\n",
              "    </tr>\n",
              "    <tr>\n",
              "      <th>...</th>\n",
              "      <td>...</td>\n",
              "      <td>...</td>\n",
              "      <td>...</td>\n",
              "      <td>...</td>\n",
              "      <td>...</td>\n",
              "      <td>...</td>\n",
              "      <td>...</td>\n",
              "    </tr>\n",
              "    <tr>\n",
              "      <th>5624</th>\n",
              "      <td>Newt Gingrich</td>\n",
              "      <td>2011-06-15</td>\n",
              "      <td>Every 10th dollar spent by the Social Security...</td>\n",
              "      <td>2016-07-15</td>\n",
              "      <td>Mostly True</td>\n",
              "      <td>https://www.politifact.com/georgia/statements/...</td>\n",
              "      <td>PolitiFact</td>\n",
              "    </tr>\n",
              "    <tr>\n",
              "      <th>5626</th>\n",
              "      <td>Scott Walker</td>\n",
              "      <td>2017-07-19</td>\n",
              "      <td>\"We took Wisconsin from the Bottom 10 for busi...</td>\n",
              "      <td>2017-08-23</td>\n",
              "      <td>Mostly False</td>\n",
              "      <td>https://www.politifact.com/wisconsin/statement...</td>\n",
              "      <td>PolitiFact</td>\n",
              "    </tr>\n",
              "    <tr>\n",
              "      <th>5627</th>\n",
              "      <td>Wisconsin Republican Party</td>\n",
              "      <td></td>\n",
              "      <td>Claims that Democratic candidate for governor ...</td>\n",
              "      <td>2018-08-10</td>\n",
              "      <td>Half True</td>\n",
              "      <td>https://www.politifact.com/wisconsin/statement...</td>\n",
              "      <td>PolitiFact</td>\n",
              "    </tr>\n",
              "    <tr>\n",
              "      <th>5628</th>\n",
              "      <td>Various websites</td>\n",
              "      <td>2018-05-01</td>\n",
              "      <td>\"Clint Eastwood Leaves His Estate To The Trump...</td>\n",
              "      <td>2018-05-08</td>\n",
              "      <td>False</td>\n",
              "      <td>https://www.factcheck.org/2018/05/eastwood-not...</td>\n",
              "      <td>FactCheck.org</td>\n",
              "    </tr>\n",
              "    <tr>\n",
              "      <th>5631</th>\n",
              "      <td>Sydney Batch</td>\n",
              "      <td>2018-10-23</td>\n",
              "      <td>John Adcock, GOP plan for health care \"would g...</td>\n",
              "      <td>2018-10-23</td>\n",
              "      <td>False</td>\n",
              "      <td>https://www.politifact.com/north-carolina/stat...</td>\n",
              "      <td>PolitiFact</td>\n",
              "    </tr>\n",
              "  </tbody>\n",
              "</table>\n",
              "<p>4223 rows × 7 columns</p>\n",
              "</div>"
            ],
            "text/plain": [
              "                                claim_author_name  ...  reviewer_name\n",
              "0                                  Facebook posts  ...     PolitiFact\n",
              "1                                        Ted Cruz  ...     PolitiFact\n",
              "3                                Various websites  ...  FactCheck.org\n",
              "4                                     James Woods  ...     PolitiFact\n",
              "5     National Republican Congressional Committee  ...     PolitiFact\n",
              "...                                           ...  ...            ...\n",
              "5624                                Newt Gingrich  ...     PolitiFact\n",
              "5626                                 Scott Walker  ...     PolitiFact\n",
              "5627                   Wisconsin Republican Party  ...     PolitiFact\n",
              "5628                             Various websites  ...  FactCheck.org\n",
              "5631                                 Sydney Batch  ...     PolitiFact\n",
              "\n",
              "[4223 rows x 7 columns]"
            ]
          },
          "metadata": {
            "tags": []
          },
          "execution_count": 13
        }
      ]
    },
    {
      "cell_type": "code",
      "metadata": {
        "colab": {
          "base_uri": "https://localhost:8080/"
        },
        "id": "hycALeulB99H",
        "outputId": "44755a2a-2976-4594-ccfe-afca9ba8ab3f"
      },
      "source": [
        "#Chceking\n",
        "df['review_rating'].value_counts(normalize=True)*100\n",
        "#The new data has only 6 features ( with the others dropped the fequencies has increased)"
      ],
      "id": "hycALeulB99H",
      "execution_count": 14,
      "outputs": [
        {
          "output_type": "execute_result",
          "data": {
            "text/plain": [
              "False            30.878522\n",
              "Mostly False     15.889178\n",
              "Pants on Fire    15.770779\n",
              "Half True        15.273502\n",
              "Mostly True      14.065830\n",
              "True              8.122188\n",
              "Name: review_rating, dtype: float64"
            ]
          },
          "metadata": {
            "tags": []
          },
          "execution_count": 14
        }
      ]
    },
    {
      "cell_type": "code",
      "metadata": {
        "colab": {
          "base_uri": "https://localhost:8080/"
        },
        "id": "2HnQ6pWJCAN6",
        "outputId": "a605669b-d083-4887-d49c-cbcb58b3e8c9"
      },
      "source": [
        "# create a new column: 'category' for binary classification\n",
        "df['category'] = df['review_rating'].apply(lambda x: 'True' if x in ['True', 'Mostly True', 'Half True', 'Pants on Fire'] else 'Fake')"
      ],
      "id": "2HnQ6pWJCAN6",
      "execution_count": 110,
      "outputs": [
        {
          "output_type": "stream",
          "text": [
            "/usr/local/lib/python3.7/dist-packages/ipykernel_launcher.py:2: SettingWithCopyWarning: \n",
            "A value is trying to be set on a copy of a slice from a DataFrame.\n",
            "Try using .loc[row_indexer,col_indexer] = value instead\n",
            "\n",
            "See the caveats in the documentation: https://pandas.pydata.org/pandas-docs/stable/user_guide/indexing.html#returning-a-view-versus-a-copy\n",
            "  \n"
          ],
          "name": "stderr"
        }
      ]
    },
    {
      "cell_type": "code",
      "metadata": {
        "colab": {
          "base_uri": "https://localhost:8080/"
        },
        "id": "GABg6J3oCHNA",
        "outputId": "e637fcba-9a00-4942-e9b5-57eb5d2d5c6f"
      },
      "source": [
        "\n",
        "# create a new column: 'claim' by merging 3 columns\n",
        "df['claim'] = df['claim_author_name'] + [' '] * len(df) + df['claim_text'] + [' '] * len(df) + df['reviewer_name']"
      ],
      "id": "GABg6J3oCHNA",
      "execution_count": 111,
      "outputs": [
        {
          "output_type": "stream",
          "text": [
            "/usr/local/lib/python3.7/dist-packages/ipykernel_launcher.py:3: SettingWithCopyWarning: \n",
            "A value is trying to be set on a copy of a slice from a DataFrame.\n",
            "Try using .loc[row_indexer,col_indexer] = value instead\n",
            "\n",
            "See the caveats in the documentation: https://pandas.pydata.org/pandas-docs/stable/user_guide/indexing.html#returning-a-view-versus-a-copy\n",
            "  This is separate from the ipykernel package so we can avoid doing imports until\n"
          ],
          "name": "stderr"
        }
      ]
    },
    {
      "cell_type": "code",
      "metadata": {
        "id": "r0SDXzHCCJH3"
      },
      "source": [
        "# finalized data\n",
        "final_data = df[['claim', 'category']]"
      ],
      "id": "r0SDXzHCCJH3",
      "execution_count": 112,
      "outputs": []
    },
    {
      "cell_type": "code",
      "metadata": {
        "colab": {
          "base_uri": "https://localhost:8080/",
          "height": 419
        },
        "id": "5995004a",
        "outputId": "96cc3ae9-382d-49f5-cbb0-b7c4e98fac67"
      },
      "source": [
        "final_data"
      ],
      "id": "5995004a",
      "execution_count": 113,
      "outputs": [
        {
          "output_type": "execute_result",
          "data": {
            "text/html": [
              "<div>\n",
              "<style scoped>\n",
              "    .dataframe tbody tr th:only-of-type {\n",
              "        vertical-align: middle;\n",
              "    }\n",
              "\n",
              "    .dataframe tbody tr th {\n",
              "        vertical-align: top;\n",
              "    }\n",
              "\n",
              "    .dataframe thead th {\n",
              "        text-align: right;\n",
              "    }\n",
              "</style>\n",
              "<table border=\"1\" class=\"dataframe\">\n",
              "  <thead>\n",
              "    <tr style=\"text-align: right;\">\n",
              "      <th></th>\n",
              "      <th>claim</th>\n",
              "      <th>category</th>\n",
              "    </tr>\n",
              "  </thead>\n",
              "  <tbody>\n",
              "    <tr>\n",
              "      <th>0</th>\n",
              "      <td>Facebook posts Quotes Michelle Obama as saying...</td>\n",
              "      <td>True</td>\n",
              "    </tr>\n",
              "    <tr>\n",
              "      <th>1</th>\n",
              "      <td>Ted Cruz Says Facebook shut down a \"Chick-Fil-...</td>\n",
              "      <td>True</td>\n",
              "    </tr>\n",
              "    <tr>\n",
              "      <th>3</th>\n",
              "      <td>Various websites \"BREAKING: 2 Democrat Congres...</td>\n",
              "      <td>Fake</td>\n",
              "    </tr>\n",
              "    <tr>\n",
              "      <th>4</th>\n",
              "      <td>James Woods The \"Dallas Cowboys can’t put a st...</td>\n",
              "      <td>True</td>\n",
              "    </tr>\n",
              "    <tr>\n",
              "      <th>5</th>\n",
              "      <td>National Republican Congressional Committee To...</td>\n",
              "      <td>True</td>\n",
              "    </tr>\n",
              "    <tr>\n",
              "      <th>...</th>\n",
              "      <td>...</td>\n",
              "      <td>...</td>\n",
              "    </tr>\n",
              "    <tr>\n",
              "      <th>5624</th>\n",
              "      <td>Newt Gingrich Every 10th dollar spent by the S...</td>\n",
              "      <td>True</td>\n",
              "    </tr>\n",
              "    <tr>\n",
              "      <th>5626</th>\n",
              "      <td>Scott Walker \"We took Wisconsin from the Botto...</td>\n",
              "      <td>Fake</td>\n",
              "    </tr>\n",
              "    <tr>\n",
              "      <th>5627</th>\n",
              "      <td>Wisconsin Republican Party Claims that Democra...</td>\n",
              "      <td>True</td>\n",
              "    </tr>\n",
              "    <tr>\n",
              "      <th>5628</th>\n",
              "      <td>Various websites \"Clint Eastwood Leaves His Es...</td>\n",
              "      <td>Fake</td>\n",
              "    </tr>\n",
              "    <tr>\n",
              "      <th>5631</th>\n",
              "      <td>Sydney Batch John Adcock, GOP plan for health ...</td>\n",
              "      <td>Fake</td>\n",
              "    </tr>\n",
              "  </tbody>\n",
              "</table>\n",
              "<p>4223 rows × 2 columns</p>\n",
              "</div>"
            ],
            "text/plain": [
              "                                                  claim category\n",
              "0     Facebook posts Quotes Michelle Obama as saying...     True\n",
              "1     Ted Cruz Says Facebook shut down a \"Chick-Fil-...     True\n",
              "3     Various websites \"BREAKING: 2 Democrat Congres...     Fake\n",
              "4     James Woods The \"Dallas Cowboys can’t put a st...     True\n",
              "5     National Republican Congressional Committee To...     True\n",
              "...                                                 ...      ...\n",
              "5624  Newt Gingrich Every 10th dollar spent by the S...     True\n",
              "5626  Scott Walker \"We took Wisconsin from the Botto...     Fake\n",
              "5627  Wisconsin Republican Party Claims that Democra...     True\n",
              "5628  Various websites \"Clint Eastwood Leaves His Es...     Fake\n",
              "5631  Sydney Batch John Adcock, GOP plan for health ...     Fake\n",
              "\n",
              "[4223 rows x 2 columns]"
            ]
          },
          "metadata": {
            "tags": []
          },
          "execution_count": 113
        }
      ]
    },
    {
      "cell_type": "code",
      "metadata": {
        "colab": {
          "base_uri": "https://localhost:8080/",
          "height": 173
        },
        "id": "7bb60be5",
        "outputId": "6155ceb4-c443-4e45-91af-392376c53077"
      },
      "source": [
        "final_data.describe()"
      ],
      "id": "7bb60be5",
      "execution_count": 114,
      "outputs": [
        {
          "output_type": "execute_result",
          "data": {
            "text/html": [
              "<div>\n",
              "<style scoped>\n",
              "    .dataframe tbody tr th:only-of-type {\n",
              "        vertical-align: middle;\n",
              "    }\n",
              "\n",
              "    .dataframe tbody tr th {\n",
              "        vertical-align: top;\n",
              "    }\n",
              "\n",
              "    .dataframe thead th {\n",
              "        text-align: right;\n",
              "    }\n",
              "</style>\n",
              "<table border=\"1\" class=\"dataframe\">\n",
              "  <thead>\n",
              "    <tr style=\"text-align: right;\">\n",
              "      <th></th>\n",
              "      <th>claim</th>\n",
              "      <th>category</th>\n",
              "    </tr>\n",
              "  </thead>\n",
              "  <tbody>\n",
              "    <tr>\n",
              "      <th>count</th>\n",
              "      <td>4223</td>\n",
              "      <td>4223</td>\n",
              "    </tr>\n",
              "    <tr>\n",
              "      <th>unique</th>\n",
              "      <td>4222</td>\n",
              "      <td>2</td>\n",
              "    </tr>\n",
              "    <tr>\n",
              "      <th>top</th>\n",
              "      <td>Donald Trump \"Drug prices are coming down, fir...</td>\n",
              "      <td>True</td>\n",
              "    </tr>\n",
              "    <tr>\n",
              "      <th>freq</th>\n",
              "      <td>2</td>\n",
              "      <td>2248</td>\n",
              "    </tr>\n",
              "  </tbody>\n",
              "</table>\n",
              "</div>"
            ],
            "text/plain": [
              "                                                    claim category\n",
              "count                                                4223     4223\n",
              "unique                                               4222        2\n",
              "top     Donald Trump \"Drug prices are coming down, fir...     True\n",
              "freq                                                    2     2248"
            ]
          },
          "metadata": {
            "tags": []
          },
          "execution_count": 114
        }
      ]
    },
    {
      "cell_type": "code",
      "metadata": {
        "colab": {
          "base_uri": "https://localhost:8080/"
        },
        "id": "I1l9bIymOu0L",
        "outputId": "52182dff-ba9f-407b-b23b-71ac9b8b7ea5"
      },
      "source": [
        "df['category'].value_counts(normalize=True)*100"
      ],
      "id": "I1l9bIymOu0L",
      "execution_count": 115,
      "outputs": [
        {
          "output_type": "execute_result",
          "data": {
            "text/plain": [
              "True    53.232299\n",
              "Fake    46.767701\n",
              "Name: category, dtype: float64"
            ]
          },
          "metadata": {
            "tags": []
          },
          "execution_count": 115
        }
      ]
    },
    {
      "cell_type": "code",
      "metadata": {
        "id": "c7e7b8b5"
      },
      "source": [
        "final_data.to_csv(\"cleaned_data.csv\")"
      ],
      "id": "c7e7b8b5",
      "execution_count": 116,
      "outputs": []
    },
    {
      "cell_type": "markdown",
      "metadata": {
        "id": "2a35d5ff"
      },
      "source": [
        "# 2. Building classifier"
      ],
      "id": "2a35d5ff"
    },
    {
      "cell_type": "code",
      "metadata": {
        "colab": {
          "base_uri": "https://localhost:8080/"
        },
        "id": "uXOh1Z3Nm16c",
        "outputId": "d3114c27-5042-49e4-c9a3-6440106b3f17"
      },
      "source": [
        "!pip install transformers"
      ],
      "id": "uXOh1Z3Nm16c",
      "execution_count": 117,
      "outputs": [
        {
          "output_type": "stream",
          "text": [
            "Requirement already satisfied: transformers in /usr/local/lib/python3.7/dist-packages (4.6.1)\n",
            "Requirement already satisfied: packaging in /usr/local/lib/python3.7/dist-packages (from transformers) (20.9)\n",
            "Requirement already satisfied: numpy>=1.17 in /usr/local/lib/python3.7/dist-packages (from transformers) (1.19.5)\n",
            "Requirement already satisfied: huggingface-hub==0.0.8 in /usr/local/lib/python3.7/dist-packages (from transformers) (0.0.8)\n",
            "Requirement already satisfied: tqdm>=4.27 in /usr/local/lib/python3.7/dist-packages (from transformers) (4.41.1)\n",
            "Requirement already satisfied: regex!=2019.12.17 in /usr/local/lib/python3.7/dist-packages (from transformers) (2019.12.20)\n",
            "Requirement already satisfied: filelock in /usr/local/lib/python3.7/dist-packages (from transformers) (3.0.12)\n",
            "Requirement already satisfied: importlib-metadata; python_version < \"3.8\" in /usr/local/lib/python3.7/dist-packages (from transformers) (4.0.1)\n",
            "Requirement already satisfied: tokenizers<0.11,>=0.10.1 in /usr/local/lib/python3.7/dist-packages (from transformers) (0.10.3)\n",
            "Requirement already satisfied: sacremoses in /usr/local/lib/python3.7/dist-packages (from transformers) (0.0.45)\n",
            "Requirement already satisfied: requests in /usr/local/lib/python3.7/dist-packages (from transformers) (2.23.0)\n",
            "Requirement already satisfied: pyparsing>=2.0.2 in /usr/local/lib/python3.7/dist-packages (from packaging->transformers) (2.4.7)\n",
            "Requirement already satisfied: typing-extensions>=3.6.4; python_version < \"3.8\" in /usr/local/lib/python3.7/dist-packages (from importlib-metadata; python_version < \"3.8\"->transformers) (3.7.4.3)\n",
            "Requirement already satisfied: zipp>=0.5 in /usr/local/lib/python3.7/dist-packages (from importlib-metadata; python_version < \"3.8\"->transformers) (3.4.1)\n",
            "Requirement already satisfied: six in /usr/local/lib/python3.7/dist-packages (from sacremoses->transformers) (1.15.0)\n",
            "Requirement already satisfied: joblib in /usr/local/lib/python3.7/dist-packages (from sacremoses->transformers) (1.0.1)\n",
            "Requirement already satisfied: click in /usr/local/lib/python3.7/dist-packages (from sacremoses->transformers) (7.1.2)\n",
            "Requirement already satisfied: chardet<4,>=3.0.2 in /usr/local/lib/python3.7/dist-packages (from requests->transformers) (3.0.4)\n",
            "Requirement already satisfied: idna<3,>=2.5 in /usr/local/lib/python3.7/dist-packages (from requests->transformers) (2.10)\n",
            "Requirement already satisfied: certifi>=2017.4.17 in /usr/local/lib/python3.7/dist-packages (from requests->transformers) (2020.12.5)\n",
            "Requirement already satisfied: urllib3!=1.25.0,!=1.25.1,<1.26,>=1.21.1 in /usr/local/lib/python3.7/dist-packages (from requests->transformers) (1.24.3)\n"
          ],
          "name": "stdout"
        }
      ]
    },
    {
      "cell_type": "code",
      "metadata": {
        "id": "4dd9ea71"
      },
      "source": [
        "import string\n",
        "import numpy as np\n",
        "from transformers import BertTokenizerFast, BertForSequenceClassification\n",
        "from sklearn.model_selection import train_test_split\n",
        "from sklearn.preprocessing import LabelEncoder, StandardScaler\n",
        "from sklearn.utils import class_weight\n",
        "import tensorflow as tf\n",
        "\n",
        "import matplotlib.pyplot as plt"
      ],
      "id": "4dd9ea71",
      "execution_count": 118,
      "outputs": []
    },
    {
      "cell_type": "code",
      "metadata": {
        "id": "5e825b50"
      },
      "source": [
        "# the model we gonna train, base uncased BERT\n",
        "model_name = \"bert-base-uncased\"\n",
        "# max sequence length for each document/sentence sample\n",
        "max_length = 80"
      ],
      "id": "5e825b50",
      "execution_count": 119,
      "outputs": []
    },
    {
      "cell_type": "code",
      "metadata": {
        "id": "7d6f8f35"
      },
      "source": [
        "# load the tokenizer\n",
        "tokenizer = BertTokenizerFast.from_pretrained(model_name, do_lower_case=True)"
      ],
      "id": "7d6f8f35",
      "execution_count": 120,
      "outputs": []
    },
    {
      "cell_type": "code",
      "metadata": {
        "colab": {
          "base_uri": "https://localhost:8080/"
        },
        "id": "d6022e9f",
        "outputId": "d518fdba-3613-44f5-f50f-ffbeb13ca334"
      },
      "source": [
        "encoder = LabelEncoder()\n",
        "\n",
        "# label encoding the categories. After this each category would be mapped to an integer.\n",
        "final_data['category'] = encoder.fit_transform(final_data['category'])"
      ],
      "id": "d6022e9f",
      "execution_count": 121,
      "outputs": [
        {
          "output_type": "stream",
          "text": [
            "/usr/local/lib/python3.7/dist-packages/ipykernel_launcher.py:4: SettingWithCopyWarning: \n",
            "A value is trying to be set on a copy of a slice from a DataFrame.\n",
            "Try using .loc[row_indexer,col_indexer] = value instead\n",
            "\n",
            "See the caveats in the documentation: https://pandas.pydata.org/pandas-docs/stable/user_guide/indexing.html#returning-a-view-versus-a-copy\n",
            "  after removing the cwd from sys.path.\n"
          ],
          "name": "stderr"
        }
      ]
    },
    {
      "cell_type": "code",
      "metadata": {
        "colab": {
          "base_uri": "https://localhost:8080/"
        },
        "id": "E-XziMvzC8Yo",
        "outputId": "aff86322-1150-454f-c82f-a41448cf5b6b"
      },
      "source": [
        "import re\n",
        "def clean_txt(text):\n",
        "    text = re.sub(\"'\", \"\", text)\n",
        "    text = re.sub(\"(\\\\W)+\", \" \", text)\n",
        "    text = text.lower()\n",
        "    all_list = [char for char in text if char not in string.punctuation]\n",
        "    clean_text = ''.join(all_list)\n",
        "    return clean_text\n",
        "\n",
        "final_data['claim'] = final_data['claim'].apply(clean_txt)"
      ],
      "id": "E-XziMvzC8Yo",
      "execution_count": 122,
      "outputs": [
        {
          "output_type": "stream",
          "text": [
            "/usr/local/lib/python3.7/dist-packages/ipykernel_launcher.py:10: SettingWithCopyWarning: \n",
            "A value is trying to be set on a copy of a slice from a DataFrame.\n",
            "Try using .loc[row_indexer,col_indexer] = value instead\n",
            "\n",
            "See the caveats in the documentation: https://pandas.pydata.org/pandas-docs/stable/user_guide/indexing.html#returning-a-view-versus-a-copy\n",
            "  # Remove the CWD from sys.path while we load stuff.\n"
          ],
          "name": "stderr"
        }
      ]
    },
    {
      "cell_type": "code",
      "metadata": {
        "id": "f7f77898"
      },
      "source": [
        "final_data.to_csv(\"cleaned_balanced_data.csv\")"
      ],
      "id": "f7f77898",
      "execution_count": 139,
      "outputs": []
    },
    {
      "cell_type": "code",
      "metadata": {
        "colab": {
          "base_uri": "https://localhost:8080/",
          "height": 315
        },
        "id": "f0ae908a",
        "outputId": "2949ceee-275e-47b6-cd90-f1c68e6add83"
      },
      "source": [
        "final_data.hist('category')"
      ],
      "id": "f0ae908a",
      "execution_count": 124,
      "outputs": [
        {
          "output_type": "execute_result",
          "data": {
            "text/plain": [
              "array([[<matplotlib.axes._subplots.AxesSubplot object at 0x7f2bbdaf1cd0>]],\n",
              "      dtype=object)"
            ]
          },
          "metadata": {
            "tags": []
          },
          "execution_count": 124
        },
        {
          "output_type": "display_data",
          "data": {
            "image/png": "[encoded data removed]",
            "text/plain": [
              "<Figure size 432x288 with 1 Axes>"
            ]
          },
          "metadata": {
            "tags": [],
            "needs_background": "light"
          }
        }
      ]
    },
    {
      "cell_type": "code",
      "metadata": {
        "id": "a96eb5e3"
      },
      "source": [
        "# split the dataset into train and test dataset by the ratio of 0.2\n",
        "X_train,X_test,y_train,y_test = train_test_split(\n",
        "    final_data['claim'],\n",
        "    final_data['category'],\n",
        "    test_size=0.2, random_state=42\n",
        ")"
      ],
      "id": "a96eb5e3",
      "execution_count": 125,
      "outputs": []
    },
    {
      "cell_type": "code",
      "metadata": {
        "id": "e46ff5fb"
      },
      "source": [
        "def regular_encode(texts, tokenizer, maxlen):\n",
        "    enc_di = tokenizer.batch_encode_plus(\n",
        "        texts, \n",
        "        pad_to_max_length=True,\n",
        "        max_length=maxlen\n",
        "    )\n",
        "    \n",
        "    return np.array(enc_di['input_ids'])"
      ],
      "id": "e46ff5fb",
      "execution_count": 126,
      "outputs": []
    },
    {
      "cell_type": "code",
      "metadata": {
        "colab": {
          "base_uri": "https://localhost:8080/"
        },
        "id": "65cbc485",
        "outputId": "73f7cb8e-3746-4383-b921-22ce306e358c"
      },
      "source": [
        "# tokenizing the news descriptions\n",
        "Xtrain_encoded = regular_encode(X_train.values.tolist(), tokenizer, maxlen=max_length)\n",
        "Xtest_encoded = regular_encode(X_test.values.tolist(), tokenizer, maxlen=max_length)"
      ],
      "id": "65cbc485",
      "execution_count": 127,
      "outputs": [
        {
          "output_type": "stream",
          "text": [
            "Truncation was not explicitly activated but `max_length` is provided a specific value, please use `truncation=True` to explicitly truncate examples to max length. Defaulting to 'longest_first' truncation strategy. If you encode pairs of sequences (GLUE-style) with the tokenizer you can select this strategy more precisely by providing a specific strategy to `truncation`.\n",
            "/usr/local/lib/python3.7/dist-packages/transformers/tokenization_utils_base.py:2110: FutureWarning: The `pad_to_max_length` argument is deprecated and will be removed in a future version, use `padding=True` or `padding='longest'` to pad to the longest sequence in the batch, or use `padding='max_length'` to pad to a max length. In this case, you can give a specific length with `max_length` (e.g. `max_length=45`) or leave max_length to None to pad to the maximal input size of the model (e.g. 512 for Bert).\n",
            "  FutureWarning,\n"
          ],
          "name": "stderr"
        }
      ]
    },
    {
      "cell_type": "code",
      "metadata": {
        "id": "f67880f3"
      },
      "source": [
        "# normalize the data\n",
        "scaler = StandardScaler()\n",
        "X_train = scaler.fit_transform(Xtrain_encoded)\n",
        "X_test = scaler.transform(Xtest_encoded)"
      ],
      "id": "f67880f3",
      "execution_count": 128,
      "outputs": []
    },
    {
      "cell_type": "code",
      "metadata": {
        "id": "42de6eea"
      },
      "source": [
        "# classifier\n",
        "model = tf.keras.Sequential([\n",
        "    tf.keras.layers.Dense(40, activation='relu', input_shape=(max_length, )),\n",
        "    tf.keras.layers.Dense(10, activation='relu'),\n",
        "    tf.keras.layers.Dense(1, activation='sigmoid')\n",
        "])"
      ],
      "id": "42de6eea",
      "execution_count": 129,
      "outputs": []
    },
    {
      "cell_type": "code",
      "metadata": {
        "colab": {
          "base_uri": "https://localhost:8080/"
        },
        "id": "7d889038",
        "outputId": "5528f0cf-5c8d-48db-d5af-58741d44d9fc"
      },
      "source": [
        "model.summary()"
      ],
      "id": "7d889038",
      "execution_count": 130,
      "outputs": [
        {
          "output_type": "stream",
          "text": [
            "Model: \"sequential_2\"\n",
            "_________________________________________________________________\n",
            "Layer (type)                 Output Shape              Param #   \n",
            "=================================================================\n",
            "dense_6 (Dense)              (None, 40)                3240      \n",
            "_________________________________________________________________\n",
            "dense_7 (Dense)              (None, 10)                410       \n",
            "_________________________________________________________________\n",
            "dense_8 (Dense)              (None, 1)                 11        \n",
            "=================================================================\n",
            "Total params: 3,661\n",
            "Trainable params: 3,661\n",
            "Non-trainable params: 0\n",
            "_________________________________________________________________\n"
          ],
          "name": "stdout"
        }
      ]
    },
    {
      "cell_type": "code",
      "metadata": {
        "id": "324f518c"
      },
      "source": [
        "# class weights for imbalanced data\n",
        "class_weights = class_weight.compute_class_weight(\n",
        "    'balanced',\n",
        "    np.unique(y_train),\n",
        "    y_train\n",
        ")"
      ],
      "id": "324f518c",
      "execution_count": 131,
      "outputs": []
    },
    {
      "cell_type": "code",
      "metadata": {
        "id": "904deeac"
      },
      "source": [
        "class_weights = dict(enumerate(class_weights))"
      ],
      "id": "904deeac",
      "execution_count": 132,
      "outputs": []
    },
    {
      "cell_type": "code",
      "metadata": {
        "id": "38f5a95f"
      },
      "source": [
        "def focal_loss(y_true, y_pred):\n",
        "    gamma = 2.0\n",
        "    alpha = 0.25\n",
        "    pt_1 = tf.where(tf.equal(y_true, 1), y_pred, tf.ones_like(y_pred))\n",
        "    pt_0 = tf.where(tf.equal(y_true, 0), y_pred, tf.zeros_like(y_pred))\n",
        "\n",
        "    return -tf.keras.backend.sum(alpha * tf.keras.backend.pow(1. - pt_1, gamma) * tf.keras.backend.log(pt_1)) - tf.keras.backend.sum((1-alpha) * tf.keras.backend.pow( pt_0, gamma) * tf.keras.backend.log(1. - pt_0))"
      ],
      "id": "38f5a95f",
      "execution_count": 133,
      "outputs": []
    },
    {
      "cell_type": "code",
      "metadata": {
        "id": "47485f87"
      },
      "source": [
        "# compile the classifier\n",
        "model.compile(optimizer= tf.keras.optimizers.Adam(learning_rate=0.0001),\n",
        "#               loss=tf.keras.losses.BinaryCrossentropy(),\n",
        "              loss = [focal_loss],\n",
        "              metrics=['accuracy'],\n",
        ")"
      ],
      "id": "47485f87",
      "execution_count": 134,
      "outputs": []
    },
    {
      "cell_type": "code",
      "metadata": {
        "colab": {
          "base_uri": "https://localhost:8080/"
        },
        "id": "ac046a07",
        "outputId": "cfd3e1c2-b37d-4821-cc6b-a36b2ef1e6f5"
      },
      "source": [
        "# train the classifier\n",
        "history = model.fit(\n",
        "    X_train, y_train,\n",
        "    validation_data=(X_test, y_test),\n",
        "    batch_size=32,\n",
        "    epochs=100,\n",
        "    shuffle=True,\n",
        "    class_weight=class_weights\n",
        ")"
      ],
      "id": "ac046a07",
      "execution_count": 135,
      "outputs": [
        {
          "output_type": "stream",
          "text": [
            "Epoch 1/100\n",
            "106/106 [==============================] - 1s 3ms/step - loss: 3.1092 - accuracy: 0.5130 - val_loss: 2.8872 - val_accuracy: 0.4935\n",
            "Epoch 2/100\n",
            "106/106 [==============================] - 0s 2ms/step - loss: 2.8082 - accuracy: 0.5089 - val_loss: 2.7602 - val_accuracy: 0.4852\n",
            "Epoch 3/100\n",
            "106/106 [==============================] - 0s 2ms/step - loss: 2.6766 - accuracy: 0.5006 - val_loss: 2.6877 - val_accuracy: 0.4911\n",
            "Epoch 4/100\n",
            "106/106 [==============================] - 0s 2ms/step - loss: 2.5975 - accuracy: 0.4956 - val_loss: 2.6301 - val_accuracy: 0.4982\n",
            "Epoch 5/100\n",
            "106/106 [==============================] - 0s 2ms/step - loss: 2.5373 - accuracy: 0.4973 - val_loss: 2.5859 - val_accuracy: 0.4864\n",
            "Epoch 6/100\n",
            "106/106 [==============================] - 0s 2ms/step - loss: 2.4909 - accuracy: 0.4985 - val_loss: 2.5503 - val_accuracy: 0.4852\n",
            "Epoch 7/100\n",
            "106/106 [==============================] - 0s 2ms/step - loss: 2.4483 - accuracy: 0.4962 - val_loss: 2.5236 - val_accuracy: 0.4864\n",
            "Epoch 8/100\n",
            "106/106 [==============================] - 0s 2ms/step - loss: 2.4151 - accuracy: 0.4988 - val_loss: 2.5014 - val_accuracy: 0.4840\n",
            "Epoch 9/100\n",
            "106/106 [==============================] - 0s 2ms/step - loss: 2.3864 - accuracy: 0.4985 - val_loss: 2.4873 - val_accuracy: 0.4840\n",
            "Epoch 10/100\n",
            "106/106 [==============================] - 0s 2ms/step - loss: 2.3620 - accuracy: 0.4979 - val_loss: 2.4755 - val_accuracy: 0.4769\n",
            "Epoch 11/100\n",
            "106/106 [==============================] - 0s 2ms/step - loss: 2.3402 - accuracy: 0.5006 - val_loss: 2.4641 - val_accuracy: 0.4734\n",
            "Epoch 12/100\n",
            "106/106 [==============================] - 0s 2ms/step - loss: 2.3206 - accuracy: 0.5003 - val_loss: 2.4516 - val_accuracy: 0.4746\n",
            "Epoch 13/100\n",
            "106/106 [==============================] - 0s 2ms/step - loss: 2.3019 - accuracy: 0.5041 - val_loss: 2.4471 - val_accuracy: 0.4722\n",
            "Epoch 14/100\n",
            "106/106 [==============================] - 0s 2ms/step - loss: 2.2847 - accuracy: 0.5038 - val_loss: 2.4403 - val_accuracy: 0.4746\n",
            "Epoch 15/100\n",
            "106/106 [==============================] - 0s 2ms/step - loss: 2.2687 - accuracy: 0.5071 - val_loss: 2.4330 - val_accuracy: 0.4746\n",
            "Epoch 16/100\n",
            "106/106 [==============================] - 0s 2ms/step - loss: 2.2560 - accuracy: 0.5068 - val_loss: 2.4282 - val_accuracy: 0.4734\n",
            "Epoch 17/100\n",
            "106/106 [==============================] - 0s 2ms/step - loss: 2.2411 - accuracy: 0.5080 - val_loss: 2.4263 - val_accuracy: 0.4722\n",
            "Epoch 18/100\n",
            "106/106 [==============================] - 0s 2ms/step - loss: 2.2294 - accuracy: 0.5098 - val_loss: 2.4214 - val_accuracy: 0.4710\n",
            "Epoch 19/100\n",
            "106/106 [==============================] - 0s 2ms/step - loss: 2.2163 - accuracy: 0.5107 - val_loss: 2.4167 - val_accuracy: 0.4734\n",
            "Epoch 20/100\n",
            "106/106 [==============================] - 0s 2ms/step - loss: 2.2054 - accuracy: 0.5112 - val_loss: 2.4167 - val_accuracy: 0.4734\n",
            "Epoch 21/100\n",
            "106/106 [==============================] - 0s 2ms/step - loss: 2.1956 - accuracy: 0.5112 - val_loss: 2.4133 - val_accuracy: 0.4757\n",
            "Epoch 22/100\n",
            "106/106 [==============================] - 0s 2ms/step - loss: 2.1852 - accuracy: 0.5136 - val_loss: 2.4131 - val_accuracy: 0.4746\n",
            "Epoch 23/100\n",
            "106/106 [==============================] - 0s 2ms/step - loss: 2.1754 - accuracy: 0.5145 - val_loss: 2.4066 - val_accuracy: 0.4757\n",
            "Epoch 24/100\n",
            "106/106 [==============================] - 0s 2ms/step - loss: 2.1656 - accuracy: 0.5172 - val_loss: 2.4053 - val_accuracy: 0.4757\n",
            "Epoch 25/100\n",
            "106/106 [==============================] - 0s 2ms/step - loss: 2.1572 - accuracy: 0.5187 - val_loss: 2.4071 - val_accuracy: 0.4769\n",
            "Epoch 26/100\n",
            "106/106 [==============================] - 0s 2ms/step - loss: 2.1488 - accuracy: 0.5184 - val_loss: 2.4062 - val_accuracy: 0.4757\n",
            "Epoch 27/100\n",
            "106/106 [==============================] - 0s 2ms/step - loss: 2.1412 - accuracy: 0.5207 - val_loss: 2.4073 - val_accuracy: 0.4793\n",
            "Epoch 28/100\n",
            "106/106 [==============================] - 0s 2ms/step - loss: 2.1341 - accuracy: 0.5237 - val_loss: 2.4057 - val_accuracy: 0.4769\n",
            "Epoch 29/100\n",
            "106/106 [==============================] - 0s 2ms/step - loss: 2.1260 - accuracy: 0.5272 - val_loss: 2.4073 - val_accuracy: 0.4769\n",
            "Epoch 30/100\n",
            "106/106 [==============================] - 0s 2ms/step - loss: 2.1191 - accuracy: 0.5278 - val_loss: 2.4056 - val_accuracy: 0.4769\n",
            "Epoch 31/100\n",
            "106/106 [==============================] - 0s 2ms/step - loss: 2.1118 - accuracy: 0.5275 - val_loss: 2.4063 - val_accuracy: 0.4746\n",
            "Epoch 32/100\n",
            "106/106 [==============================] - 0s 2ms/step - loss: 2.1051 - accuracy: 0.5299 - val_loss: 2.4063 - val_accuracy: 0.4817\n",
            "Epoch 33/100\n",
            "106/106 [==============================] - 0s 2ms/step - loss: 2.1001 - accuracy: 0.5320 - val_loss: 2.4060 - val_accuracy: 0.4840\n",
            "Epoch 34/100\n",
            "106/106 [==============================] - 0s 2ms/step - loss: 2.0941 - accuracy: 0.5335 - val_loss: 2.4076 - val_accuracy: 0.4817\n",
            "Epoch 35/100\n",
            "106/106 [==============================] - 0s 2ms/step - loss: 2.0890 - accuracy: 0.5352 - val_loss: 2.4100 - val_accuracy: 0.4828\n",
            "Epoch 36/100\n",
            "106/106 [==============================] - 0s 2ms/step - loss: 2.0849 - accuracy: 0.5373 - val_loss: 2.4147 - val_accuracy: 0.4852\n",
            "Epoch 37/100\n",
            "106/106 [==============================] - 0s 2ms/step - loss: 2.0786 - accuracy: 0.5394 - val_loss: 2.4075 - val_accuracy: 0.4852\n",
            "Epoch 38/100\n",
            "106/106 [==============================] - 0s 2ms/step - loss: 2.0726 - accuracy: 0.5397 - val_loss: 2.4104 - val_accuracy: 0.4852\n",
            "Epoch 39/100\n",
            "106/106 [==============================] - 0s 2ms/step - loss: 2.0688 - accuracy: 0.5388 - val_loss: 2.4103 - val_accuracy: 0.4888\n",
            "Epoch 40/100\n",
            "106/106 [==============================] - 0s 2ms/step - loss: 2.0634 - accuracy: 0.5400 - val_loss: 2.4153 - val_accuracy: 0.4888\n",
            "Epoch 41/100\n",
            "106/106 [==============================] - 0s 2ms/step - loss: 2.0585 - accuracy: 0.5417 - val_loss: 2.4141 - val_accuracy: 0.4899\n",
            "Epoch 42/100\n",
            "106/106 [==============================] - 0s 2ms/step - loss: 2.0536 - accuracy: 0.5406 - val_loss: 2.4163 - val_accuracy: 0.4864\n",
            "Epoch 43/100\n",
            "106/106 [==============================] - 0s 2ms/step - loss: 2.0488 - accuracy: 0.5447 - val_loss: 2.4169 - val_accuracy: 0.4864\n",
            "Epoch 44/100\n",
            "106/106 [==============================] - 0s 2ms/step - loss: 2.0438 - accuracy: 0.5423 - val_loss: 2.4233 - val_accuracy: 0.4911\n",
            "Epoch 45/100\n",
            "106/106 [==============================] - 0s 2ms/step - loss: 2.0392 - accuracy: 0.5444 - val_loss: 2.4181 - val_accuracy: 0.4888\n",
            "Epoch 46/100\n",
            "106/106 [==============================] - 0s 2ms/step - loss: 2.0362 - accuracy: 0.5471 - val_loss: 2.4192 - val_accuracy: 0.4935\n",
            "Epoch 47/100\n",
            "106/106 [==============================] - 0s 2ms/step - loss: 2.0316 - accuracy: 0.5491 - val_loss: 2.4187 - val_accuracy: 0.4888\n",
            "Epoch 48/100\n",
            "106/106 [==============================] - 0s 2ms/step - loss: 2.0269 - accuracy: 0.5468 - val_loss: 2.4206 - val_accuracy: 0.4899\n",
            "Epoch 49/100\n",
            "106/106 [==============================] - 0s 2ms/step - loss: 2.0218 - accuracy: 0.5468 - val_loss: 2.4258 - val_accuracy: 0.4899\n",
            "Epoch 50/100\n",
            "106/106 [==============================] - 0s 2ms/step - loss: 2.0180 - accuracy: 0.5509 - val_loss: 2.4235 - val_accuracy: 0.4911\n",
            "Epoch 51/100\n",
            "106/106 [==============================] - 0s 2ms/step - loss: 2.0128 - accuracy: 0.5480 - val_loss: 2.4264 - val_accuracy: 0.4899\n",
            "Epoch 52/100\n",
            "106/106 [==============================] - 0s 2ms/step - loss: 2.0101 - accuracy: 0.5480 - val_loss: 2.4311 - val_accuracy: 0.4888\n",
            "Epoch 53/100\n",
            "106/106 [==============================] - 0s 2ms/step - loss: 2.0054 - accuracy: 0.5509 - val_loss: 2.4336 - val_accuracy: 0.4899\n",
            "Epoch 54/100\n",
            "106/106 [==============================] - 0s 2ms/step - loss: 2.0011 - accuracy: 0.5521 - val_loss: 2.4265 - val_accuracy: 0.4852\n",
            "Epoch 55/100\n",
            "106/106 [==============================] - 0s 2ms/step - loss: 1.9982 - accuracy: 0.5509 - val_loss: 2.4320 - val_accuracy: 0.4876\n",
            "Epoch 56/100\n",
            "106/106 [==============================] - 0s 2ms/step - loss: 1.9932 - accuracy: 0.5533 - val_loss: 2.4352 - val_accuracy: 0.4899\n",
            "Epoch 57/100\n",
            "106/106 [==============================] - 0s 2ms/step - loss: 1.9893 - accuracy: 0.5577 - val_loss: 2.4373 - val_accuracy: 0.4864\n",
            "Epoch 58/100\n",
            "106/106 [==============================] - 0s 2ms/step - loss: 1.9849 - accuracy: 0.5542 - val_loss: 2.4438 - val_accuracy: 0.4899\n",
            "Epoch 59/100\n",
            "106/106 [==============================] - 0s 2ms/step - loss: 1.9816 - accuracy: 0.5562 - val_loss: 2.4455 - val_accuracy: 0.4888\n",
            "Epoch 60/100\n",
            "106/106 [==============================] - 0s 2ms/step - loss: 1.9781 - accuracy: 0.5562 - val_loss: 2.4470 - val_accuracy: 0.4876\n",
            "Epoch 61/100\n",
            "106/106 [==============================] - 0s 2ms/step - loss: 1.9737 - accuracy: 0.5589 - val_loss: 2.4460 - val_accuracy: 0.4852\n",
            "Epoch 62/100\n",
            "106/106 [==============================] - 0s 2ms/step - loss: 1.9700 - accuracy: 0.5598 - val_loss: 2.4494 - val_accuracy: 0.4828\n",
            "Epoch 63/100\n",
            "106/106 [==============================] - 0s 2ms/step - loss: 1.9666 - accuracy: 0.5592 - val_loss: 2.4461 - val_accuracy: 0.4840\n",
            "Epoch 64/100\n",
            "106/106 [==============================] - 0s 2ms/step - loss: 1.9617 - accuracy: 0.5589 - val_loss: 2.4495 - val_accuracy: 0.4852\n",
            "Epoch 65/100\n",
            "106/106 [==============================] - 0s 2ms/step - loss: 1.9580 - accuracy: 0.5628 - val_loss: 2.4524 - val_accuracy: 0.4817\n",
            "Epoch 66/100\n",
            "106/106 [==============================] - 0s 2ms/step - loss: 1.9558 - accuracy: 0.5631 - val_loss: 2.4520 - val_accuracy: 0.4828\n",
            "Epoch 67/100\n",
            "106/106 [==============================] - 0s 2ms/step - loss: 1.9510 - accuracy: 0.5645 - val_loss: 2.4589 - val_accuracy: 0.4817\n",
            "Epoch 68/100\n",
            "106/106 [==============================] - 0s 2ms/step - loss: 1.9467 - accuracy: 0.5610 - val_loss: 2.4644 - val_accuracy: 0.4828\n",
            "Epoch 69/100\n",
            "106/106 [==============================] - 0s 2ms/step - loss: 1.9445 - accuracy: 0.5648 - val_loss: 2.4644 - val_accuracy: 0.4840\n",
            "Epoch 70/100\n",
            "106/106 [==============================] - 0s 2ms/step - loss: 1.9400 - accuracy: 0.5675 - val_loss: 2.4694 - val_accuracy: 0.4876\n",
            "Epoch 71/100\n",
            "106/106 [==============================] - 0s 2ms/step - loss: 1.9375 - accuracy: 0.5663 - val_loss: 2.4703 - val_accuracy: 0.4876\n",
            "Epoch 72/100\n",
            "106/106 [==============================] - 0s 2ms/step - loss: 1.9334 - accuracy: 0.5651 - val_loss: 2.4703 - val_accuracy: 0.4852\n",
            "Epoch 73/100\n",
            "106/106 [==============================] - 0s 2ms/step - loss: 1.9286 - accuracy: 0.5684 - val_loss: 2.4753 - val_accuracy: 0.4888\n",
            "Epoch 74/100\n",
            "106/106 [==============================] - 0s 2ms/step - loss: 1.9253 - accuracy: 0.5684 - val_loss: 2.4792 - val_accuracy: 0.4911\n",
            "Epoch 75/100\n",
            "106/106 [==============================] - 0s 2ms/step - loss: 1.9232 - accuracy: 0.5684 - val_loss: 2.4815 - val_accuracy: 0.4899\n",
            "Epoch 76/100\n",
            "106/106 [==============================] - 0s 2ms/step - loss: 1.9202 - accuracy: 0.5699 - val_loss: 2.4861 - val_accuracy: 0.4911\n",
            "Epoch 77/100\n",
            "106/106 [==============================] - 0s 2ms/step - loss: 1.9156 - accuracy: 0.5731 - val_loss: 2.4862 - val_accuracy: 0.4899\n",
            "Epoch 78/100\n",
            "106/106 [==============================] - 0s 2ms/step - loss: 1.9135 - accuracy: 0.5681 - val_loss: 2.4896 - val_accuracy: 0.4935\n",
            "Epoch 79/100\n",
            "106/106 [==============================] - 0s 2ms/step - loss: 1.9081 - accuracy: 0.5725 - val_loss: 2.4957 - val_accuracy: 0.4935\n",
            "Epoch 80/100\n",
            "106/106 [==============================] - 0s 2ms/step - loss: 1.9067 - accuracy: 0.5743 - val_loss: 2.4963 - val_accuracy: 0.4935\n",
            "Epoch 81/100\n",
            "106/106 [==============================] - 0s 2ms/step - loss: 1.9037 - accuracy: 0.5758 - val_loss: 2.4983 - val_accuracy: 0.4959\n",
            "Epoch 82/100\n",
            "106/106 [==============================] - 0s 2ms/step - loss: 1.8997 - accuracy: 0.5755 - val_loss: 2.4954 - val_accuracy: 0.4899\n",
            "Epoch 83/100\n",
            "106/106 [==============================] - 0s 2ms/step - loss: 1.8966 - accuracy: 0.5764 - val_loss: 2.5023 - val_accuracy: 0.4923\n",
            "Epoch 84/100\n",
            "106/106 [==============================] - 0s 2ms/step - loss: 1.8927 - accuracy: 0.5770 - val_loss: 2.5050 - val_accuracy: 0.4935\n",
            "Epoch 85/100\n",
            "106/106 [==============================] - 0s 2ms/step - loss: 1.8894 - accuracy: 0.5779 - val_loss: 2.5104 - val_accuracy: 0.4982\n",
            "Epoch 86/100\n",
            "106/106 [==============================] - 0s 2ms/step - loss: 1.8874 - accuracy: 0.5814 - val_loss: 2.5058 - val_accuracy: 0.4935\n",
            "Epoch 87/100\n",
            "106/106 [==============================] - 0s 2ms/step - loss: 1.8838 - accuracy: 0.5790 - val_loss: 2.5124 - val_accuracy: 0.4959\n",
            "Epoch 88/100\n",
            "106/106 [==============================] - 0s 2ms/step - loss: 1.8805 - accuracy: 0.5805 - val_loss: 2.5140 - val_accuracy: 0.4959\n",
            "Epoch 89/100\n",
            "106/106 [==============================] - 0s 2ms/step - loss: 1.8783 - accuracy: 0.5838 - val_loss: 2.5187 - val_accuracy: 0.4959\n",
            "Epoch 90/100\n",
            "106/106 [==============================] - 0s 2ms/step - loss: 1.8742 - accuracy: 0.5844 - val_loss: 2.5145 - val_accuracy: 0.4959\n",
            "Epoch 91/100\n",
            "106/106 [==============================] - 0s 2ms/step - loss: 1.8718 - accuracy: 0.5844 - val_loss: 2.5193 - val_accuracy: 0.4923\n",
            "Epoch 92/100\n",
            "106/106 [==============================] - 0s 2ms/step - loss: 1.8678 - accuracy: 0.5858 - val_loss: 2.5203 - val_accuracy: 0.4959\n",
            "Epoch 93/100\n",
            "106/106 [==============================] - 0s 2ms/step - loss: 1.8643 - accuracy: 0.5858 - val_loss: 2.5339 - val_accuracy: 0.4982\n",
            "Epoch 94/100\n",
            "106/106 [==============================] - 0s 2ms/step - loss: 1.8627 - accuracy: 0.5876 - val_loss: 2.5281 - val_accuracy: 0.4970\n",
            "Epoch 95/100\n",
            "106/106 [==============================] - 0s 2ms/step - loss: 1.8581 - accuracy: 0.5906 - val_loss: 2.5267 - val_accuracy: 0.4970\n",
            "Epoch 96/100\n",
            "106/106 [==============================] - 0s 2ms/step - loss: 1.8569 - accuracy: 0.5909 - val_loss: 2.5342 - val_accuracy: 0.4970\n",
            "Epoch 97/100\n",
            "106/106 [==============================] - 0s 2ms/step - loss: 1.8531 - accuracy: 0.5918 - val_loss: 2.5414 - val_accuracy: 0.4959\n",
            "Epoch 98/100\n",
            "106/106 [==============================] - 0s 2ms/step - loss: 1.8501 - accuracy: 0.5912 - val_loss: 2.5459 - val_accuracy: 0.4959\n",
            "Epoch 99/100\n",
            "106/106 [==============================] - 0s 2ms/step - loss: 1.8481 - accuracy: 0.5924 - val_loss: 2.5510 - val_accuracy: 0.4994\n",
            "Epoch 100/100\n",
            "106/106 [==============================] - 0s 2ms/step - loss: 1.8436 - accuracy: 0.5924 - val_loss: 2.5495 - val_accuracy: 0.4994\n"
          ],
          "name": "stdout"
        }
      ]
    },
    {
      "cell_type": "code",
      "metadata": {
        "colab": {
          "base_uri": "https://localhost:8080/",
          "height": 573
        },
        "id": "5df0ee78",
        "outputId": "a68bbafe-7b92-4805-dac2-cd89dcc217f7"
      },
      "source": [
        "# summarize history for accuracy\n",
        "plt.plot(history.history['accuracy'])\n",
        "plt.plot(history.history['val_accuracy'])\n",
        "plt.title('model accuracy')\n",
        "plt.ylabel('accuracy')\n",
        "plt.xlabel('epoch')\n",
        "plt.legend(['train', 'test'], loc='upper left')\n",
        "plt.show()\n",
        "# summarize history for loss\n",
        "plt.plot(history.history['loss'])\n",
        "plt.plot(history.history['val_loss'])\n",
        "plt.title('model loss')\n",
        "plt.ylabel('loss')\n",
        "plt.xlabel('epoch')\n",
        "plt.legend(['train', 'test'], loc='upper left')\n",
        "plt.show()"
      ],
      "id": "5df0ee78",
      "execution_count": 136,
      "outputs": [
        {
          "output_type": "display_data",
          "data": {
            "image/png": "[encoded data removed]",
            "text/plain": [
              "<Figure size 432x288 with 1 Axes>"
            ]
          },
          "metadata": {
            "tags": [],
            "needs_background": "light"
          }
        },
        {
          "output_type": "display_data",
          "data": {
            "image/png": "[encoded data removed]",
            "text/plain": [
              "<Figure size 432x288 with 1 Axes>"
            ]
          },
          "metadata": {
            "tags": [],
            "needs_background": "light"
          }
        }
      ]
    },
    {
      "cell_type": "markdown",
      "metadata": {
        "id": "dac11b21"
      },
      "source": [
        "# 3. Inference"
      ],
      "id": "dac11b21"
    },
    {
      "cell_type": "code",
      "metadata": {
        "colab": {
          "base_uri": "https://localhost:8080/"
        },
        "id": "3de015ad",
        "outputId": "cb2bb51a-24bc-4e69-cd98-bb84b8914f15"
      },
      "source": [
        "# inference using the trained classifier\n",
        "an_input = Xtrain_encoded[3]\n",
        "output = model.predict(scaler.transform(np.expand_dims(an_input, 0)))\n",
        "result = \"True\" if output[0][0] > 0.5 else \"Fake\"\n",
        "print(\">>> Result: \", result)"
      ],
      "id": "3de015ad",
      "execution_count": 138,
      "outputs": [
        {
          "output_type": "stream",
          "text": [
            ">>> Result:  Fake\n"
          ],
          "name": "stdout"
        }
      ]
    },
    {
      "cell_type": "markdown",
      "metadata": {
        "id": "495419cd"
      },
      "source": [
        "# 4. report"
      ],
      "id": "495419cd"
    },
    {
      "cell_type": "code",
      "metadata": {
        "id": "80e8bed5"
      },
      "source": [
        "from sklearn.metrics import confusion_matrix, classification_report, accuracy_score"
      ],
      "id": "80e8bed5",
      "execution_count": 104,
      "outputs": []
    },
    {
      "cell_type": "code",
      "metadata": {
        "id": "bfe9edc4"
      },
      "source": [
        "pred = model.predict(X_test)"
      ],
      "id": "bfe9edc4",
      "execution_count": 105,
      "outputs": []
    },
    {
      "cell_type": "code",
      "metadata": {
        "id": "c1d0c99e"
      },
      "source": [
        "pred_classes = np.array([1 if i[0] > 0.5 else 0 for i in pred])"
      ],
      "id": "c1d0c99e",
      "execution_count": 106,
      "outputs": []
    },
    {
      "cell_type": "code",
      "metadata": {
        "colab": {
          "base_uri": "https://localhost:8080/"
        },
        "id": "709679ef",
        "outputId": "500405c1-8efa-4879-b132-c6adfbe9c895"
      },
      "source": [
        "confusion_matrix(y_test.values, pred_classes)"
      ],
      "id": "709679ef",
      "execution_count": 107,
      "outputs": [
        {
          "output_type": "execute_result",
          "data": {
            "text/plain": [
              "array([[666,   0],\n",
              "       [179,   0]])"
            ]
          },
          "metadata": {
            "tags": []
          },
          "execution_count": 107
        }
      ]
    },
    {
      "cell_type": "code",
      "metadata": {
        "colab": {
          "base_uri": "https://localhost:8080/"
        },
        "id": "4444b655",
        "outputId": "9b6feea3-fbe8-411a-ec26-994350df687d"
      },
      "source": [
        "print(classification_report(y_test.values, pred_classes))"
      ],
      "id": "4444b655",
      "execution_count": 108,
      "outputs": [
        {
          "output_type": "stream",
          "text": [
            "              precision    recall  f1-score   support\n",
            "\n",
            "           0       0.79      1.00      0.88       666\n",
            "           1       0.00      0.00      0.00       179\n",
            "\n",
            "    accuracy                           0.79       845\n",
            "   macro avg       0.39      0.50      0.44       845\n",
            "weighted avg       0.62      0.79      0.69       845\n",
            "\n"
          ],
          "name": "stdout"
        },
        {
          "output_type": "stream",
          "text": [
            "/usr/local/lib/python3.7/dist-packages/sklearn/metrics/_classification.py:1272: UndefinedMetricWarning: Precision and F-score are ill-defined and being set to 0.0 in labels with no predicted samples. Use `zero_division` parameter to control this behavior.\n",
            "  _warn_prf(average, modifier, msg_start, len(result))\n"
          ],
          "name": "stderr"
        }
      ]
    },
    {
      "cell_type": "markdown",
      "metadata": {
        "id": "b674b6fe"
      },
      "source": [
        "# 5. Other model"
      ],
      "id": "b674b6fe"
    },
    {
      "cell_type": "code",
      "metadata": {
        "id": "fbf1f7cf"
      },
      "source": [
        "# SVM"
      ],
      "id": "fbf1f7cf",
      "execution_count": 74,
      "outputs": []
    },
    {
      "cell_type": "code",
      "metadata": {
        "id": "f672037a"
      },
      "source": [
        "from sklearn.svm import SVC"
      ],
      "id": "f672037a",
      "execution_count": 63,
      "outputs": []
    },
    {
      "cell_type": "code",
      "metadata": {
        "id": "61e8e67d"
      },
      "source": [
        "clf = SVC(random_state=0)"
      ],
      "id": "61e8e67d",
      "execution_count": 64,
      "outputs": []
    },
    {
      "cell_type": "code",
      "metadata": {
        "colab": {
          "base_uri": "https://localhost:8080/"
        },
        "id": "7194bfbc",
        "outputId": "9feb1036-ea65-486f-fb4a-2e0c73ff7432"
      },
      "source": [
        "clf.fit(X_train, y_train)"
      ],
      "id": "7194bfbc",
      "execution_count": 65,
      "outputs": [
        {
          "output_type": "execute_result",
          "data": {
            "text/plain": [
              "SVC(C=1.0, break_ties=False, cache_size=200, class_weight=None, coef0=0.0,\n",
              "    decision_function_shape='ovr', degree=3, gamma='scale', kernel='rbf',\n",
              "    max_iter=-1, probability=False, random_state=0, shrinking=True, tol=0.001,\n",
              "    verbose=False)"
            ]
          },
          "metadata": {
            "tags": []
          },
          "execution_count": 65
        }
      ]
    },
    {
      "cell_type": "code",
      "metadata": {
        "id": "b18b158a"
      },
      "source": [
        "pred = clf.predict(X_test)"
      ],
      "id": "b18b158a",
      "execution_count": 66,
      "outputs": []
    },
    {
      "cell_type": "code",
      "metadata": {
        "colab": {
          "base_uri": "https://localhost:8080/"
        },
        "id": "2c6a83ae",
        "outputId": "bb62436c-8b11-43ee-e8e9-f79dcc31b2d3"
      },
      "source": [
        "accuracy_score(y_test, pred)"
      ],
      "id": "2c6a83ae",
      "execution_count": 67,
      "outputs": [
        {
          "output_type": "execute_result",
          "data": {
            "text/plain": [
              "0.6236686390532544"
            ]
          },
          "metadata": {
            "tags": []
          },
          "execution_count": 67
        }
      ]
    }
  ]
}