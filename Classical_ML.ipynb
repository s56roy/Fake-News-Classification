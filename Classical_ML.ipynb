{
  "nbformat": 4,
  "nbformat_minor": 0,
  "metadata": {
    "colab": {
      "name": "Classical ML.ipynb",
      "provenance": [],
      "toc_visible": true,
      "authorship_tag": "ABX9TyMH/Cv4iDO/PbvSpuifxA2v",
      "include_colab_link": true
    },
    "kernelspec": {
      "name": "python3",
      "display_name": "Python 3"
    },
    "language_info": {
      "name": "python"
    }
  },
  "cells": [
    {
      "cell_type": "markdown",
      "metadata": {
        "id": "view-in-github",
        "colab_type": "text"
      },
      "source": [
        "<a href=\"https://colab.research.google.com/github/s56roy/Fake-News-Classification/blob/main/Classical_ML.ipynb\" target=\"_parent\"><img src=\"https://colab.research.google.com/assets/colab-badge.svg\" alt=\"Open In Colab\"/></a>"
      ]
    },
    {
      "cell_type": "code",
      "metadata": {
        "id": "BJZN9tYMD98I"
      },
      "source": [
        "# Importing ml libraries\n",
        "import numpy as np\n",
        "import pandas as pd\n",
        "import torch"
      ],
      "execution_count": 1,
      "outputs": []
    },
    {
      "cell_type": "code",
      "metadata": {
        "id": "eY1cYjj5EAvZ"
      },
      "source": [
        "!pip install datasets"
      ],
      "execution_count": null,
      "outputs": []
    },
    {
      "cell_type": "code",
      "metadata": {
        "id": "KMUhsiubEGij"
      },
      "source": [
        "from torch.utils.data import Dataset\n",
        "from torchvision import datasets\n",
        "from datasets import load_dataset"
      ],
      "execution_count": 3,
      "outputs": []
    },
    {
      "cell_type": "code",
      "metadata": {
        "colab": {
          "base_uri": "https://localhost:8080/"
        },
        "id": "JtHXyp9BEHWo",
        "outputId": "81fd702b-af88-438d-e31b-04a195d52a94"
      },
      "source": [
        "# download dataset\n",
        "dataset = load_dataset(\"datacommons_factcheck\", \"fctchk_politifact_wapo\")"
      ],
      "execution_count": 4,
      "outputs": [
        {
          "output_type": "stream",
          "text": [
            "Reusing dataset datacommons_factcheck (/root/.cache/huggingface/datasets/datacommons_factcheck/fctchk_politifact_wapo/1.0.0/e3861c84c3e449fb0c316b75997e30bbf723e2ca7f33c668bda07b7436567b35)\n"
          ],
          "name": "stderr"
        }
      ]
    },
    {
      "cell_type": "code",
      "metadata": {
        "id": "U2b9Xq6_EMEp"
      },
      "source": [
        "# convert the dataset into pandas data frame for easy manipulation\n",
        "pd_data = pd.DataFrame(dataset['train'])"
      ],
      "execution_count": 5,
      "outputs": []
    },
    {
      "cell_type": "code",
      "metadata": {
        "colab": {
          "base_uri": "https://localhost:8080/",
          "height": 419
        },
        "id": "ieMXfLrUEP8C",
        "outputId": "18e7bbd4-aa43-4877-d932-cf09d4ed1366"
      },
      "source": [
        "pd_data"
      ],
      "execution_count": 6,
      "outputs": [
        {
          "output_type": "execute_result",
          "data": {
            "text/html": [
              "<div>\n",
              "<style scoped>\n",
              "    .dataframe tbody tr th:only-of-type {\n",
              "        vertical-align: middle;\n",
              "    }\n",
              "\n",
              "    .dataframe tbody tr th {\n",
              "        vertical-align: top;\n",
              "    }\n",
              "\n",
              "    .dataframe thead th {\n",
              "        text-align: right;\n",
              "    }\n",
              "</style>\n",
              "<table border=\"1\" class=\"dataframe\">\n",
              "  <thead>\n",
              "    <tr style=\"text-align: right;\">\n",
              "      <th></th>\n",
              "      <th>claim_author_name</th>\n",
              "      <th>claim_date</th>\n",
              "      <th>claim_text</th>\n",
              "      <th>review_date</th>\n",
              "      <th>review_rating</th>\n",
              "      <th>review_url</th>\n",
              "      <th>reviewer_name</th>\n",
              "    </tr>\n",
              "  </thead>\n",
              "  <tbody>\n",
              "    <tr>\n",
              "      <th>0</th>\n",
              "      <td>Facebook posts</td>\n",
              "      <td>2019-01-01</td>\n",
              "      <td>Quotes Michelle Obama as saying, \"White folks ...</td>\n",
              "      <td>2019-01-03</td>\n",
              "      <td>Pants on Fire</td>\n",
              "      <td>https://www.politifact.com/facebook-fact-check...</td>\n",
              "      <td>PolitiFact</td>\n",
              "    </tr>\n",
              "    <tr>\n",
              "      <th>1</th>\n",
              "      <td>Ted Cruz</td>\n",
              "      <td>2018-04-11</td>\n",
              "      <td>Says Facebook shut down a \"Chick-Fil-A Appreci...</td>\n",
              "      <td>2018-04-23</td>\n",
              "      <td>Half True</td>\n",
              "      <td>https://www.politifact.com/texas/statements/20...</td>\n",
              "      <td>PolitiFact</td>\n",
              "    </tr>\n",
              "    <tr>\n",
              "      <th>2</th>\n",
              "      <td>Donald Trump</td>\n",
              "      <td>2018-06-12</td>\n",
              "      <td>\"We haven’t given up anything other than … I a...</td>\n",
              "      <td>2018-06-12</td>\n",
              "      <td>Will military drills end?</td>\n",
              "      <td>http://www.politifact.com/truth-o-meter/articl...</td>\n",
              "      <td>PolitiFact</td>\n",
              "    </tr>\n",
              "    <tr>\n",
              "      <th>3</th>\n",
              "      <td>Various websites</td>\n",
              "      <td>2017-09-03</td>\n",
              "      <td>\"BREAKING: 2 Democrat Congressmen On ISIS Payr...</td>\n",
              "      <td>2017-10-26</td>\n",
              "      <td>False</td>\n",
              "      <td>https://www.factcheck.org/2017/10/no-isis-arre...</td>\n",
              "      <td>FactCheck.org</td>\n",
              "    </tr>\n",
              "    <tr>\n",
              "      <th>4</th>\n",
              "      <td>James Woods</td>\n",
              "      <td>2016-08-27</td>\n",
              "      <td>The \"Dallas Cowboys can’t put a sticker on the...</td>\n",
              "      <td>2016-09-01</td>\n",
              "      <td>True</td>\n",
              "      <td>https://www.politifact.com/texas/statements/20...</td>\n",
              "      <td>PolitiFact</td>\n",
              "    </tr>\n",
              "    <tr>\n",
              "      <th>...</th>\n",
              "      <td>...</td>\n",
              "      <td>...</td>\n",
              "      <td>...</td>\n",
              "      <td>...</td>\n",
              "      <td>...</td>\n",
              "      <td>...</td>\n",
              "      <td>...</td>\n",
              "    </tr>\n",
              "    <tr>\n",
              "      <th>5627</th>\n",
              "      <td>Wisconsin Republican Party</td>\n",
              "      <td></td>\n",
              "      <td>Claims that Democratic candidate for governor ...</td>\n",
              "      <td>2018-08-10</td>\n",
              "      <td>Half True</td>\n",
              "      <td>https://www.politifact.com/wisconsin/statement...</td>\n",
              "      <td>PolitiFact</td>\n",
              "    </tr>\n",
              "    <tr>\n",
              "      <th>5628</th>\n",
              "      <td>Various websites</td>\n",
              "      <td>2018-05-01</td>\n",
              "      <td>\"Clint Eastwood Leaves His Estate To The Trump...</td>\n",
              "      <td>2018-05-08</td>\n",
              "      <td>False</td>\n",
              "      <td>https://www.factcheck.org/2018/05/eastwood-not...</td>\n",
              "      <td>FactCheck.org</td>\n",
              "    </tr>\n",
              "    <tr>\n",
              "      <th>5629</th>\n",
              "      <td>Donald Trump</td>\n",
              "      <td>2017-11-27</td>\n",
              "      <td>\"You were here long before any of us were here...</td>\n",
              "      <td>2017-11-27</td>\n",
              "      <td>Needs Context</td>\n",
              "      <td>https://www.washingtonpost.com/news/fact-check...</td>\n",
              "      <td>Washington Post</td>\n",
              "    </tr>\n",
              "    <tr>\n",
              "      <th>5630</th>\n",
              "      <td>Mick Mulvaney</td>\n",
              "      <td>2019-01-06</td>\n",
              "      <td>\"We had arrested 17,000 criminals at the south...</td>\n",
              "      <td>2019-01-08</td>\n",
              "      <td>Misleading</td>\n",
              "      <td>https://www.factcheck.org/2019/01/misleading-b...</td>\n",
              "      <td>FactCheck.org</td>\n",
              "    </tr>\n",
              "    <tr>\n",
              "      <th>5631</th>\n",
              "      <td>Sydney Batch</td>\n",
              "      <td>2018-10-23</td>\n",
              "      <td>John Adcock, GOP plan for health care \"would g...</td>\n",
              "      <td>2018-10-23</td>\n",
              "      <td>False</td>\n",
              "      <td>https://www.politifact.com/north-carolina/stat...</td>\n",
              "      <td>PolitiFact</td>\n",
              "    </tr>\n",
              "  </tbody>\n",
              "</table>\n",
              "<p>5632 rows × 7 columns</p>\n",
              "</div>"
            ],
            "text/plain": [
              "               claim_author_name  ...    reviewer_name\n",
              "0                 Facebook posts  ...       PolitiFact\n",
              "1                       Ted Cruz  ...       PolitiFact\n",
              "2                   Donald Trump  ...       PolitiFact\n",
              "3               Various websites  ...    FactCheck.org\n",
              "4                    James Woods  ...       PolitiFact\n",
              "...                          ...  ...              ...\n",
              "5627  Wisconsin Republican Party  ...       PolitiFact\n",
              "5628            Various websites  ...    FactCheck.org\n",
              "5629                Donald Trump  ...  Washington Post\n",
              "5630               Mick Mulvaney  ...    FactCheck.org\n",
              "5631                Sydney Batch  ...       PolitiFact\n",
              "\n",
              "[5632 rows x 7 columns]"
            ]
          },
          "metadata": {
            "tags": []
          },
          "execution_count": 6
        }
      ]
    },
    {
      "cell_type": "markdown",
      "metadata": {
        "id": "97bQmgR9VMfS"
      },
      "source": [
        "Dropping any row with NaN values\n",
        "\n",
        "---\n",
        "\n"
      ]
    },
    {
      "cell_type": "code",
      "metadata": {
        "id": "ZOXO3QREEehv"
      },
      "source": [
        "# drop `NaN` rows\n",
        "pd_data = pd_data.dropna(axis=0)"
      ],
      "execution_count": 7,
      "outputs": []
    },
    {
      "cell_type": "code",
      "metadata": {
        "id": "1yGq-SQhPgzl"
      },
      "source": [
        "import seaborn as sns\n",
        "import matplotlib.pyplot as plt\n",
        "\n",
        "import matplotlib.pyplot as plt\n"
      ],
      "execution_count": 8,
      "outputs": []
    },
    {
      "cell_type": "code",
      "metadata": {
        "id": "-cCdvc9MPEK_"
      },
      "source": [
        "value_counts=pd_data['review_rating'].value_counts(normalize=True)*100"
      ],
      "execution_count": 9,
      "outputs": []
    },
    {
      "cell_type": "markdown",
      "metadata": {
        "id": "Syl3TFXvVUfH"
      },
      "source": [
        "It is observed that there is no row that has been dropped due to NaN values\n",
        "\n",
        "---\n",
        "\n"
      ]
    },
    {
      "cell_type": "code",
      "metadata": {
        "colab": {
          "base_uri": "https://localhost:8080/"
        },
        "id": "b0BeSgpGPQew",
        "outputId": "9b2c2340-17fa-4a0c-c829-b982b95852ba"
      },
      "source": [
        "pd_data['review_rating'].describe()"
      ],
      "execution_count": 10,
      "outputs": [
        {
          "output_type": "execute_result",
          "data": {
            "text/plain": [
              "count      5632\n",
              "unique      391\n",
              "top       False\n",
              "freq       1304\n",
              "Name: review_rating, dtype: object"
            ]
          },
          "metadata": {
            "tags": []
          },
          "execution_count": 10
        }
      ]
    },
    {
      "cell_type": "code",
      "metadata": {
        "id": "cHogjBAGP3Ny"
      },
      "source": [
        "# Select the values where the count is less than 5\n",
        "to_remove = value_counts[value_counts <= 5].index"
      ],
      "execution_count": 11,
      "outputs": []
    },
    {
      "cell_type": "code",
      "metadata": {
        "colab": {
          "base_uri": "https://localhost:8080/",
          "height": 419
        },
        "id": "TdU-KhIOP7JA",
        "outputId": "8c8a2787-4128-43a8-be26-6c55fc356df5"
      },
      "source": [
        "# Keep rows where the city column is not in to_remove\n",
        "df = pd_data[~pd_data.review_rating.isin(to_remove)]\n",
        "df"
      ],
      "execution_count": 12,
      "outputs": [
        {
          "output_type": "execute_result",
          "data": {
            "text/html": [
              "<div>\n",
              "<style scoped>\n",
              "    .dataframe tbody tr th:only-of-type {\n",
              "        vertical-align: middle;\n",
              "    }\n",
              "\n",
              "    .dataframe tbody tr th {\n",
              "        vertical-align: top;\n",
              "    }\n",
              "\n",
              "    .dataframe thead th {\n",
              "        text-align: right;\n",
              "    }\n",
              "</style>\n",
              "<table border=\"1\" class=\"dataframe\">\n",
              "  <thead>\n",
              "    <tr style=\"text-align: right;\">\n",
              "      <th></th>\n",
              "      <th>claim_author_name</th>\n",
              "      <th>claim_date</th>\n",
              "      <th>claim_text</th>\n",
              "      <th>review_date</th>\n",
              "      <th>review_rating</th>\n",
              "      <th>review_url</th>\n",
              "      <th>reviewer_name</th>\n",
              "    </tr>\n",
              "  </thead>\n",
              "  <tbody>\n",
              "    <tr>\n",
              "      <th>0</th>\n",
              "      <td>Facebook posts</td>\n",
              "      <td>2019-01-01</td>\n",
              "      <td>Quotes Michelle Obama as saying, \"White folks ...</td>\n",
              "      <td>2019-01-03</td>\n",
              "      <td>Pants on Fire</td>\n",
              "      <td>https://www.politifact.com/facebook-fact-check...</td>\n",
              "      <td>PolitiFact</td>\n",
              "    </tr>\n",
              "    <tr>\n",
              "      <th>1</th>\n",
              "      <td>Ted Cruz</td>\n",
              "      <td>2018-04-11</td>\n",
              "      <td>Says Facebook shut down a \"Chick-Fil-A Appreci...</td>\n",
              "      <td>2018-04-23</td>\n",
              "      <td>Half True</td>\n",
              "      <td>https://www.politifact.com/texas/statements/20...</td>\n",
              "      <td>PolitiFact</td>\n",
              "    </tr>\n",
              "    <tr>\n",
              "      <th>3</th>\n",
              "      <td>Various websites</td>\n",
              "      <td>2017-09-03</td>\n",
              "      <td>\"BREAKING: 2 Democrat Congressmen On ISIS Payr...</td>\n",
              "      <td>2017-10-26</td>\n",
              "      <td>False</td>\n",
              "      <td>https://www.factcheck.org/2017/10/no-isis-arre...</td>\n",
              "      <td>FactCheck.org</td>\n",
              "    </tr>\n",
              "    <tr>\n",
              "      <th>4</th>\n",
              "      <td>James Woods</td>\n",
              "      <td>2016-08-27</td>\n",
              "      <td>The \"Dallas Cowboys can’t put a sticker on the...</td>\n",
              "      <td>2016-09-01</td>\n",
              "      <td>True</td>\n",
              "      <td>https://www.politifact.com/texas/statements/20...</td>\n",
              "      <td>PolitiFact</td>\n",
              "    </tr>\n",
              "    <tr>\n",
              "      <th>5</th>\n",
              "      <td>National Republican Congressional Committee</td>\n",
              "      <td>2016-08-10</td>\n",
              "      <td>Tom Suozzi raised taxes \"by hundreds of millio...</td>\n",
              "      <td>2016-09-23</td>\n",
              "      <td>True</td>\n",
              "      <td>https://www.politifact.com/new-york/statements...</td>\n",
              "      <td>PolitiFact</td>\n",
              "    </tr>\n",
              "    <tr>\n",
              "      <th>...</th>\n",
              "      <td>...</td>\n",
              "      <td>...</td>\n",
              "      <td>...</td>\n",
              "      <td>...</td>\n",
              "      <td>...</td>\n",
              "      <td>...</td>\n",
              "      <td>...</td>\n",
              "    </tr>\n",
              "    <tr>\n",
              "      <th>5624</th>\n",
              "      <td>Newt Gingrich</td>\n",
              "      <td>2011-06-15</td>\n",
              "      <td>Every 10th dollar spent by the Social Security...</td>\n",
              "      <td>2016-07-15</td>\n",
              "      <td>Mostly True</td>\n",
              "      <td>https://www.politifact.com/georgia/statements/...</td>\n",
              "      <td>PolitiFact</td>\n",
              "    </tr>\n",
              "    <tr>\n",
              "      <th>5626</th>\n",
              "      <td>Scott Walker</td>\n",
              "      <td>2017-07-19</td>\n",
              "      <td>\"We took Wisconsin from the Bottom 10 for busi...</td>\n",
              "      <td>2017-08-23</td>\n",
              "      <td>Mostly False</td>\n",
              "      <td>https://www.politifact.com/wisconsin/statement...</td>\n",
              "      <td>PolitiFact</td>\n",
              "    </tr>\n",
              "    <tr>\n",
              "      <th>5627</th>\n",
              "      <td>Wisconsin Republican Party</td>\n",
              "      <td></td>\n",
              "      <td>Claims that Democratic candidate for governor ...</td>\n",
              "      <td>2018-08-10</td>\n",
              "      <td>Half True</td>\n",
              "      <td>https://www.politifact.com/wisconsin/statement...</td>\n",
              "      <td>PolitiFact</td>\n",
              "    </tr>\n",
              "    <tr>\n",
              "      <th>5628</th>\n",
              "      <td>Various websites</td>\n",
              "      <td>2018-05-01</td>\n",
              "      <td>\"Clint Eastwood Leaves His Estate To The Trump...</td>\n",
              "      <td>2018-05-08</td>\n",
              "      <td>False</td>\n",
              "      <td>https://www.factcheck.org/2018/05/eastwood-not...</td>\n",
              "      <td>FactCheck.org</td>\n",
              "    </tr>\n",
              "    <tr>\n",
              "      <th>5631</th>\n",
              "      <td>Sydney Batch</td>\n",
              "      <td>2018-10-23</td>\n",
              "      <td>John Adcock, GOP plan for health care \"would g...</td>\n",
              "      <td>2018-10-23</td>\n",
              "      <td>False</td>\n",
              "      <td>https://www.politifact.com/north-carolina/stat...</td>\n",
              "      <td>PolitiFact</td>\n",
              "    </tr>\n",
              "  </tbody>\n",
              "</table>\n",
              "<p>4223 rows × 7 columns</p>\n",
              "</div>"
            ],
            "text/plain": [
              "                                claim_author_name  ...  reviewer_name\n",
              "0                                  Facebook posts  ...     PolitiFact\n",
              "1                                        Ted Cruz  ...     PolitiFact\n",
              "3                                Various websites  ...  FactCheck.org\n",
              "4                                     James Woods  ...     PolitiFact\n",
              "5     National Republican Congressional Committee  ...     PolitiFact\n",
              "...                                           ...  ...            ...\n",
              "5624                                Newt Gingrich  ...     PolitiFact\n",
              "5626                                 Scott Walker  ...     PolitiFact\n",
              "5627                   Wisconsin Republican Party  ...     PolitiFact\n",
              "5628                             Various websites  ...  FactCheck.org\n",
              "5631                                 Sydney Batch  ...     PolitiFact\n",
              "\n",
              "[4223 rows x 7 columns]"
            ]
          },
          "metadata": {
            "tags": []
          },
          "execution_count": 12
        }
      ]
    },
    {
      "cell_type": "markdown",
      "metadata": {
        "id": "79sva-DDUiOG"
      },
      "source": [
        "The number of classes after removing the rare occuring classes\n",
        "\n",
        "\n",
        "*   original number of classes: 391\n",
        "*   Updated number of classes: 6\n",
        "\n",
        "\n",
        "\n",
        "---\n",
        "\n"
      ]
    },
    {
      "cell_type": "code",
      "metadata": {
        "colab": {
          "base_uri": "https://localhost:8080/"
        },
        "id": "Rs93kyJZP_6p",
        "outputId": "b3cfde21-9e0f-4096-884f-84012a0c22dd"
      },
      "source": [
        "#Chceking\n",
        "df['review_rating'].value_counts(normalize=True)*100\n",
        "#The new data has only 6 features ( with the others dropped the fequencies has increased)"
      ],
      "execution_count": 13,
      "outputs": [
        {
          "output_type": "execute_result",
          "data": {
            "text/plain": [
              "False            30.878522\n",
              "Mostly False     15.889178\n",
              "Pants on Fire    15.770779\n",
              "Half True        15.273502\n",
              "Mostly True      14.065830\n",
              "True              8.122188\n",
              "Name: review_rating, dtype: float64"
            ]
          },
          "metadata": {
            "tags": []
          },
          "execution_count": 13
        }
      ]
    },
    {
      "cell_type": "markdown",
      "metadata": {
        "id": "taUA3p6GTn-u"
      },
      "source": [
        "**Convert 6 Class to 2 class Problem**\n",
        "\n",
        "\n",
        "\n",
        "*   'True', 'Mostly True', 'Half True' are converted to label - True\n",
        "*   'False', 'Mostly False', 'Pants on Fire' are converted to label - Fake\n",
        "\n",
        "\n",
        "\n",
        "\n",
        "\n",
        "---\n",
        "\n",
        "\n"
      ]
    },
    {
      "cell_type": "code",
      "metadata": {
        "id": "ZRU-96g6EZ0h",
        "colab": {
          "base_uri": "https://localhost:8080/"
        },
        "outputId": "a605cab8-32a6-4043-be66-b95493e2f916"
      },
      "source": [
        "# create a new column: 'category' for binary classification\n",
        "df['category'] = df['review_rating'].apply(lambda x: 'True' if x in ['True', 'Mostly True', 'Half True'] else 'Fake')"
      ],
      "execution_count": 14,
      "outputs": [
        {
          "output_type": "stream",
          "text": [
            "/usr/local/lib/python3.7/dist-packages/ipykernel_launcher.py:2: SettingWithCopyWarning: \n",
            "A value is trying to be set on a copy of a slice from a DataFrame.\n",
            "Try using .loc[row_indexer,col_indexer] = value instead\n",
            "\n",
            "See the caveats in the documentation: https://pandas.pydata.org/pandas-docs/stable/user_guide/indexing.html#returning-a-view-versus-a-copy\n",
            "  \n"
          ],
          "name": "stderr"
        }
      ]
    },
    {
      "cell_type": "markdown",
      "metadata": {
        "id": "ToEUQfZJS3UK"
      },
      "source": [
        "**Concatination Of Features**\n",
        "\n",
        "*   Claim text is concatinated with \"claim_author_name\" and \"reviewer_name\".\n",
        "*   This is done so that both \"claim_author_name\" and \"reviewer_name\" can also be used as features\n",
        "\n",
        "\n",
        "---\n",
        "\n",
        "\n"
      ]
    },
    {
      "cell_type": "code",
      "metadata": {
        "id": "Wl7YayzYEfZT",
        "colab": {
          "base_uri": "https://localhost:8080/"
        },
        "outputId": "5dbd27b7-b3cc-4261-bc52-d4f2fbf5b554"
      },
      "source": [
        "\n",
        "# create a new column: 'claim' by merging 3 columns\n",
        "df['claim'] = df['claim_author_name'] + [' '] * len(df) + df['claim_text'] + [' '] * len(df) + df['reviewer_name']"
      ],
      "execution_count": 15,
      "outputs": [
        {
          "output_type": "stream",
          "text": [
            "/usr/local/lib/python3.7/dist-packages/ipykernel_launcher.py:3: SettingWithCopyWarning: \n",
            "A value is trying to be set on a copy of a slice from a DataFrame.\n",
            "Try using .loc[row_indexer,col_indexer] = value instead\n",
            "\n",
            "See the caveats in the documentation: https://pandas.pydata.org/pandas-docs/stable/user_guide/indexing.html#returning-a-view-versus-a-copy\n",
            "  This is separate from the ipykernel package so we can avoid doing imports until\n"
          ],
          "name": "stderr"
        }
      ]
    },
    {
      "cell_type": "code",
      "metadata": {
        "colab": {
          "base_uri": "https://localhost:8080/",
          "height": 35
        },
        "id": "nkekiFeWaCD9",
        "outputId": "4f236e4c-d41b-48d7-8552-6bdb727671a8"
      },
      "source": [
        "df['review_url'][1]"
      ],
      "execution_count": 68,
      "outputs": [
        {
          "output_type": "execute_result",
          "data": {
            "application/vnd.google.colaboratory.intrinsic+json": {
              "type": "string"
            },
            "text/plain": [
              "'https://www.politifact.com/texas/statements/2018/apr/23/ted-cruz/ted-cruz-correct-facebook-shut-down-chick-fil-appr/'"
            ]
          },
          "metadata": {
            "tags": []
          },
          "execution_count": 68
        }
      ]
    },
    {
      "cell_type": "code",
      "metadata": {
        "colab": {
          "base_uri": "https://localhost:8080/",
          "height": 1000
        },
        "id": "3Vdg65gITpGW",
        "outputId": "8087a4d5-e9e6-4e3a-db4c-0d09635b226a"
      },
      "source": [
        "df"
      ],
      "execution_count": 16,
      "outputs": [
        {
          "output_type": "execute_result",
          "data": {
            "text/html": [
              "<div>\n",
              "<style scoped>\n",
              "    .dataframe tbody tr th:only-of-type {\n",
              "        vertical-align: middle;\n",
              "    }\n",
              "\n",
              "    .dataframe tbody tr th {\n",
              "        vertical-align: top;\n",
              "    }\n",
              "\n",
              "    .dataframe thead th {\n",
              "        text-align: right;\n",
              "    }\n",
              "</style>\n",
              "<table border=\"1\" class=\"dataframe\">\n",
              "  <thead>\n",
              "    <tr style=\"text-align: right;\">\n",
              "      <th></th>\n",
              "      <th>claim_author_name</th>\n",
              "      <th>claim_date</th>\n",
              "      <th>claim_text</th>\n",
              "      <th>review_date</th>\n",
              "      <th>review_rating</th>\n",
              "      <th>review_url</th>\n",
              "      <th>reviewer_name</th>\n",
              "      <th>category</th>\n",
              "      <th>claim</th>\n",
              "    </tr>\n",
              "  </thead>\n",
              "  <tbody>\n",
              "    <tr>\n",
              "      <th>0</th>\n",
              "      <td>Facebook posts</td>\n",
              "      <td>2019-01-01</td>\n",
              "      <td>Quotes Michelle Obama as saying, \"White folks ...</td>\n",
              "      <td>2019-01-03</td>\n",
              "      <td>Pants on Fire</td>\n",
              "      <td>https://www.politifact.com/facebook-fact-check...</td>\n",
              "      <td>PolitiFact</td>\n",
              "      <td>Fake</td>\n",
              "      <td>Facebook posts Quotes Michelle Obama as saying...</td>\n",
              "    </tr>\n",
              "    <tr>\n",
              "      <th>1</th>\n",
              "      <td>Ted Cruz</td>\n",
              "      <td>2018-04-11</td>\n",
              "      <td>Says Facebook shut down a \"Chick-Fil-A Appreci...</td>\n",
              "      <td>2018-04-23</td>\n",
              "      <td>Half True</td>\n",
              "      <td>https://www.politifact.com/texas/statements/20...</td>\n",
              "      <td>PolitiFact</td>\n",
              "      <td>True</td>\n",
              "      <td>Ted Cruz Says Facebook shut down a \"Chick-Fil-...</td>\n",
              "    </tr>\n",
              "    <tr>\n",
              "      <th>3</th>\n",
              "      <td>Various websites</td>\n",
              "      <td>2017-09-03</td>\n",
              "      <td>\"BREAKING: 2 Democrat Congressmen On ISIS Payr...</td>\n",
              "      <td>2017-10-26</td>\n",
              "      <td>False</td>\n",
              "      <td>https://www.factcheck.org/2017/10/no-isis-arre...</td>\n",
              "      <td>FactCheck.org</td>\n",
              "      <td>Fake</td>\n",
              "      <td>Various websites \"BREAKING: 2 Democrat Congres...</td>\n",
              "    </tr>\n",
              "    <tr>\n",
              "      <th>4</th>\n",
              "      <td>James Woods</td>\n",
              "      <td>2016-08-27</td>\n",
              "      <td>The \"Dallas Cowboys can’t put a sticker on the...</td>\n",
              "      <td>2016-09-01</td>\n",
              "      <td>True</td>\n",
              "      <td>https://www.politifact.com/texas/statements/20...</td>\n",
              "      <td>PolitiFact</td>\n",
              "      <td>True</td>\n",
              "      <td>James Woods The \"Dallas Cowboys can’t put a st...</td>\n",
              "    </tr>\n",
              "    <tr>\n",
              "      <th>5</th>\n",
              "      <td>National Republican Congressional Committee</td>\n",
              "      <td>2016-08-10</td>\n",
              "      <td>Tom Suozzi raised taxes \"by hundreds of millio...</td>\n",
              "      <td>2016-09-23</td>\n",
              "      <td>True</td>\n",
              "      <td>https://www.politifact.com/new-york/statements...</td>\n",
              "      <td>PolitiFact</td>\n",
              "      <td>True</td>\n",
              "      <td>National Republican Congressional Committee To...</td>\n",
              "    </tr>\n",
              "    <tr>\n",
              "      <th>...</th>\n",
              "      <td>...</td>\n",
              "      <td>...</td>\n",
              "      <td>...</td>\n",
              "      <td>...</td>\n",
              "      <td>...</td>\n",
              "      <td>...</td>\n",
              "      <td>...</td>\n",
              "      <td>...</td>\n",
              "      <td>...</td>\n",
              "    </tr>\n",
              "    <tr>\n",
              "      <th>5624</th>\n",
              "      <td>Newt Gingrich</td>\n",
              "      <td>2011-06-15</td>\n",
              "      <td>Every 10th dollar spent by the Social Security...</td>\n",
              "      <td>2016-07-15</td>\n",
              "      <td>Mostly True</td>\n",
              "      <td>https://www.politifact.com/georgia/statements/...</td>\n",
              "      <td>PolitiFact</td>\n",
              "      <td>True</td>\n",
              "      <td>Newt Gingrich Every 10th dollar spent by the S...</td>\n",
              "    </tr>\n",
              "    <tr>\n",
              "      <th>5626</th>\n",
              "      <td>Scott Walker</td>\n",
              "      <td>2017-07-19</td>\n",
              "      <td>\"We took Wisconsin from the Bottom 10 for busi...</td>\n",
              "      <td>2017-08-23</td>\n",
              "      <td>Mostly False</td>\n",
              "      <td>https://www.politifact.com/wisconsin/statement...</td>\n",
              "      <td>PolitiFact</td>\n",
              "      <td>Fake</td>\n",
              "      <td>Scott Walker \"We took Wisconsin from the Botto...</td>\n",
              "    </tr>\n",
              "    <tr>\n",
              "      <th>5627</th>\n",
              "      <td>Wisconsin Republican Party</td>\n",
              "      <td></td>\n",
              "      <td>Claims that Democratic candidate for governor ...</td>\n",
              "      <td>2018-08-10</td>\n",
              "      <td>Half True</td>\n",
              "      <td>https://www.politifact.com/wisconsin/statement...</td>\n",
              "      <td>PolitiFact</td>\n",
              "      <td>True</td>\n",
              "      <td>Wisconsin Republican Party Claims that Democra...</td>\n",
              "    </tr>\n",
              "    <tr>\n",
              "      <th>5628</th>\n",
              "      <td>Various websites</td>\n",
              "      <td>2018-05-01</td>\n",
              "      <td>\"Clint Eastwood Leaves His Estate To The Trump...</td>\n",
              "      <td>2018-05-08</td>\n",
              "      <td>False</td>\n",
              "      <td>https://www.factcheck.org/2018/05/eastwood-not...</td>\n",
              "      <td>FactCheck.org</td>\n",
              "      <td>Fake</td>\n",
              "      <td>Various websites \"Clint Eastwood Leaves His Es...</td>\n",
              "    </tr>\n",
              "    <tr>\n",
              "      <th>5631</th>\n",
              "      <td>Sydney Batch</td>\n",
              "      <td>2018-10-23</td>\n",
              "      <td>John Adcock, GOP plan for health care \"would g...</td>\n",
              "      <td>2018-10-23</td>\n",
              "      <td>False</td>\n",
              "      <td>https://www.politifact.com/north-carolina/stat...</td>\n",
              "      <td>PolitiFact</td>\n",
              "      <td>Fake</td>\n",
              "      <td>Sydney Batch John Adcock, GOP plan for health ...</td>\n",
              "    </tr>\n",
              "  </tbody>\n",
              "</table>\n",
              "<p>4223 rows × 9 columns</p>\n",
              "</div>"
            ],
            "text/plain": [
              "                                claim_author_name  ...                                              claim\n",
              "0                                  Facebook posts  ...  Facebook posts Quotes Michelle Obama as saying...\n",
              "1                                        Ted Cruz  ...  Ted Cruz Says Facebook shut down a \"Chick-Fil-...\n",
              "3                                Various websites  ...  Various websites \"BREAKING: 2 Democrat Congres...\n",
              "4                                     James Woods  ...  James Woods The \"Dallas Cowboys can’t put a st...\n",
              "5     National Republican Congressional Committee  ...  National Republican Congressional Committee To...\n",
              "...                                           ...  ...                                                ...\n",
              "5624                                Newt Gingrich  ...  Newt Gingrich Every 10th dollar spent by the S...\n",
              "5626                                 Scott Walker  ...  Scott Walker \"We took Wisconsin from the Botto...\n",
              "5627                   Wisconsin Republican Party  ...  Wisconsin Republican Party Claims that Democra...\n",
              "5628                             Various websites  ...  Various websites \"Clint Eastwood Leaves His Es...\n",
              "5631                                 Sydney Batch  ...  Sydney Batch John Adcock, GOP plan for health ...\n",
              "\n",
              "[4223 rows x 9 columns]"
            ]
          },
          "metadata": {
            "tags": []
          },
          "execution_count": 16
        }
      ]
    },
    {
      "cell_type": "code",
      "metadata": {
        "id": "DuoNubSLEifY"
      },
      "source": [
        "# finalized data\n",
        "final_data = df[['claim', 'category']]"
      ],
      "execution_count": 17,
      "outputs": []
    },
    {
      "cell_type": "markdown",
      "metadata": {
        "id": "plp7qumlSL1t"
      },
      "source": [
        "**Observations :-**\n",
        "\n",
        "*   Complete set of data contain 800 rows.\n",
        "*   The dataset has been converted to binary class - \"True\" or \"Fake\""
      ]
    },
    {
      "cell_type": "markdown",
      "metadata": {
        "id": "o0yAyZzT-nsY"
      },
      "source": [
        "### General Data Preprocessing"
      ]
    },
    {
      "cell_type": "markdown",
      "metadata": {
        "id": "2TTMrA-SRJiZ"
      },
      "source": [
        "In this section, we are cleaning the text with removing any kind of non alphanumeric characters as well as converting to all lower case from the claim column text.\n",
        "\n"
      ]
    },
    {
      "cell_type": "code",
      "metadata": {
        "colab": {
          "base_uri": "https://localhost:8080/"
        },
        "id": "lmiHy_04-asz",
        "outputId": "8ba0a487-76bb-4df3-c5b5-d51142f2272a"
      },
      "source": [
        "import re\n",
        "def clean_txt(text):\n",
        "    text = re.sub(\"'\", \"\", text)\n",
        "    text = re.sub(\"(\\\\W)+\", \" \", text)\n",
        "    text = text.lower()\n",
        "    return text\n",
        "\n",
        "final_data['claim'] = final_data['claim'].apply(clean_txt)\n"
      ],
      "execution_count": 18,
      "outputs": [
        {
          "output_type": "stream",
          "text": [
            "/usr/local/lib/python3.7/dist-packages/ipykernel_launcher.py:8: SettingWithCopyWarning: \n",
            "A value is trying to be set on a copy of a slice from a DataFrame.\n",
            "Try using .loc[row_indexer,col_indexer] = value instead\n",
            "\n",
            "See the caveats in the documentation: https://pandas.pydata.org/pandas-docs/stable/user_guide/indexing.html#returning-a-view-versus-a-copy\n",
            "  \n"
          ],
          "name": "stderr"
        }
      ]
    },
    {
      "cell_type": "code",
      "metadata": {
        "colab": {
          "base_uri": "https://localhost:8080/",
          "height": 419
        },
        "id": "pK7mPyscWkrE",
        "outputId": "48c47d64-5284-4ddf-adab-300f15c5108d"
      },
      "source": [
        "final_data"
      ],
      "execution_count": 19,
      "outputs": [
        {
          "output_type": "execute_result",
          "data": {
            "text/html": [
              "<div>\n",
              "<style scoped>\n",
              "    .dataframe tbody tr th:only-of-type {\n",
              "        vertical-align: middle;\n",
              "    }\n",
              "\n",
              "    .dataframe tbody tr th {\n",
              "        vertical-align: top;\n",
              "    }\n",
              "\n",
              "    .dataframe thead th {\n",
              "        text-align: right;\n",
              "    }\n",
              "</style>\n",
              "<table border=\"1\" class=\"dataframe\">\n",
              "  <thead>\n",
              "    <tr style=\"text-align: right;\">\n",
              "      <th></th>\n",
              "      <th>claim</th>\n",
              "      <th>category</th>\n",
              "    </tr>\n",
              "  </thead>\n",
              "  <tbody>\n",
              "    <tr>\n",
              "      <th>0</th>\n",
              "      <td>facebook posts quotes michelle obama as saying...</td>\n",
              "      <td>Fake</td>\n",
              "    </tr>\n",
              "    <tr>\n",
              "      <th>1</th>\n",
              "      <td>ted cruz says facebook shut down a chick fil a...</td>\n",
              "      <td>True</td>\n",
              "    </tr>\n",
              "    <tr>\n",
              "      <th>3</th>\n",
              "      <td>various websites breaking 2 democrat congressm...</td>\n",
              "      <td>Fake</td>\n",
              "    </tr>\n",
              "    <tr>\n",
              "      <th>4</th>\n",
              "      <td>james woods the dallas cowboys can t put a sti...</td>\n",
              "      <td>True</td>\n",
              "    </tr>\n",
              "    <tr>\n",
              "      <th>5</th>\n",
              "      <td>national republican congressional committee to...</td>\n",
              "      <td>True</td>\n",
              "    </tr>\n",
              "    <tr>\n",
              "      <th>...</th>\n",
              "      <td>...</td>\n",
              "      <td>...</td>\n",
              "    </tr>\n",
              "    <tr>\n",
              "      <th>5624</th>\n",
              "      <td>newt gingrich every 10th dollar spent by the s...</td>\n",
              "      <td>True</td>\n",
              "    </tr>\n",
              "    <tr>\n",
              "      <th>5626</th>\n",
              "      <td>scott walker we took wisconsin from the bottom...</td>\n",
              "      <td>Fake</td>\n",
              "    </tr>\n",
              "    <tr>\n",
              "      <th>5627</th>\n",
              "      <td>wisconsin republican party claims that democra...</td>\n",
              "      <td>True</td>\n",
              "    </tr>\n",
              "    <tr>\n",
              "      <th>5628</th>\n",
              "      <td>various websites clint eastwood leaves his est...</td>\n",
              "      <td>Fake</td>\n",
              "    </tr>\n",
              "    <tr>\n",
              "      <th>5631</th>\n",
              "      <td>sydney batch john adcock gop plan for health c...</td>\n",
              "      <td>Fake</td>\n",
              "    </tr>\n",
              "  </tbody>\n",
              "</table>\n",
              "<p>4223 rows × 2 columns</p>\n",
              "</div>"
            ],
            "text/plain": [
              "                                                  claim category\n",
              "0     facebook posts quotes michelle obama as saying...     Fake\n",
              "1     ted cruz says facebook shut down a chick fil a...     True\n",
              "3     various websites breaking 2 democrat congressm...     Fake\n",
              "4     james woods the dallas cowboys can t put a sti...     True\n",
              "5     national republican congressional committee to...     True\n",
              "...                                                 ...      ...\n",
              "5624  newt gingrich every 10th dollar spent by the s...     True\n",
              "5626  scott walker we took wisconsin from the bottom...     Fake\n",
              "5627  wisconsin republican party claims that democra...     True\n",
              "5628  various websites clint eastwood leaves his est...     Fake\n",
              "5631  sydney batch john adcock gop plan for health c...     Fake\n",
              "\n",
              "[4223 rows x 2 columns]"
            ]
          },
          "metadata": {
            "tags": []
          },
          "execution_count": 19
        }
      ]
    },
    {
      "cell_type": "markdown",
      "metadata": {
        "id": "HpPIudaV-uNU"
      },
      "source": [
        "### Plotting Data"
      ]
    },
    {
      "cell_type": "markdown",
      "metadata": {
        "id": "wg9ArAB0-x8e"
      },
      "source": [
        "#### Word Count histogram"
      ]
    },
    {
      "cell_type": "markdown",
      "metadata": {
        "id": "KF9wDQGz_BMQ"
      },
      "source": [
        "We use final_data set to perform exploratory analysis. First we want to look at the word count for each news category and see if there is difference between real and fake news."
      ]
    },
    {
      "cell_type": "code",
      "metadata": {
        "colab": {
          "base_uri": "https://localhost:8080/",
          "height": 453
        },
        "id": "5KsJhBE6_IIC",
        "outputId": "f8c61d04-c2e8-4650-e09d-b4b39089be81"
      },
      "source": [
        "final_data['word_count'] = [len(s.split()) for s in final_data['claim']]\n",
        "#real \n",
        "sns.distplot(final_data['word_count'][final_data['category'] == 'True'], kde=False, rug=False)"
      ],
      "execution_count": 20,
      "outputs": [
        {
          "output_type": "stream",
          "text": [
            "/usr/local/lib/python3.7/dist-packages/ipykernel_launcher.py:1: SettingWithCopyWarning: \n",
            "A value is trying to be set on a copy of a slice from a DataFrame.\n",
            "Try using .loc[row_indexer,col_indexer] = value instead\n",
            "\n",
            "See the caveats in the documentation: https://pandas.pydata.org/pandas-docs/stable/user_guide/indexing.html#returning-a-view-versus-a-copy\n",
            "  \"\"\"Entry point for launching an IPython kernel.\n",
            "/usr/local/lib/python3.7/dist-packages/seaborn/distributions.py:2557: FutureWarning: `distplot` is a deprecated function and will be removed in a future version. Please adapt your code to use either `displot` (a figure-level function with similar flexibility) or `histplot` (an axes-level function for histograms).\n",
            "  warnings.warn(msg, FutureWarning)\n"
          ],
          "name": "stderr"
        },
        {
          "output_type": "execute_result",
          "data": {
            "text/plain": [
              "<matplotlib.axes._subplots.AxesSubplot at 0x7f7d54d80e10>"
            ]
          },
          "metadata": {
            "tags": []
          },
          "execution_count": 20
        },
        {
          "output_type": "display_data",
          "data": {
            "image/png": "[encoded data removed]",
            "text/plain": [
              "<Figure size 432x288 with 1 Axes>"
            ]
          },
          "metadata": {
            "tags": [],
            "needs_background": "light"
          }
        }
      ]
    },
    {
      "cell_type": "code",
      "metadata": {
        "colab": {
          "base_uri": "https://localhost:8080/",
          "height": 351
        },
        "id": "OTBhcl6UBOXL",
        "outputId": "83227698-c615-422c-d254-20ed33700092"
      },
      "source": [
        "sns.distplot(final_data['word_count'][(final_data['category'] == 'Fake') & (final_data['word_count'] < 20000)], kde=False, rug=False)"
      ],
      "execution_count": 21,
      "outputs": [
        {
          "output_type": "stream",
          "text": [
            "/usr/local/lib/python3.7/dist-packages/seaborn/distributions.py:2557: FutureWarning: `distplot` is a deprecated function and will be removed in a future version. Please adapt your code to use either `displot` (a figure-level function with similar flexibility) or `histplot` (an axes-level function for histograms).\n",
            "  warnings.warn(msg, FutureWarning)\n"
          ],
          "name": "stderr"
        },
        {
          "output_type": "execute_result",
          "data": {
            "text/plain": [
              "<matplotlib.axes._subplots.AxesSubplot at 0x7f7d54d8c750>"
            ]
          },
          "metadata": {
            "tags": []
          },
          "execution_count": 21
        },
        {
          "output_type": "display_data",
          "data": {
            "image/png": "[encoded data removed]",
            "text/plain": [
              "<Figure size 432x288 with 1 Axes>"
            ]
          },
          "metadata": {
            "tags": [],
            "needs_background": "light"
          }
        }
      ]
    },
    {
      "cell_type": "markdown",
      "metadata": {
        "id": "ZMMhLg81W5-j"
      },
      "source": [
        "Observations:\n",
        "\n",
        "\n",
        "*   From the above bar graphs, it is evident that Fake news text is more sparse compared to True news. That means it tries to mimic the True news with same number of words.\n",
        "\n",
        "\n",
        "---\n",
        "\n",
        "\n",
        "\n"
      ]
    },
    {
      "cell_type": "code",
      "metadata": {
        "colab": {
          "base_uri": "https://localhost:8080/",
          "height": 350
        },
        "id": "GH9NegqMTqcQ",
        "outputId": "67d90d1c-352a-4523-f8f8-23942eabd7d7"
      },
      "source": [
        "sns.countplot(final_data.category)\n",
        "plt.xlabel('label')"
      ],
      "execution_count": 22,
      "outputs": [
        {
          "output_type": "stream",
          "text": [
            "/usr/local/lib/python3.7/dist-packages/seaborn/_decorators.py:43: FutureWarning: Pass the following variable as a keyword arg: x. From version 0.12, the only valid positional argument will be `data`, and passing other arguments without an explicit keyword will result in an error or misinterpretation.\n",
            "  FutureWarning\n"
          ],
          "name": "stderr"
        },
        {
          "output_type": "execute_result",
          "data": {
            "text/plain": [
              "Text(0.5, 0, 'label')"
            ]
          },
          "metadata": {
            "tags": []
          },
          "execution_count": 22
        },
        {
          "output_type": "display_data",
          "data": {
            "image/png": "[encoded data removed]",
            "text/plain": [
              "<Figure size 432x288 with 1 Axes>"
            ]
          },
          "metadata": {
            "tags": [],
            "needs_background": "light"
          }
        }
      ]
    },
    {
      "cell_type": "markdown",
      "metadata": {
        "id": "ed4bBV-0YXsa"
      },
      "source": [
        "\n",
        "\n",
        "*   True news are one-fourth of the Fake news data points\n",
        "*   This shows the data is imbalanced\n",
        "\n"
      ]
    },
    {
      "cell_type": "markdown",
      "metadata": {
        "id": "qrO4xBA4G9zA"
      },
      "source": [
        "#### Word Cloud"
      ]
    },
    {
      "cell_type": "markdown",
      "metadata": {
        "id": "BiJTVDB3HCBK"
      },
      "source": [
        "Next we like to see what are the most common words in real/fake news to discover some patterns. Word cloud is a popular way to visualize it."
      ]
    },
    {
      "cell_type": "code",
      "metadata": {
        "id": "hLAfB0tZF3DL"
      },
      "source": [
        "from wordcloud import WordCloud\n",
        "\n",
        "def plot_wordcloud(target,width = 800, height = 400):\n",
        "    \"\"\"\n",
        "    Plot wordcloud of real/fake news\n",
        "    \n",
        "    target: real/fake\n",
        "    width: the width of plotted figure\n",
        "    height: the height of plotted figure\n",
        "    \"\"\"\n",
        "    if target == 1:\n",
        "        t = 'Fake'\n",
        "    elif target == 0:\n",
        "        t = 'True'\n",
        "    text = ''\n",
        "    for t in final_data['claim'][final_data['category'] == t]:\n",
        "        text = text + t\n",
        "    wordcloud = WordCloud(max_font_size=40, min_font_size=20, width=800, height = 400, random_state=0).generate(text)\n",
        "    plt.figure(figsize=(20,10))\n",
        "    plt.imshow(wordcloud, interpolation=\"bilinear\")\n",
        "    plt.axis(\"off\")\n",
        "    plt.show()"
      ],
      "execution_count": 23,
      "outputs": []
    },
    {
      "cell_type": "code",
      "metadata": {
        "colab": {
          "base_uri": "https://localhost:8080/",
          "height": 575
        },
        "id": "54ejs_2hF6p2",
        "outputId": "64c00358-2a37-4537-d563-922ff3b2a25a"
      },
      "source": [
        "plot_wordcloud(0,width = 800, height = 400)"
      ],
      "execution_count": 24,
      "outputs": [
        {
          "output_type": "display_data",
          "data": {
            "image/png": "[encoded data removed]",
            "text/plain": [
              "<Figure size 1440x720 with 1 Axes>"
            ]
          },
          "metadata": {
            "tags": [],
            "needs_background": "light"
          }
        }
      ]
    },
    {
      "cell_type": "code",
      "metadata": {
        "colab": {
          "base_uri": "https://localhost:8080/",
          "height": 575
        },
        "id": "xUj9tyXlG4j1",
        "outputId": "ea05515d-3497-4276-82f3-17995a9b029c"
      },
      "source": [
        "plot_wordcloud(1,width = 800, height = 400)"
      ],
      "execution_count": 25,
      "outputs": [
        {
          "output_type": "display_data",
          "data": {
            "image/png": "[encoded data removed]",
            "text/plain": [
              "<Figure size 1440x720 with 1 Axes>"
            ]
          },
          "metadata": {
            "tags": [],
            "needs_background": "light"
          }
        }
      ]
    },
    {
      "cell_type": "code",
      "metadata": {
        "colab": {
          "base_uri": "https://localhost:8080/"
        },
        "id": "achQ7VbvT-Of",
        "outputId": "6368b122-8570-4f10-bd9c-5b0ddcfe6ded"
      },
      "source": [
        "#CREATING A NEW COLUMN IN THE DATASET FOR THE NUMBER OF WORDS IN THE CLAIM\n",
        "final_data['length'] = final_data['claim'].apply(len)"
      ],
      "execution_count": 26,
      "outputs": [
        {
          "output_type": "stream",
          "text": [
            "/usr/local/lib/python3.7/dist-packages/ipykernel_launcher.py:2: SettingWithCopyWarning: \n",
            "A value is trying to be set on a copy of a slice from a DataFrame.\n",
            "Try using .loc[row_indexer,col_indexer] = value instead\n",
            "\n",
            "See the caveats in the documentation: https://pandas.pydata.org/pandas-docs/stable/user_guide/indexing.html#returning-a-view-versus-a-copy\n",
            "  \n"
          ],
          "name": "stderr"
        }
      ]
    },
    {
      "cell_type": "code",
      "metadata": {
        "colab": {
          "base_uri": "https://localhost:8080/",
          "height": 242
        },
        "id": "08qekqfEVtHu",
        "outputId": "5c8937c1-87c6-483e-dcfb-4116b166002e"
      },
      "source": [
        "# COMPARING TEXT LENGTH TO Category/class\n",
        "graph = sns.FacetGrid(data=final_data,col='category')\n",
        "graph.map(plt.hist,'length',bins=50,color='blue')"
      ],
      "execution_count": 27,
      "outputs": [
        {
          "output_type": "execute_result",
          "data": {
            "text/plain": [
              "<seaborn.axisgrid.FacetGrid at 0x7f7d456489d0>"
            ]
          },
          "metadata": {
            "tags": []
          },
          "execution_count": 27
        },
        {
          "output_type": "display_data",
          "data": {
            "image/png": "[encoded data removed]",
            "text/plain": [
              "<Figure size 432x216 with 2 Axes>"
            ]
          },
          "metadata": {
            "tags": [],
            "needs_background": "light"
          }
        }
      ]
    },
    {
      "cell_type": "code",
      "metadata": {
        "colab": {
          "base_uri": "https://localhost:8080/",
          "height": 419
        },
        "id": "mrC-hiY0WQfx",
        "outputId": "934f16a3-2124-40a7-d47e-0f6bf9d687c9"
      },
      "source": [
        "final_data"
      ],
      "execution_count": 28,
      "outputs": [
        {
          "output_type": "execute_result",
          "data": {
            "text/html": [
              "<div>\n",
              "<style scoped>\n",
              "    .dataframe tbody tr th:only-of-type {\n",
              "        vertical-align: middle;\n",
              "    }\n",
              "\n",
              "    .dataframe tbody tr th {\n",
              "        vertical-align: top;\n",
              "    }\n",
              "\n",
              "    .dataframe thead th {\n",
              "        text-align: right;\n",
              "    }\n",
              "</style>\n",
              "<table border=\"1\" class=\"dataframe\">\n",
              "  <thead>\n",
              "    <tr style=\"text-align: right;\">\n",
              "      <th></th>\n",
              "      <th>claim</th>\n",
              "      <th>category</th>\n",
              "      <th>word_count</th>\n",
              "      <th>length</th>\n",
              "    </tr>\n",
              "  </thead>\n",
              "  <tbody>\n",
              "    <tr>\n",
              "      <th>0</th>\n",
              "      <td>facebook posts quotes michelle obama as saying...</td>\n",
              "      <td>Fake</td>\n",
              "      <td>16</td>\n",
              "      <td>99</td>\n",
              "    </tr>\n",
              "    <tr>\n",
              "      <th>1</th>\n",
              "      <td>ted cruz says facebook shut down a chick fil a...</td>\n",
              "      <td>True</td>\n",
              "      <td>13</td>\n",
              "      <td>74</td>\n",
              "    </tr>\n",
              "    <tr>\n",
              "      <th>3</th>\n",
              "      <td>various websites breaking 2 democrat congressm...</td>\n",
              "      <td>Fake</td>\n",
              "      <td>14</td>\n",
              "      <td>99</td>\n",
              "    </tr>\n",
              "    <tr>\n",
              "      <th>4</th>\n",
              "      <td>james woods the dallas cowboys can t put a sti...</td>\n",
              "      <td>True</td>\n",
              "      <td>22</td>\n",
              "      <td>120</td>\n",
              "    </tr>\n",
              "    <tr>\n",
              "      <th>5</th>\n",
              "      <td>national republican congressional committee to...</td>\n",
              "      <td>True</td>\n",
              "      <td>19</td>\n",
              "      <td>140</td>\n",
              "    </tr>\n",
              "    <tr>\n",
              "      <th>...</th>\n",
              "      <td>...</td>\n",
              "      <td>...</td>\n",
              "      <td>...</td>\n",
              "      <td>...</td>\n",
              "    </tr>\n",
              "    <tr>\n",
              "      <th>5624</th>\n",
              "      <td>newt gingrich every 10th dollar spent by the s...</td>\n",
              "      <td>True</td>\n",
              "      <td>39</td>\n",
              "      <td>222</td>\n",
              "    </tr>\n",
              "    <tr>\n",
              "      <th>5626</th>\n",
              "      <td>scott walker we took wisconsin from the bottom...</td>\n",
              "      <td>Fake</td>\n",
              "      <td>16</td>\n",
              "      <td>87</td>\n",
              "    </tr>\n",
              "    <tr>\n",
              "      <th>5627</th>\n",
              "      <td>wisconsin republican party claims that democra...</td>\n",
              "      <td>True</td>\n",
              "      <td>29</td>\n",
              "      <td>183</td>\n",
              "    </tr>\n",
              "    <tr>\n",
              "      <th>5628</th>\n",
              "      <td>various websites clint eastwood leaves his est...</td>\n",
              "      <td>Fake</td>\n",
              "      <td>14</td>\n",
              "      <td>90</td>\n",
              "    </tr>\n",
              "    <tr>\n",
              "      <th>5631</th>\n",
              "      <td>sydney batch john adcock gop plan for health c...</td>\n",
              "      <td>Fake</td>\n",
              "      <td>28</td>\n",
              "      <td>160</td>\n",
              "    </tr>\n",
              "  </tbody>\n",
              "</table>\n",
              "<p>4223 rows × 4 columns</p>\n",
              "</div>"
            ],
            "text/plain": [
              "                                                  claim  ... length\n",
              "0     facebook posts quotes michelle obama as saying...  ...     99\n",
              "1     ted cruz says facebook shut down a chick fil a...  ...     74\n",
              "3     various websites breaking 2 democrat congressm...  ...     99\n",
              "4     james woods the dallas cowboys can t put a sti...  ...    120\n",
              "5     national republican congressional committee to...  ...    140\n",
              "...                                                 ...  ...    ...\n",
              "5624  newt gingrich every 10th dollar spent by the s...  ...    222\n",
              "5626  scott walker we took wisconsin from the bottom...  ...     87\n",
              "5627  wisconsin republican party claims that democra...  ...    183\n",
              "5628  various websites clint eastwood leaves his est...  ...     90\n",
              "5631  sydney batch john adcock gop plan for health c...  ...    160\n",
              "\n",
              "[4223 rows x 4 columns]"
            ]
          },
          "metadata": {
            "tags": []
          },
          "execution_count": 28
        }
      ]
    },
    {
      "cell_type": "code",
      "metadata": {
        "colab": {
          "base_uri": "https://localhost:8080/"
        },
        "id": "RhQ_JUhxee_v",
        "outputId": "0d5a9d78-b62b-4c93-ade1-c33108e88d67"
      },
      "source": [
        "final_data['category'] = final_data['category'].map(\n",
        "                   {'True':1 ,'Fake':0})"
      ],
      "execution_count": 29,
      "outputs": [
        {
          "output_type": "stream",
          "text": [
            "/usr/local/lib/python3.7/dist-packages/ipykernel_launcher.py:2: SettingWithCopyWarning: \n",
            "A value is trying to be set on a copy of a slice from a DataFrame.\n",
            "Try using .loc[row_indexer,col_indexer] = value instead\n",
            "\n",
            "See the caveats in the documentation: https://pandas.pydata.org/pandas-docs/stable/user_guide/indexing.html#returning-a-view-versus-a-copy\n",
            "  \n"
          ],
          "name": "stderr"
        }
      ]
    },
    {
      "cell_type": "code",
      "metadata": {
        "colab": {
          "base_uri": "https://localhost:8080/",
          "height": 419
        },
        "id": "Tljy-M1Ig33M",
        "outputId": "d43e2fd3-5f37-4333-a3ce-83e9f58c0c10"
      },
      "source": [
        "final_data"
      ],
      "execution_count": 30,
      "outputs": [
        {
          "output_type": "execute_result",
          "data": {
            "text/html": [
              "<div>\n",
              "<style scoped>\n",
              "    .dataframe tbody tr th:only-of-type {\n",
              "        vertical-align: middle;\n",
              "    }\n",
              "\n",
              "    .dataframe tbody tr th {\n",
              "        vertical-align: top;\n",
              "    }\n",
              "\n",
              "    .dataframe thead th {\n",
              "        text-align: right;\n",
              "    }\n",
              "</style>\n",
              "<table border=\"1\" class=\"dataframe\">\n",
              "  <thead>\n",
              "    <tr style=\"text-align: right;\">\n",
              "      <th></th>\n",
              "      <th>claim</th>\n",
              "      <th>category</th>\n",
              "      <th>word_count</th>\n",
              "      <th>length</th>\n",
              "    </tr>\n",
              "  </thead>\n",
              "  <tbody>\n",
              "    <tr>\n",
              "      <th>0</th>\n",
              "      <td>facebook posts quotes michelle obama as saying...</td>\n",
              "      <td>0</td>\n",
              "      <td>16</td>\n",
              "      <td>99</td>\n",
              "    </tr>\n",
              "    <tr>\n",
              "      <th>1</th>\n",
              "      <td>ted cruz says facebook shut down a chick fil a...</td>\n",
              "      <td>1</td>\n",
              "      <td>13</td>\n",
              "      <td>74</td>\n",
              "    </tr>\n",
              "    <tr>\n",
              "      <th>3</th>\n",
              "      <td>various websites breaking 2 democrat congressm...</td>\n",
              "      <td>0</td>\n",
              "      <td>14</td>\n",
              "      <td>99</td>\n",
              "    </tr>\n",
              "    <tr>\n",
              "      <th>4</th>\n",
              "      <td>james woods the dallas cowboys can t put a sti...</td>\n",
              "      <td>1</td>\n",
              "      <td>22</td>\n",
              "      <td>120</td>\n",
              "    </tr>\n",
              "    <tr>\n",
              "      <th>5</th>\n",
              "      <td>national republican congressional committee to...</td>\n",
              "      <td>1</td>\n",
              "      <td>19</td>\n",
              "      <td>140</td>\n",
              "    </tr>\n",
              "    <tr>\n",
              "      <th>...</th>\n",
              "      <td>...</td>\n",
              "      <td>...</td>\n",
              "      <td>...</td>\n",
              "      <td>...</td>\n",
              "    </tr>\n",
              "    <tr>\n",
              "      <th>5624</th>\n",
              "      <td>newt gingrich every 10th dollar spent by the s...</td>\n",
              "      <td>1</td>\n",
              "      <td>39</td>\n",
              "      <td>222</td>\n",
              "    </tr>\n",
              "    <tr>\n",
              "      <th>5626</th>\n",
              "      <td>scott walker we took wisconsin from the bottom...</td>\n",
              "      <td>0</td>\n",
              "      <td>16</td>\n",
              "      <td>87</td>\n",
              "    </tr>\n",
              "    <tr>\n",
              "      <th>5627</th>\n",
              "      <td>wisconsin republican party claims that democra...</td>\n",
              "      <td>1</td>\n",
              "      <td>29</td>\n",
              "      <td>183</td>\n",
              "    </tr>\n",
              "    <tr>\n",
              "      <th>5628</th>\n",
              "      <td>various websites clint eastwood leaves his est...</td>\n",
              "      <td>0</td>\n",
              "      <td>14</td>\n",
              "      <td>90</td>\n",
              "    </tr>\n",
              "    <tr>\n",
              "      <th>5631</th>\n",
              "      <td>sydney batch john adcock gop plan for health c...</td>\n",
              "      <td>0</td>\n",
              "      <td>28</td>\n",
              "      <td>160</td>\n",
              "    </tr>\n",
              "  </tbody>\n",
              "</table>\n",
              "<p>4223 rows × 4 columns</p>\n",
              "</div>"
            ],
            "text/plain": [
              "                                                  claim  ...  length\n",
              "0     facebook posts quotes michelle obama as saying...  ...      99\n",
              "1     ted cruz says facebook shut down a chick fil a...  ...      74\n",
              "3     various websites breaking 2 democrat congressm...  ...      99\n",
              "4     james woods the dallas cowboys can t put a sti...  ...     120\n",
              "5     national republican congressional committee to...  ...     140\n",
              "...                                                 ...  ...     ...\n",
              "5624  newt gingrich every 10th dollar spent by the s...  ...     222\n",
              "5626  scott walker we took wisconsin from the bottom...  ...      87\n",
              "5627  wisconsin republican party claims that democra...  ...     183\n",
              "5628  various websites clint eastwood leaves his est...  ...      90\n",
              "5631  sydney batch john adcock gop plan for health c...  ...     160\n",
              "\n",
              "[4223 rows x 4 columns]"
            ]
          },
          "metadata": {
            "tags": []
          },
          "execution_count": 30
        }
      ]
    },
    {
      "cell_type": "code",
      "metadata": {
        "id": "kZwX2UEkZBTu"
      },
      "source": [
        "# split the dataset into train and test dataset by the ratio of 0.2\n",
        "from sklearn.model_selection import train_test_split\n",
        "\n",
        "x_train,x_test,y_train,y_test = train_test_split(\n",
        "    final_data['claim'],\n",
        "    final_data['category'], \n",
        "    stratify= final_data['category'],\n",
        "    test_size=0.2, random_state=42\n",
        ")"
      ],
      "execution_count": 32,
      "outputs": []
    },
    {
      "cell_type": "markdown",
      "metadata": {
        "id": "6tibPvG4dJJP"
      },
      "source": [
        "**Count Vectorizer**\n",
        "\n",
        "*CountVectorizer is used to convert a collection of text documents to a vector of term/token counts. It also enables the ​pre-processing of text data prior to generating the vector representation. This functionality makes it a highly flexible feature representation module for text.*"
      ]
    },
    {
      "cell_type": "code",
      "metadata": {
        "id": "Vy0qL-8edGkz"
      },
      "source": [
        "from sklearn.feature_extraction.text import CountVectorizer\n",
        "\n",
        "# Initialize the `count_vectorizer` \n",
        "count_vectorizer = CountVectorizer(ngram_range=(1, 2), stop_words='english') \n",
        "# Fit and transform the training data.\n",
        "count_train = count_vectorizer.fit_transform(x_train)\n",
        "# Transform the test set \n",
        "count_test = count_vectorizer.transform(x_test)"
      ],
      "execution_count": 33,
      "outputs": []
    },
    {
      "cell_type": "markdown",
      "metadata": {
        "id": "epw2dyqWhrjZ"
      },
      "source": [
        "**Tf-IDF Vectorizer**\n",
        "*TF-IDF is an abbreviation for Term Frequency Inverse Document Frequency. This is very common algorithm to transform text into a meaningful representation of numbers which is used to fit machine algorithm for prediction*"
      ]
    },
    {
      "cell_type": "code",
      "metadata": {
        "id": "Pwv3rIaAhdLu"
      },
      "source": [
        "from sklearn.feature_extraction.text import TfidfVectorizer\n",
        "\n",
        "#Initialize the `tfidf_vectorizer` \n",
        "tfidf_vectorizer = TfidfVectorizer(stop_words='english', ngram_range=(1, 2))\n",
        "#Fit and transform the training data \n",
        "tfidf_train = tfidf_vectorizer.fit_transform(x_train)\n",
        "#Transform the test set \n",
        "tfidf_test = tfidf_vectorizer.transform(x_test)"
      ],
      "execution_count": 34,
      "outputs": []
    },
    {
      "cell_type": "markdown",
      "metadata": {
        "id": "TYWk51nAYgV2"
      },
      "source": [
        "**XGBoost Classifier**"
      ]
    },
    {
      "cell_type": "code",
      "metadata": {
        "colab": {
          "base_uri": "https://localhost:8080/"
        },
        "id": "5NIghkQ5WbmN",
        "outputId": "5925cd9d-d28c-4528-e9b5-f02cb0a72146"
      },
      "source": [
        "# XGBoost Classifier\n",
        "import xgboost\n",
        "from sklearn import metrics\n",
        "from xgboost import XGBClassifier\n",
        "from sklearn.model_selection import GridSearchCV\n",
        "from sklearn.model_selection import StratifiedKFold\n",
        "from sklearn.model_selection import GridSearchCV, cross_val_score\n",
        "from sklearn.metrics import classification_report, make_scorer\n",
        "from sklearn.metrics import confusion_matrix, accuracy_score, roc_auc_score, roc_curve\n",
        "\n",
        "\n",
        "\n",
        "# XGBoost Classifier\n",
        "import xgboost\n",
        "from xgboost import XGBClassifier\n",
        "\n",
        "\n",
        "xgb = XGBClassifier(colsample_bytree=1,gamma=0.5,max_depth= 3,\n",
        "                    min_child_weight= 3,subsample=1, \n",
        "                    n_estimators=100,nthread=1)\n",
        "\n",
        "params = {'min_child_weight': [1,3],\n",
        "        'gamma': [0.5, 1, 5],\n",
        "        'subsample': [0.6, 0.8, 1.0],\n",
        "        'colsample_bytree': [0.5,1],\n",
        "        'max_depth': [3,6,9]}\n",
        "\n",
        "model1 = GridSearchCV(xgb, param_grid=params, n_jobs=-1,cv=5,iid=False)\n",
        "\n",
        "model1.fit(count_train,y_train)\n",
        "\n",
        "\n",
        "#The best hyper parameters is set\n",
        "print(\"Best Hyper Parameters for XGBoost:\",model1.best_params_)\n",
        "print(\"Best Parameters Score:\\n\",model1.best_score_)\n",
        "predxgb = model1.predict(count_test)\n",
        "#Prediction\n",
        "print(\"Confusion Matrix for XGBoost Classifier:\")\n",
        "print(confusion_matrix(y_test,predxgb))\n",
        "print(\"Accuracy: \",round(accuracy_score(y_test,predxgb)*100,2))\n",
        "print(\"---------------------------------------------------------\")\n",
        "print(\"Classification Report:\")\n",
        "print(classification_report(y_test,predxgb))"
      ],
      "execution_count": 58,
      "outputs": [
        {
          "output_type": "stream",
          "text": [
            "/usr/local/lib/python3.7/dist-packages/sklearn/model_selection/_search.py:823: FutureWarning: The parameter 'iid' is deprecated in 0.22 and will be removed in 0.24.\n",
            "  \"removed in 0.24.\", FutureWarning\n"
          ],
          "name": "stderr"
        },
        {
          "output_type": "stream",
          "text": [
            "Best Hyper Parameters for XGBoost: {'colsample_bytree': 1, 'gamma': 0.5, 'max_depth': 3, 'min_child_weight': 3, 'subsample': 0.6}\n",
            "Best Parameters Score:\n",
            " 0.6909406092483016\n",
            "Confusion Matrix for XGBoost Classifier:\n",
            "[[449  79]\n",
            " [176 141]]\n",
            "Accuracy:  69.82\n",
            "---------------------------------------------------------\n",
            "Classification Report:\n",
            "              precision    recall  f1-score   support\n",
            "\n",
            "           0       0.72      0.85      0.78       528\n",
            "           1       0.64      0.44      0.53       317\n",
            "\n",
            "    accuracy                           0.70       845\n",
            "   macro avg       0.68      0.65      0.65       845\n",
            "weighted avg       0.69      0.70      0.68       845\n",
            "\n"
          ],
          "name": "stdout"
        }
      ]
    },
    {
      "cell_type": "code",
      "metadata": {
        "colab": {
          "base_uri": "https://localhost:8080/"
        },
        "id": "ILqdAzvyg9Z8",
        "outputId": "733a68c5-30e7-46f2-bf0e-38e9153cf24f"
      },
      "source": [
        "from sklearn.ensemble import VotingClassifier\n",
        "# Random Forest\n",
        "from sklearn.ensemble import RandomForestClassifier\n",
        "#rmfr = RandomForestClassifier(random_state=56)\n",
        "rmfr = RandomForestClassifier(criterion= 'gini', max_depth= None,\n",
        "                              min_samples_leaf= 3, min_samples_split=2,\n",
        "                              n_estimators= 100,n_jobs=-1, random_state=56)\n",
        "\n",
        "\n",
        "ens = VotingClassifier(estimators=[('nb',nb_classifier), ('rf',rmfr), ('gb',xgb)], voting='soft')\n",
        "# perceptron\n",
        "ens.fit(count_train,y_train)\n",
        "predens = ens.predict(count_test)\n",
        "print(\"Confusion Matrix for Ensemmble:\")\n",
        "print(confusion_matrix(y_test,predens))\n",
        "print(\"Score:\",round(accuracy_score(y_test,predens)*100,2))\n",
        "print(\"Classification Report:\")\n",
        "print(classification_report(y_test,predens))"
      ],
      "execution_count": 47,
      "outputs": [
        {
          "output_type": "stream",
          "text": [
            "Confusion Matrix for Ensemmble:\n",
            "[[406 122]\n",
            " [108 209]]\n",
            "Score: 72.78\n",
            "Classification Report:\n",
            "              precision    recall  f1-score   support\n",
            "\n",
            "           0       0.79      0.77      0.78       528\n",
            "           1       0.63      0.66      0.65       317\n",
            "\n",
            "    accuracy                           0.73       845\n",
            "   macro avg       0.71      0.71      0.71       845\n",
            "weighted avg       0.73      0.73      0.73       845\n",
            "\n"
          ],
          "name": "stdout"
        }
      ]
    },
    {
      "cell_type": "code",
      "metadata": {
        "colab": {
          "base_uri": "https://localhost:8080/"
        },
        "id": "xZREJE_hZdLo",
        "outputId": "21d5315e-3621-4b5b-99de-43073b365a05"
      },
      "source": [
        "from sklearn.naive_bayes import MultinomialNB\n",
        "\n",
        "\n",
        "nb_classifier = MultinomialNB(alpha = 0.1)\n",
        "nb_classifier.fit(count_train, y_train)\n",
        "pred_nb_count = nb_classifier.predict(count_test)\n",
        "acc_nb_count = metrics.accuracy_score(y_test, pred_nb_count)\n",
        "print(acc_nb_count)"
      ],
      "execution_count": 44,
      "outputs": [
        {
          "output_type": "stream",
          "text": [
            "0.7159763313609467\n"
          ],
          "name": "stdout"
        }
      ]
    },
    {
      "cell_type": "code",
      "metadata": {
        "id": "RiVKw5CzchJ-",
        "colab": {
          "base_uri": "https://localhost:8080/"
        },
        "outputId": "b0b63239-564c-4a33-8129-92bc12943d90"
      },
      "source": [
        "# tune the hyperparameter alpha for the naive bayes classifier\n",
        "for alpha in np.arange(0,1,.05):\n",
        "    nb_classifier_tune = MultinomialNB(alpha=alpha)\n",
        "    nb_classifier_tune.fit(count_train, y_train)\n",
        "    pred_tune = nb_classifier_tune.predict(count_test)\n",
        "    score = metrics.accuracy_score(y_test, pred_tune)\n",
        "    print(\"Alpha: {:.2f} Score: {:.5f}\".format(alpha, score))"
      ],
      "execution_count": 59,
      "outputs": [
        {
          "output_type": "stream",
          "text": [
            "Alpha: 0.00 Score: 0.67692\n",
            "Alpha: 0.05 Score: 0.71124\n",
            "Alpha: 0.10 Score: 0.71598\n",
            "Alpha: 0.15 Score: 0.71834\n",
            "Alpha: 0.20 Score: 0.72189\n",
            "Alpha: 0.25 Score: 0.72426\n",
            "Alpha: 0.30 Score: 0.72663\n",
            "Alpha: 0.35 Score: 0.72781\n",
            "Alpha: 0.40 Score: 0.72899\n",
            "Alpha: 0.45 Score: 0.72663\n",
            "Alpha: 0.50 Score: 0.72544\n",
            "Alpha: 0.55 Score: 0.72189\n",
            "Alpha: 0.60 Score: 0.72071\n",
            "Alpha: 0.65 Score: 0.72189\n",
            "Alpha: 0.70 Score: 0.72544\n",
            "Alpha: 0.75 Score: 0.72663\n",
            "Alpha: 0.80 Score: 0.72308\n",
            "Alpha: 0.85 Score: 0.72308\n",
            "Alpha: 0.90 Score: 0.72781\n",
            "Alpha: 0.95 Score: 0.72544\n"
          ],
          "name": "stdout"
        },
        {
          "output_type": "stream",
          "text": [
            "/usr/local/lib/python3.7/dist-packages/sklearn/naive_bayes.py:507: UserWarning: alpha too small will result in numeric errors, setting alpha = 1.0e-10\n",
            "  'setting alpha = %.1e' % _ALPHA_MIN)\n"
          ],
          "name": "stderr"
        }
      ]
    },
    {
      "cell_type": "code",
      "metadata": {
        "colab": {
          "base_uri": "https://localhost:8080/"
        },
        "id": "2zkS_EaW-AQE",
        "outputId": "bcf73a52-9624-437d-ea91-c29c29db933d"
      },
      "source": [
        "print(\"Classification Report:\")\n",
        "print(classification_report(y_test,pred_nb_count))"
      ],
      "execution_count": 61,
      "outputs": [
        {
          "output_type": "stream",
          "text": [
            "Classification Report:\n",
            "              precision    recall  f1-score   support\n",
            "\n",
            "           0       0.79      0.74      0.77       528\n",
            "           1       0.61      0.68      0.64       317\n",
            "\n",
            "    accuracy                           0.72       845\n",
            "   macro avg       0.70      0.71      0.71       845\n",
            "weighted avg       0.73      0.72      0.72       845\n",
            "\n"
          ],
          "name": "stdout"
        }
      ]
    },
    {
      "cell_type": "code",
      "metadata": {
        "colab": {
          "base_uri": "https://localhost:8080/",
          "height": 311
        },
        "id": "Vw-wux0_dqAD",
        "outputId": "f6317231-52d7-4ba8-a50e-9ecf05b5a5b8"
      },
      "source": [
        "# Computations\n",
        "import itertools\n",
        "\n",
        "# Visualization\n",
        "import matplotlib.pyplot as plt\n",
        "\n",
        "# Let's re-run our fine-tuned model and plot the confusion matrix\n",
        "nb_classifier = MultinomialNB(alpha = 0.15)\n",
        "nb_classifier.fit(count_train, y_train)\n",
        "pred_nb_count = nb_classifier.predict(count_test)\n",
        "cm = metrics.confusion_matrix(y_test, pred_nb_count, labels=[0,1])\n",
        "\n",
        "# Creating a function that outputs a confusion matrix\n",
        "def plot_confusion_matrix(cm, classes,\n",
        "                          normalize=False,\n",
        "                          title='Confusion matrix',\n",
        "                          cmap=plt.cm.Blues):\n",
        "    \n",
        "    plt.imshow(cm, interpolation='nearest', cmap=cmap)\n",
        "    plt.title(title)\n",
        "    plt.colorbar()\n",
        "    tick_marks = np.arange(len(classes))\n",
        "    plt.xticks(tick_marks, classes, rotation=45)\n",
        "    plt.yticks(tick_marks, classes)\n",
        "    thresh = cm.max() / 2.\n",
        "    for i, j in itertools.product(range(cm.shape[0]), range(cm.shape[1])):\n",
        "        plt.text(j, i, cm[i, j],\n",
        "                 horizontalalignment=\"center\",\n",
        "                 color=\"white\" if cm[i, j] > thresh else \"black\")\n",
        "\n",
        "    plt.tight_layout()\n",
        "    plt.ylabel('True label')\n",
        "    plt.xlabel('Predicted label')\n",
        "    \n",
        "    \n",
        "plot_confusion_matrix(cm, classes=['TRUE','FAKE'], title ='Confusion matrix for a MultinomialNB with Count Vectorizer')"
      ],
      "execution_count": 60,
      "outputs": [
        {
          "output_type": "display_data",
          "data": {
            "image/png": "[encoded data removed]",
            "text/plain": [
              "<Figure size 432x288 with 2 Axes>"
            ]
          },
          "metadata": {
            "tags": [],
            "needs_background": "light"
          }
        }
      ]
    },
    {
      "cell_type": "code",
      "metadata": {
        "colab": {
          "base_uri": "https://localhost:8080/"
        },
        "id": "aB62pNlRduFb",
        "outputId": "7e5173b6-baad-4deb-f32c-43f26d008a75"
      },
      "source": [
        "nb_classifier = MultinomialNB(alpha = 0.1)\n",
        "nb_classifier.fit(tfidf_train, y_train)\n",
        "pred_nb_tfidf = nb_classifier.predict(tfidf_test)\n",
        "acc_nb_tfidf = metrics.accuracy_score(y_test, pred_nb_tfidf)\n",
        "print(acc_nb_tfidf)"
      ],
      "execution_count": 44,
      "outputs": [
        {
          "output_type": "stream",
          "text": [
            "0.8269742679680568\n"
          ],
          "name": "stdout"
        }
      ]
    },
    {
      "cell_type": "code",
      "metadata": {
        "colab": {
          "base_uri": "https://localhost:8080/"
        },
        "id": "jN4dwjCQh7UO",
        "outputId": "025c7a59-a4d3-41d1-cf3c-0205bf80421c"
      },
      "source": [
        "# tune the hyperparameter alpha for the naive bayes classifier\n",
        "for alpha in np.arange(0,0.1,.01):\n",
        "    nb_classifier_tune = MultinomialNB(alpha=alpha)\n",
        "    nb_classifier_tune.fit(tfidf_train, y_train)\n",
        "    pred_tune = nb_classifier_tune.predict(tfidf_test)\n",
        "    score = metrics.accuracy_score(y_test, pred_tune)\n",
        "    print(\"Alpha: {:.2f}  Score: {:.5f}\".format(alpha, score))"
      ],
      "execution_count": 45,
      "outputs": [
        {
          "output_type": "stream",
          "text": [
            "Alpha: 0.00  Score: 0.82165\n",
            "Alpha: 0.01  Score: 0.82343\n",
            "Alpha: 0.02  Score: 0.82520\n",
            "Alpha: 0.03  Score: 0.82697\n",
            "Alpha: 0.04  Score: 0.83052\n",
            "Alpha: 0.05  Score: 0.83141\n",
            "Alpha: 0.06  Score: 0.82875\n",
            "Alpha: 0.07  Score: 0.82964\n",
            "Alpha: 0.08  Score: 0.83052\n",
            "Alpha: 0.09  Score: 0.82786\n"
          ],
          "name": "stdout"
        },
        {
          "output_type": "stream",
          "text": [
            "/usr/local/lib/python3.7/dist-packages/sklearn/naive_bayes.py:507: UserWarning: alpha too small will result in numeric errors, setting alpha = 1.0e-10\n",
            "  'setting alpha = %.1e' % _ALPHA_MIN)\n"
          ],
          "name": "stderr"
        }
      ]
    },
    {
      "cell_type": "code",
      "metadata": {
        "colab": {
          "base_uri": "https://localhost:8080/",
          "height": 311
        },
        "id": "rMVb7CHCh701",
        "outputId": "8e28a91e-5682-4a71-f67b-e63fa2c59659"
      },
      "source": [
        "# Let's run the optimized model with best value of hyperparameter and check the confusion matrix\n",
        "nb_classifier = MultinomialNB(alpha = 0.01)\n",
        "nb_classifier.fit(tfidf_train, y_train)\n",
        "pred_nb_tfidf = nb_classifier.predict(tfidf_test)\n",
        "cm2 = metrics.confusion_matrix(y_test, pred_nb_tfidf, labels=[0,1])\n",
        "plot_confusion_matrix(cm2, classes=['TRUE','FAKE'], title ='Confusion matrix for a MultinomialNB with Tf-IDF')"
      ],
      "execution_count": 46,
      "outputs": [
        {
          "output_type": "display_data",
          "data": {
            "image/png": "[encoded data removed]",
            "text/plain": [
              "<Figure size 432x288 with 2 Axes>"
            ]
          },
          "metadata": {
            "tags": [],
            "needs_background": "light"
          }
        }
      ]
    },
    {
      "cell_type": "code",
      "metadata": {
        "colab": {
          "base_uri": "https://localhost:8080/",
          "height": 382
        },
        "id": "pkj43reXjRgG",
        "outputId": "48fd7e2d-9206-4d04-edea-2ee618ef3f5f"
      },
      "source": [
        "from sklearn.linear_model import  PassiveAggressiveClassifier\n",
        "linear_classifier = PassiveAggressiveClassifier(max_iter=10)\n",
        "linear_classifier.fit(count_train, y_train)\n",
        "pred_linear_count = linear_classifier.predict(count_test)\n",
        "acc_linear_count = metrics.accuracy_score(y_test, pred_linear_count)\n",
        "print(acc_linear_count)\n",
        "cm6 = metrics.confusion_matrix(y_test, pred_linear_count, labels=[0,1])\n",
        "plot_confusion_matrix(cm6, classes=['TRUE','FAKE'], title ='Confusion matrix for a PA Classifier with Count Vectorizer')"
      ],
      "execution_count": 63,
      "outputs": [
        {
          "output_type": "stream",
          "text": [
            "/usr/local/lib/python3.7/dist-packages/sklearn/linear_model/_stochastic_gradient.py:557: ConvergenceWarning: Maximum number of iteration reached before convergence. Consider increasing max_iter to improve the fit.\n",
            "  ConvergenceWarning)\n"
          ],
          "name": "stderr"
        },
        {
          "output_type": "stream",
          "text": [
            "0.7100591715976331\n"
          ],
          "name": "stdout"
        },
        {
          "output_type": "display_data",
          "data": {
            "image/png": "[encoded data removed]",
            "text/plain": [
              "<Figure size 432x288 with 2 Axes>"
            ]
          },
          "metadata": {
            "tags": [],
            "needs_background": "light"
          }
        }
      ]
    },
    {
      "cell_type": "code",
      "metadata": {
        "colab": {
          "base_uri": "https://localhost:8080/"
        },
        "id": "WiMXhCymjkj0",
        "outputId": "e9e741ec-92bb-44dd-95cd-e0a6e7fbd2a2"
      },
      "source": [
        "print(\"Classification Report:\")\n",
        "print(classification_report(y_test,pred_linear_count))"
      ],
      "execution_count": 64,
      "outputs": [
        {
          "output_type": "stream",
          "text": [
            "Classification Report:\n",
            "              precision    recall  f1-score   support\n",
            "\n",
            "           0       0.75      0.80      0.77       528\n",
            "           1       0.62      0.57      0.60       317\n",
            "\n",
            "    accuracy                           0.71       845\n",
            "   macro avg       0.69      0.68      0.68       845\n",
            "weighted avg       0.71      0.71      0.71       845\n",
            "\n"
          ],
          "name": "stdout"
        }
      ]
    },
    {
      "cell_type": "code",
      "metadata": {
        "id": "r1bTrAUT_eTT"
      },
      "source": [
        "  "
      ],
      "execution_count": null,
      "outputs": []
    }
  ]
}